{
 "cells": [
  {
   "cell_type": "code",
   "execution_count": 19,
   "metadata": {},
   "outputs": [],
   "source": [
    "import pandas as pd\n",
    "import numpy as np\n",
    "\n",
    "with open(\"./data/causal_inference.txt\", 'r') as f:\n",
    "    text = f.readlines()\n",
    "\n",
    "res = []\n",
    "for t in text:\n",
    "    res.append(list(map(int, t.strip('\\n').split(\" \")[:-1]))) # 最後空文字が入っている。\n",
    "#     print(t.strip('\\n').split(\" \")[:-1])"
   ]
  },
  {
   "cell_type": "code",
   "execution_count": 20,
   "metadata": {},
   "outputs": [],
   "source": [
    "ds = pd.DataFrame(res)\n",
    "ds.columns = [\"arm\", \"reward\"] + [f\"feat_{i}\" for i in range(100)]"
   ]
  },
  {
   "cell_type": "code",
   "execution_count": 21,
   "metadata": {},
   "outputs": [],
   "source": [
    "X = ds.loc[:, \"feat_0\":].values\n",
    "y = ds.loc[:, \"reward\"].values\n",
    "arms = ds.loc[:,\"arm\"].values"
   ]
  },
  {
   "cell_type": "code",
   "execution_count": 22,
   "metadata": {},
   "outputs": [],
   "source": [
    "from src.Arms import ContextualArms\n",
    "Arms = ContextualArms(\n",
    "    n_action=10, \n",
    "    max_n_sim=100, \n",
    "    X=X, \n",
    "    y=y,\n",
    "    ds=ds,\n",
    "    arms=arms, \n",
    "    n_features=X.shape[1], \n",
    "    is_logit=False)"
   ]
  },
  {
   "cell_type": "code",
   "execution_count": 23,
   "metadata": {},
   "outputs": [
    {
     "data": {
      "text/plain": [
       "26.782077393075355"
      ]
     },
     "execution_count": 23,
     "metadata": {},
     "output_type": "execute_result"
    }
   ],
   "source": [
    "Arms.draw()\n",
    "Arms.get_reward(1)"
   ]
  },
  {
   "cell_type": "code",
   "execution_count": 24,
   "metadata": {},
   "outputs": [
    {
     "data": {
      "text/plain": [
       "(2, 26.782077393075355)"
      ]
     },
     "execution_count": 24,
     "metadata": {},
     "output_type": "execute_result"
    }
   ],
   "source": [
    "Arms.best_arms()"
   ]
  },
  {
   "cell_type": "code",
   "execution_count": 25,
   "metadata": {},
   "outputs": [],
   "source": [
    "d = 100\n",
    "sigma=1; sigma_0=1\n",
    "A_inv =sigma_0/sigma * np.eye(d); A_inv\n",
    "b_t = np.zeros((d, 1))\n",
    "alpha = 0.05\n",
    "n_arms = 10\n",
    "n_sim = 1000\n",
    "# history = []\n",
    "history = dict(chosen_arms=[],rewards=[], regrets=[])"
   ]
  },
  {
   "cell_type": "code",
   "execution_count": null,
   "metadata": {},
   "outputs": [],
   "source": [
    "mu_hat = np.zeros((n_arms, 1))\n",
    "\n",
    "# LinUCBアルゴリズム\n",
    "for t in range(1, n_sim):\n",
    "    \n",
    "    # 3.\n",
    "    theta = A_inv@b_t \n",
    "    # calc alpha_t\n",
    "    alpha_t = alpha*np.sqrt(np.log(t))\n",
    "    # 4. A[t]はa_itの転置ver\n",
    "    \n",
    "    # 各行動で以下のUCB scoreを計算する。\n",
    "    # 各アームの特徴量を引く\n",
    "    # shape : (10, 1, 100) 10 arms, (1, 100)の特徴量ベクトル\n",
    "    # 1次元目にアーム１から10までの特徴量を順番に格納している。\n",
    "    A_ = Arms.draw()\n",
    "    for i in range(n_arms):\n",
    "        mu_hat[i] = np.dot(A_[i], theta) + alpha_t*sigma*np.sqrt(A_[i]@A_inv@A_[i].T)\n",
    "    i_star = mu_hat.argmax(0)[0]\n",
    "    history[\"chosen_arms\"].append(i_star)\n",
    "    \n",
    "    #5. スコア最大の行動 i*　を選択して報酬を観測する。\n",
    "    reward = Arms.get_reward(index=i_star)\n",
    "    history[\"rewards\"].append(reward)\n",
    "    # calculate regret\n",
    "    num_arm, best_reward = Arms.best_arms()\n",
    "    history[\"regrets\"].append(best_reward - reward)\n",
    "\n",
    "    a_is = A_[i_star, np.newaxis]\n",
    "    #6.  A-inverse/ bの更新をする。\n",
    "    second_term = (A_inv@a_is.T@a_is@A_inv) / (1+a_is@A_inv@a_is.T)\n",
    "    A_inv = A_inv - second_term\n",
    "    b_t += a_is.T*reward    "
   ]
  },
  {
   "cell_type": "code",
   "execution_count": null,
   "metadata": {},
   "outputs": [],
   "source": []
  },
  {
   "cell_type": "code",
   "execution_count": 16,
   "metadata": {},
   "outputs": [
    {
     "data": {
      "text/plain": [
       "array([ 1,  0, 31,  0,  0,  0,  0,  0,  0,  0,  0,  0,  0,  0,  0,  0,  0,\n",
       "        0, 14,  0, 22,  0,  0,  2,  0, 10,  0,  0,  0,  0,  0,  0,  0,  0,\n",
       "        0,  0,  0,  0,  0, 38,  0,  0,  1,  0,  6, 33,  1,  0, 10,  0,  8,\n",
       "        3,  0,  1,  4,  0,  0,  0,  0,  1,  0,  1,  1,  0, 56,  2,  0,  0,\n",
       "        4,  0,  0,  0,  1,  0, 20,  0,  0,  0,  1,  0,  0,  0,  0,  1,  0,\n",
       "        0,  0,  5,  0,  1,  0,  0,  6,  0,  1,  2,  0,  0,  0, 12])"
      ]
     },
     "execution_count": 16,
     "metadata": {},
     "output_type": "execute_result"
    }
   ],
   "source": [
    "A_[i_star].T"
   ]
  },
  {
   "cell_type": "code",
   "execution_count": null,
   "metadata": {},
   "outputs": [],
   "source": []
  },
  {
   "cell_type": "code",
   "execution_count": null,
   "metadata": {},
   "outputs": [],
   "source": [
    "\n"
   ]
  }
 ],
 "metadata": {
  "kernelspec": {
   "display_name": "Python 3",
   "language": "python",
   "name": "python3"
  },
  "language_info": {
   "codemirror_mode": {
    "name": "ipython",
    "version": 3
   },
   "file_extension": ".py",
   "mimetype": "text/x-python",
   "name": "python",
   "nbconvert_exporter": "python",
   "pygments_lexer": "ipython3",
   "version": "3.7.4"
  }
 },
 "nbformat": 4,
 "nbformat_minor": 2
}
