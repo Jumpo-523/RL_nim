{
 "cells": [
  {
   "cell_type": "code",
   "execution_count": 5,
   "metadata": {},
   "outputs": [],
   "source": [
    "with open(\"./data/causal_inference.txt\", 'r') as f:\n",
    "    text = f.readlines()"
   ]
  },
  {
   "cell_type": "code",
   "execution_count": 6,
   "metadata": {},
   "outputs": [],
   "source": [
    "res = []\n",
    "for t in text:\n",
    "    res.append(list(map(int, t.strip('\\n').split(\" \")[:-1]))) # 最後空文字が入っている。\n",
    "#     print(t.strip('\\n').split(\" \")[:-1])"
   ]
  },
  {
   "cell_type": "markdown",
   "metadata": {},
   "source": [
    "# コロンビア大学で用いられているサンプルデータセット\n",
    "http://www.cs.columbia.edu/~jebara/6998/hw2.pdf\n",
    "\n",
    "- the 1st column is the chosen arm\n",
    "- the 2nd column is binary reward \n",
    "- the remaining columns are the context features."
   ]
  },
  {
   "cell_type": "code",
   "execution_count": 7,
   "metadata": {},
   "outputs": [],
   "source": [
    "ds = pd.DataFrame(res)\n",
    "ds.columns = [\"arm\", \"reward\"] + [f\"feat_{i}\" for i in range(100)]"
   ]
  },
  {
   "cell_type": "code",
   "execution_count": 16,
   "metadata": {},
   "outputs": [],
   "source": [
    "X = ds.loc[:, \"feat_0\":].values\n",
    "y = ds.loc[:, \"reward\"].values\n",
    "arms = ds.loc[:,\"arm\"].values"
   ]
  },
  {
   "cell_type": "markdown",
   "metadata": {},
   "source": [
    "### Reward の分布はこんな感じ"
   ]
  },
  {
   "cell_type": "code",
   "execution_count": 142,
   "metadata": {},
   "outputs": [
    {
     "data": {
      "text/plain": [
       "2.0588235294117645"
      ]
     },
     "execution_count": 142,
     "metadata": {},
     "output_type": "execute_result"
    },
    {
     "data": {
      "image/png": "[encoded data removed]",
      "text/plain": [
       "<Figure size 432x288 with 1 Axes>"
      ]
     },
     "metadata": {
      "needs_background": "light"
     },
     "output_type": "display_data"
    }
   ],
   "source": [
    "ds.groupby(\"arm\").mean()[\"reward\"].plot(kind=\"bar\")\n",
    "(ds.groupby(\"arm\").mean()[\"reward\"]*100).iloc[0]"
   ]
  },
  {
   "cell_type": "code",
   "execution_count": 143,
   "metadata": {},
   "outputs": [],
   "source": [
    "#action = 3\n",
    "# reward = 1 if y==2 else 0\n",
    "class ContextualArms(object):\n",
    "    def __init__(self,\n",
    "                 n_action,\n",
    "                 max_n_sim, \n",
    "                 X, y=None,\n",
    "                 arms=None,\n",
    "                 n_features=4,\n",
    "                ):\n",
    "        self.X = X\n",
    "        self.y = y\n",
    "        self.arms = arms\n",
    "        self.n_action = n_action\n",
    "        self.max_n_sim = max_n_sim\n",
    "        self.t_count = 0\n",
    "        self.current_samples_idxs = None\n",
    "    def __len__(self):\n",
    "        return self.n_action\n",
    "\n",
    "    def reset(self):\n",
    "        self.t_count = 0\n",
    "\n",
    "    def draw(self):\n",
    "        assert self.X is not None  and self.y is not None\n",
    "        res = {}\n",
    "        retrieve_indices = []\n",
    "        for a in range(1, self.n_action+1):\n",
    "            arm_a_idx_list = list(np.where(self.arms == a)[0])\n",
    "            idx_a = random.sample(arm_a_idx_list, 1)\n",
    "            retrieve_indices.append(idx_a)\n",
    "        # FOR DEBUG\n",
    "        #self.temp = retrieve_indices\n",
    "        res = self.X[retrieve_indices, :]\n",
    "        \n",
    "        self.current_samples_idxs = list(itertools.chain.from_iterable(retrieve_indices))\n",
    "        return res\n",
    "    def get_reward(self, index):\n",
    "        \"\"\"\n",
    "        rewardが0,1の値をとる確率変数でわかりずらかったため、試しにdetermined valued rewardを与える。\n",
    "        \"\"\"\n",
    "        return (ds.groupby(\"arm\").mean()[\"reward\"]*100).iloc[index]\n",
    "#         return self.y[self.current_samples_idxs[index]]"
   ]
  },
  {
   "cell_type": "code",
   "execution_count": null,
   "metadata": {},
   "outputs": [],
   "source": [
    "import itertools, os\n",
    "os.listdir()\n"
   ]
  },
  {
   "cell_type": "code",
   "execution_count": 145,
   "metadata": {},
   "outputs": [],
   "source": [
    "Arms = ContextualArms(n_action=10, max_n_sim=100, X=X, y=y,arms=arms, n_features=X.shape[1])"
   ]
  },
  {
   "cell_type": "code",
   "execution_count": 148,
   "metadata": {},
   "outputs": [
    {
     "data": {
      "text/plain": [
       "(10, 1, 100)"
      ]
     },
     "execution_count": 148,
     "metadata": {},
     "output_type": "execute_result"
    }
   ],
   "source": [
    "import random\n",
    "\n",
    "Arms.draw().shape\n"
   ]
  },
  {
   "cell_type": "code",
   "execution_count": 149,
   "metadata": {},
   "outputs": [
    {
     "data": {
      "text/plain": [
       "26.782077393075355"
      ]
     },
     "execution_count": 149,
     "metadata": {},
     "output_type": "execute_result"
    }
   ],
   "source": [
    "Arms.get_reward(1)"
   ]
  },
  {
   "cell_type": "code",
   "execution_count": 150,
   "metadata": {},
   "outputs": [
    {
     "data": {
      "text/plain": [
       "[4824, 5462, 7676, 3984, 9940, 1525, 5330, 4256, 161, 7385]"
      ]
     },
     "execution_count": 150,
     "metadata": {},
     "output_type": "execute_result"
    }
   ],
   "source": [
    "list(Arms.current_samples_idxs)"
   ]
  },
  {
   "cell_type": "code",
   "execution_count": 111,
   "metadata": {},
   "outputs": [],
   "source": [
    "A = ds.loc[:, \"feat_0\":].values"
   ]
  },
  {
   "cell_type": "code",
   "execution_count": 112,
   "metadata": {},
   "outputs": [],
   "source": [
    "class LinUCB(object):\n",
    "    \n",
    "    def __init__(self, sigma=1, sigma_0=1):\n",
    "        \n",
    "        pass"
   ]
  },
  {
   "cell_type": "markdown",
   "metadata": {},
   "source": [
    "## LinUCB方策(アルゴリズム 7.1)"
   ]
  },
  {
   "cell_type": "markdown",
   "metadata": {},
   "source": [
    "うーんよくわからんかった。\n",
    "A_aはそれぞれの選択肢aにおける特徴量の分散行列で、p_atはpredicted valueのXX%信頼区間の上限値？かな？()\n",
    "$\\sqrt{x_{t,a}^TA_a^{-1}x_{t, a}}$、$theta$の分散が$V[\\hat{\\theta_a}] = \\sigma^2 A^{-1}_a$となる事から求められる。\n",
    "選んだ選択肢に関してだけ勾配降下法同じく更新してあげる。\n",
    "次の期へ進む。\n",
    "\n",
    "<img src=\"LinUBC.png\" size=0.1>"
   ]
  },
  {
   "cell_type": "code",
   "execution_count": 168,
   "metadata": {},
   "outputs": [],
   "source": [
    "d = 100\n",
    "sigma=1; sigma_0=1\n",
    "A_inv =sigma_0/sigma * np.eye(d); A_inv\n",
    "b_t = np.zeros((d, 1))\n",
    "alpha = 0.05\n",
    "n_arms = 10\n",
    "n_sim = 100000\n",
    "history = []"
   ]
  },
  {
   "cell_type": "code",
   "execution_count": 169,
   "metadata": {},
   "outputs": [],
   "source": [
    "# LinUCBアルゴリズム\n",
    "for t in range(1, n_sim):\n",
    "    mu_hat = np.zeros((n_arms, 1))\n",
    "    # 3.\n",
    "    theta = A_inv@b_t \n",
    "    # calc alpha_t\n",
    "    alpha_t = alpha*np.sqrt(np.log(t))\n",
    "    # 4. A[t]はa_itの転置ver\n",
    "    \n",
    "    # 各行動で以下のUCB scoreを計算する。\n",
    "    # 各アームの特徴量を引く\n",
    "    # shape : (10, 1, 100) 10 arms, (1, 100)の特徴量ベクトル\n",
    "    # 1次元目にアーム１から10までの特徴量を順番に格納している。\n",
    "    A_ = Arms.draw()\n",
    "    for i in range(n_arms):\n",
    "        mu_hat[i] = np.dot(A_[i], theta) + alpha_t*sigma*np.sqrt(A_[i]@A_inv@A_[i].T)\n",
    "    i_star = mu_hat.argmax(0)[0]\n",
    "    history.append(i_star)\n",
    "    #5. スコア最大の行動 i*　を選択して報酬を観測する。\n",
    "    reward = Arms.get_reward(index=i_star)\n",
    "    #6.  A-inverse/ bの更新をする。\n",
    "    second_term = (A_inv@A_[i_star].T@A_[i_star]@A_inv) / (1+A_[i_star]@A_inv@A_[i_star].T)\n",
    "    A_inv = A_inv - second_term\n",
    "    b_t += A_[i_star].T*reward    "
   ]
  },
  {
   "cell_type": "code",
   "execution_count": 170,
   "metadata": {},
   "outputs": [
    {
     "data": {
      "text/plain": [
       "<matplotlib.axes._subplots.AxesSubplot at 0x12a6d9f50>"
      ]
     },
     "execution_count": 170,
     "metadata": {},
     "output_type": "execute_result"
    },
    {
     "data": {
      "image/png": "[encoded data removed]",
      "text/plain": [
       "<Figure size 432x288 with 1 Axes>"
      ]
     },
     "metadata": {
      "needs_background": "light"
     },
     "output_type": "display_data"
    }
   ],
   "source": [
    "import seaborn as sns\n",
    "sns.countplot(x=\"chosen_arm\", data=pd.DataFrame(history, columns=[\"chosen_arm\"]))"
   ]
  },
  {
   "cell_type": "code",
   "execution_count": 167,
   "metadata": {},
   "outputs": [
    {
     "data": {
      "text/plain": [
       "<matplotlib.axes._subplots.AxesSubplot at 0x12a757b50>"
      ]
     },
     "execution_count": 167,
     "metadata": {},
     "output_type": "execute_result"
    },
    {
     "data": {
      "image/png": "[encoded data removed]",
      "text/plain": [
       "<Figure size 432x288 with 1 Axes>"
      ]
     },
     "metadata": {
      "needs_background": "light"
     },
     "output_type": "display_data"
    }
   ],
   "source": [
    "ds.groupby(\"arm\").mean()[\"reward\"].plot(kind=\"bar\")"
   ]
  },
  {
   "cell_type": "markdown",
   "metadata": {},
   "source": [
    "reward高いアームを選べるように学習できている！"
   ]
  },
  {
   "cell_type": "markdown",
   "metadata": {},
   "source": [
    "### Thompson Sampling\n",
    "\n",
    "$X_i(t) = \\theta^Ta_{i,t} + \\epsilon(t)$\n",
    "\n",
    "$\\epsilon(t) \\sim N(., \\sigma^2)$\n",
    "\n",
    "今、$\\theta$の事前分布を$\\pi(\\theta) = N(0, I_d)$ とすると、**各時刻に行動して報酬列を得た際の$\\theta$の事後分布は...**\n",
    "\n",
    "$\\displaystyle \\pi(\\theta| \\{i(s), X(s)\\}^t_{s=1} )\\propto \\exp( - \\frac{1}{2\\sigma^2} (\\theta - A_t^{-1}b_t)^TA_t(\\theta - A_t^{-1}b_t))$\n",
    "\n",
    "これは、$\\theta$の事後分布が、$N(A^{-1}b, \\sigma^2A^{-1})$であることをしている。\n",
    "\n",
    "#### psuedo code\n",
    "\n",
    "- input: $\\sigma^2$\n",
    "- param: $\\sigma_0^2 > 0$\n",
    "\n",
    "1. $A^{-1} \\leftarrow \\frac{\\sigma_0^2}{\\sigma^2} I_d, b \\leftarrow 0_d$\n",
    "2. **for t=1,2, ... ,T**\n",
    "3. $\\tilde{\\theta}$を多変量正規分布$N(A^{-1}b, \\sigma^2A^{-1})$から生成\n",
    "4. $ i \\leftarrow argmax_i \\tilde{\\theta}^T a_{i,t}$を選択して報酬X(t)を観測\n",
    "5. LinUCBと同じA_inv, b_tの更新\n",
    "6. **end for**\n"
   ]
  },
  {
   "cell_type": "code",
   "execution_count": null,
   "metadata": {},
   "outputs": [],
   "source": []
  },
  {
   "cell_type": "code",
   "execution_count": 187,
   "metadata": {},
   "outputs": [],
   "source": [
    "# (sigma**2*A_inv).shape\n"
   ]
  },
  {
   "cell_type": "code",
   "execution_count": 198,
   "metadata": {},
   "outputs": [],
   "source": [
    "# np.exp(-np.diag((x - mu)@inv@(x - mu).T)/2.0) / (np.sqrt((2 * np.pi) ** n * det))\n",
    "from scipy.stats import multivariate_normal\n"
   ]
  },
  {
   "cell_type": "code",
   "execution_count": 209,
   "metadata": {},
   "outputs": [],
   "source": [
    "d = 100\n",
    "sigma=1; sigma_0=1\n",
    "A_inv =sigma_0/sigma * np.eye(d); A_inv\n",
    "b_t = np.zeros((d, 1))\n",
    "alpha = 0.05\n",
    "n_arms = 10\n",
    "n_sim = 100000\n",
    "history = []"
   ]
  },
  {
   "cell_type": "code",
   "execution_count": null,
   "metadata": {
    "scrolled": true
   },
   "outputs": [],
   "source": [
    "#  Thompson sampling アルゴリズム\n",
    "for t in range(1, n_sim):\n",
    "    # 3. draw_theta\n",
    "    theta = np.random.multivariate_normal(A_inv@b_t.flatten(), sigma**2*A_inv, size=1)\n",
    "    # 4. A[t]はa_itの転置ver\n",
    "    # 各アームの特徴量を引く\n",
    "    # shape : (10, 1, 100) 10 arms, (1, 100)の特徴量ベクトル\n",
    "    # 1次元目にアーム１から10までの特徴量を順番に格納している。\n",
    "    A_ = Arms.draw()\n",
    "    for i in range(n_arms):\n",
    "        mu_hat[i] = np.dot(A_[i].ravel(), theta.ravel())\n",
    "    i_star = mu_hat.argmax(0)[0]\n",
    "    history.append(i_star)\n",
    "\n",
    "    #5. スコア最大の行動 i*　を選択して報酬を観測する。\n",
    "    reward = Arms.get_reward(index=i_star)\n",
    "    #6.  A-inverse/ bの更新をする。\n",
    "    second_term = (A_inv@A_[i_star].T@A_[i_star]@A_inv) / (1+A_[i_star]@A_inv@A_[i_star].T)\n",
    "    A_inv = A_inv - second_term\n",
    "    b_t += A_[i_star].T*reward    "
   ]
  },
  {
   "cell_type": "code",
   "execution_count": null,
   "metadata": {},
   "outputs": [],
   "source": [
    "sns.countplot(x=\"chosen_arm\", data=pd.DataFrame(history, columns=[\"chosen_arm\"]))"
   ]
  },
  {
   "cell_type": "code",
   "execution_count": null,
   "metadata": {},
   "outputs": [],
   "source": []
  },
  {
   "cell_type": "code",
   "execution_count": null,
   "metadata": {},
   "outputs": [],
   "source": []
  },
  {
   "cell_type": "code",
   "execution_count": null,
   "metadata": {},
   "outputs": [],
   "source": []
  },
  {
   "cell_type": "markdown",
   "metadata": {},
   "source": [
    "## 以下、scraps"
   ]
  },
  {
   "cell_type": "code",
   "execution_count": 173,
   "metadata": {},
   "outputs": [
    {
     "data": {
      "text/plain": [
       "array([[1.92409161e+08, 7.08901000e+05, 1.29623500e+06, ...,\n",
       "        1.00425740e+07, 2.64960000e+04, 1.41127600e+06],\n",
       "       [7.08901000e+05, 1.44640900e+06, 8.06063000e+05, ...,\n",
       "        5.59300000e+04, 3.33080000e+04, 7.01218000e+05],\n",
       "       [1.29623500e+06, 8.06063000e+05, 1.55844780e+07, ...,\n",
       "        4.07379000e+05, 1.09270000e+04, 4.46388100e+06],\n",
       "       ...,\n",
       "       [1.00425740e+07, 5.59300000e+04, 4.07379000e+05, ...,\n",
       "        5.78106100e+06, 2.54524000e+05, 2.90020000e+05],\n",
       "       [2.64960000e+04, 3.33080000e+04, 1.09270000e+04, ...,\n",
       "        2.54524000e+05, 2.94302000e+05, 1.55638000e+05],\n",
       "       [1.41127600e+06, 7.01218000e+05, 4.46388100e+06, ...,\n",
       "        2.90020000e+05, 1.55638000e+05, 2.53612000e+06]])"
      ]
     },
     "execution_count": 173,
     "metadata": {},
     "output_type": "execute_result"
    }
   ],
   "source": [
    "np.linalg.inv(A_inv)"
   ]
  },
  {
   "cell_type": "code",
   "execution_count": null,
   "metadata": {},
   "outputs": [],
   "source": []
  },
  {
   "cell_type": "code",
   "execution_count": null,
   "metadata": {},
   "outputs": [],
   "source": []
  },
  {
   "cell_type": "code",
   "execution_count": 25,
   "metadata": {},
   "outputs": [
    {
     "ename": "NameError",
     "evalue": "name 'contextual' is not defined",
     "output_type": "error",
     "traceback": [
      "\u001b[0;31m---------------------------------------------------------------------------\u001b[0m",
      "\u001b[0;31mNameError\u001b[0m                                 Traceback (most recent call last)",
      "\u001b[0;32m<ipython-input-25-455bc77676b0>\u001b[0m in \u001b[0;36m<module>\u001b[0;34m\u001b[0m\n\u001b[0;32m----> 1\u001b[0;31m \u001b[0mcontextual\u001b[0m\u001b[0;34m.\u001b[0m\u001b[0mdraw\u001b[0m\u001b[0;34m(\u001b[0m\u001b[0;34m)\u001b[0m\u001b[0;34m\u001b[0m\u001b[0;34m\u001b[0m\u001b[0m\n\u001b[0m",
      "\u001b[0;31mNameError\u001b[0m: name 'contextual' is not defined"
     ]
    }
   ],
   "source": [
    "contextual.draw()"
   ]
  },
  {
   "cell_type": "code",
   "execution_count": 26,
   "metadata": {},
   "outputs": [],
   "source": [
    "class EpsilonGreedyAgent():\n",
    "\n",
    "    def __init__(self, epsilon):\n",
    "        self.epsilon = epsilon\n",
    "        self.V = []\n",
    "\n",
    "    def policy(self):\n",
    "        coins = range(len(self.V))\n",
    "        if random.random() < self.epsilon:\n",
    "            return random.choice(coins)\n",
    "        else:\n",
    "            return np.argmax(self.V)\n",
    "\n",
    "    def play(self, env):\n",
    "        # Initialize estimation.\n",
    "        N = [0] * len(env)\n",
    "        self.V = [0] * len(env)\n",
    "\n",
    "        env.reset()\n",
    "        done = False\n",
    "        rewards = []\n",
    "        while not done:\n",
    "            selected_coin = self.policy()\n",
    "            reward, done = env.step(selected_coin)\n",
    "            rewards.append(reward)\n",
    "\n",
    "            n = N[selected_coin]\n",
    "            coin_average = self.V[selected_coin]\n",
    "            new_average = (coin_average * n + reward) / (n + 1)\n",
    "            N[selected_coin] += 1\n",
    "            self.V[selected_coin] = new_average\n",
    "\n",
    "        return rewards\n"
   ]
  },
  {
   "cell_type": "code",
   "execution_count": 27,
   "metadata": {},
   "outputs": [
    {
     "ename": "NameError",
     "evalue": "name 'ContextualBandit' is not defined",
     "output_type": "error",
     "traceback": [
      "\u001b[0;31m---------------------------------------------------------------------------\u001b[0m",
      "\u001b[0;31mNameError\u001b[0m                                 Traceback (most recent call last)",
      "\u001b[0;32m<ipython-input-27-7adfe80c51b5>\u001b[0m in \u001b[0;36m<module>\u001b[0;34m\u001b[0m\n\u001b[1;32m     18\u001b[0m     \u001b[0mplt\u001b[0m\u001b[0;34m.\u001b[0m\u001b[0mshow\u001b[0m\u001b[0;34m(\u001b[0m\u001b[0;34m)\u001b[0m\u001b[0;34m\u001b[0m\u001b[0;34m\u001b[0m\u001b[0m\n\u001b[1;32m     19\u001b[0m \u001b[0;34m\u001b[0m\u001b[0m\n\u001b[0;32m---> 20\u001b[0;31m \u001b[0mmain\u001b[0m\u001b[0;34m(\u001b[0m\u001b[0;34m)\u001b[0m\u001b[0;34m\u001b[0m\u001b[0;34m\u001b[0m\u001b[0m\n\u001b[0m",
      "\u001b[0;32m<ipython-input-27-7adfe80c51b5>\u001b[0m in \u001b[0;36mmain\u001b[0;34m()\u001b[0m\n\u001b[1;32m      1\u001b[0m \u001b[0;32mdef\u001b[0m \u001b[0mmain\u001b[0m\u001b[0;34m(\u001b[0m\u001b[0;34m)\u001b[0m\u001b[0;34m:\u001b[0m\u001b[0;34m\u001b[0m\u001b[0;34m\u001b[0m\u001b[0m\n\u001b[0;32m----> 2\u001b[0;31m     \u001b[0menv\u001b[0m \u001b[0;34m=\u001b[0m \u001b[0mContextualBandit\u001b[0m\u001b[0;34m(\u001b[0m\u001b[0mn_action\u001b[0m\u001b[0;34m=\u001b[0m\u001b[0;36m3\u001b[0m\u001b[0;34m,\u001b[0m \u001b[0mmax_n_sim\u001b[0m\u001b[0;34m=\u001b[0m\u001b[0;36m10000\u001b[0m\u001b[0;34m,\u001b[0m \u001b[0msimulation_dataset\u001b[0m\u001b[0;34m=\u001b[0m\u001b[0;34m(\u001b[0m\u001b[0mX\u001b[0m\u001b[0;34m,\u001b[0m \u001b[0my\u001b[0m\u001b[0;34m)\u001b[0m\u001b[0;34m)\u001b[0m\u001b[0;31m#CoinToss([0.1, 0.5, 0.1, 0.9, 0.1])\u001b[0m\u001b[0;34m\u001b[0m\u001b[0;34m\u001b[0m\u001b[0m\n\u001b[0m\u001b[1;32m      3\u001b[0m     \u001b[0mepsilons\u001b[0m \u001b[0;34m=\u001b[0m \u001b[0;34m[\u001b[0m\u001b[0;36m0.0\u001b[0m\u001b[0;34m,\u001b[0m \u001b[0;36m0.01\u001b[0m\u001b[0;34m,\u001b[0m \u001b[0;36m0.2\u001b[0m\u001b[0;34m,\u001b[0m \u001b[0;36m0.5\u001b[0m\u001b[0;34m,\u001b[0m \u001b[0;36m0.8\u001b[0m\u001b[0;34m]\u001b[0m\u001b[0;34m\u001b[0m\u001b[0;34m\u001b[0m\u001b[0m\n\u001b[1;32m      4\u001b[0m     \u001b[0mgame_steps\u001b[0m \u001b[0;34m=\u001b[0m \u001b[0mlist\u001b[0m\u001b[0;34m(\u001b[0m\u001b[0mrange\u001b[0m\u001b[0;34m(\u001b[0m\u001b[0;36m10\u001b[0m\u001b[0;34m,\u001b[0m \u001b[0;36m310\u001b[0m\u001b[0;34m,\u001b[0m \u001b[0;36m10\u001b[0m\u001b[0;34m)\u001b[0m\u001b[0;34m)\u001b[0m\u001b[0;34m\u001b[0m\u001b[0;34m\u001b[0m\u001b[0m\n\u001b[1;32m      5\u001b[0m     \u001b[0mresult\u001b[0m \u001b[0;34m=\u001b[0m \u001b[0;34m{\u001b[0m\u001b[0;34m}\u001b[0m\u001b[0;34m\u001b[0m\u001b[0;34m\u001b[0m\u001b[0m\n",
      "\u001b[0;31mNameError\u001b[0m: name 'ContextualBandit' is not defined"
     ]
    }
   ],
   "source": [
    "def main():\n",
    "    env = ContextualBandit(n_action=3, max_n_sim=10000, simulation_dataset=(X, y))#CoinToss([0.1, 0.5, 0.1, 0.9, 0.1])\n",
    "    epsilons = [0.0, 0.01, 0.2, 0.5, 0.8]\n",
    "    game_steps = list(range(10, 310, 10))\n",
    "    result = {}\n",
    "    for e in epsilons:\n",
    "        agent = EpsilonGreedyAgent(epsilon=e)\n",
    "        means = []\n",
    "        for s in game_steps:\n",
    "            env.max_episode_steps = s\n",
    "            rewards = agent.play(env)\n",
    "            means.append(np.mean(rewards))\n",
    "        result[\"epsilon={}\".format(e)] = means\n",
    "    result[\"coin toss count\"] = game_steps\n",
    "    result = pd.DataFrame(result)\n",
    "    result.set_index(\"coin toss count\", drop=True, inplace=True)\n",
    "    result.plot.line(figsize=(10, 5))\n",
    "    plt.show()\n",
    "\n",
    "main()"
   ]
  },
  {
   "cell_type": "markdown",
   "metadata": {},
   "source": [
    "## 結果\n",
    "- 全てのarmの探索ができたagentは必ず1を返すarm(virginica)を選択できている。(epsilon=0.0を除く)\n",
    "- 探索する割合が固定なので、期待値はそれぞれのagentで 1- epsilonの大きさを反映したものなっている。（？）"
   ]
  },
  {
   "cell_type": "code",
   "execution_count": 28,
   "metadata": {},
   "outputs": [],
   "source": [
    "import numpy as np"
   ]
  },
  {
   "cell_type": "markdown",
   "metadata": {},
   "source": [
    "### contextual Banditのagentを作成する。"
   ]
  },
  {
   "cell_type": "code",
   "execution_count": 99,
   "metadata": {},
   "outputs": [
    {
     "data": {
      "text/html": [
       "<div>\n",
       "<style scoped>\n",
       "    .dataframe tbody tr th:only-of-type {\n",
       "        vertical-align: middle;\n",
       "    }\n",
       "\n",
       "    .dataframe tbody tr th {\n",
       "        vertical-align: top;\n",
       "    }\n",
       "\n",
       "    .dataframe thead th {\n",
       "        text-align: right;\n",
       "    }\n",
       "</style>\n",
       "<table border=\"1\" class=\"dataframe\">\n",
       "  <thead>\n",
       "    <tr style=\"text-align: right;\">\n",
       "      <th></th>\n",
       "      <th>0</th>\n",
       "      <th>1</th>\n",
       "      <th>2</th>\n",
       "    </tr>\n",
       "  </thead>\n",
       "  <tbody>\n",
       "    <tr>\n",
       "      <th>0</th>\n",
       "      <td>5.1</td>\n",
       "      <td>6.4</td>\n",
       "      <td>7.1</td>\n",
       "    </tr>\n",
       "    <tr>\n",
       "      <th>1</th>\n",
       "      <td>3.5</td>\n",
       "      <td>3.2</td>\n",
       "      <td>3.0</td>\n",
       "    </tr>\n",
       "    <tr>\n",
       "      <th>2</th>\n",
       "      <td>1.4</td>\n",
       "      <td>4.5</td>\n",
       "      <td>5.9</td>\n",
       "    </tr>\n",
       "    <tr>\n",
       "      <th>3</th>\n",
       "      <td>0.2</td>\n",
       "      <td>1.5</td>\n",
       "      <td>2.1</td>\n",
       "    </tr>\n",
       "  </tbody>\n",
       "</table>\n",
       "</div>"
      ],
      "text/plain": [
       "     0    1    2\n",
       "0  5.1  6.4  7.1\n",
       "1  3.5  3.2  3.0\n",
       "2  1.4  4.5  5.9\n",
       "3  0.2  1.5  2.1"
      ]
     },
     "execution_count": 99,
     "metadata": {},
     "output_type": "execute_result"
    }
   ],
   "source": [
    "pd.DataFrame(contextual.draw())"
   ]
  },
  {
   "cell_type": "code",
   "execution_count": 138,
   "metadata": {},
   "outputs": [],
   "source": [
    "# とりあえず作ってみた。\n",
    "class LinUCB(object):\n",
    "    def __init__(self, ContextualEnv):\n",
    "        self.alpha =0.1\n",
    "        self.sigma = 0.5\n",
    "        pass\n",
    "    \n",
    "    def initialize(self, env):\n",
    "        self.d = env.n_features\n",
    "        self.inv_A = np.eye(self.d)\n",
    "        self.b = np.zeros((self.d,1))\n",
    "\n",
    "    def policy(self, env):\n",
    "        # get action\n",
    "        theta = self.inv_A@self.b\n",
    "        # calculate UCBscore\n",
    "        alpha = self.alpha * np.sqrt(np.log1p(env.t_count))\n",
    "        a_t = pd.DataFrame(env.draw()).values.T # n_features * n_actions\n",
    "        UCBscore = a_t@theta + np.diag(self.alpha*self.sigma*np.sqrt(a_t@self.inv_A@a_t.T)).reshape((-1, 1))\n",
    "        print(UCBscore)\n",
    "        action = np.argmax(UCBscore)\n",
    "        print(action)   \n",
    "        chosen_features = a_t.loc[:, action].values\n",
    "        return action , chosen_features\n",
    "    def update(self, features, reward):\n",
    "        # woodbury's identity\n",
    "        self.inv_A += (inv_A@features@features.T@inv_A)/(1 + features.T@inv_A@features)\n",
    "        self.b = self.b + features*reward\n",
    "        \n",
    "    def play(self, env):\n",
    "        # Initialize estimation.\n",
    "        rewards = []\n",
    "        # while not done:\n",
    "        self.initialize()\n",
    "        env.reset()\n",
    "        action, features = self.policy(env)\n",
    "        reward, done = env.step(action) \n",
    "        self.update(features, reward)\n",
    "        rewards.append(reward)\n",
    "        return rewards\n",
    "    "
   ]
  },
  {
   "cell_type": "code",
   "execution_count": 127,
   "metadata": {},
   "outputs": [],
   "source": [
    "agent = LinUCB()\n",
    "agent.initialize(contextual)"
   ]
  },
  {
   "cell_type": "code",
   "execution_count": 128,
   "metadata": {},
   "outputs": [],
   "source": [
    "agent.__dict__\n",
    "self = agent"
   ]
  },
  {
   "cell_type": "code",
   "execution_count": 135,
   "metadata": {},
   "outputs": [
    {
     "name": "stdout",
     "output_type": "stream",
     "text": [
      "[[10.2]\n",
      " [15.6]\n",
      " [18.1]]\n",
      "2\n"
     ]
    }
   ],
   "source": []
  },
  {
   "cell_type": "code",
   "execution_count": 133,
   "metadata": {},
   "outputs": [
    {
     "data": {
      "text/plain": [
       "array([[0., 0., 0.],\n",
       "       [0., 0., 0.],\n",
       "       [0., 0., 0.]])"
      ]
     },
     "execution_count": 133,
     "metadata": {},
     "output_type": "execute_result"
    }
   ],
   "source": []
  },
  {
   "cell_type": "code",
   "execution_count": 107,
   "metadata": {},
   "outputs": [],
   "source": [
    "# a_it ベクトルを生成するコード\n",
    "a_t = pd.DataFrame(contextual.draw()).values.T # n_features * n_actions\n",
    "# a_t (#actions * #features)"
   ]
  },
  {
   "cell_type": "code",
   "execution_count": 109,
   "metadata": {},
   "outputs": [
    {
     "name": "stdout",
     "output_type": "stream",
     "text": [
      "[[10.2]\n",
      " [15.6]\n",
      " [18.1]]\n"
     ]
    },
    {
     "data": {
      "text/plain": [
       "2"
      ]
     },
     "execution_count": 109,
     "metadata": {},
     "output_type": "execute_result"
    }
   ],
   "source": [
    "# stab\n",
    "theta = np.ones((4, 1))\n",
    "UCBscore = a_t@theta;print(UCBscore)\n",
    "action = np.argmax(UCBscore)\n",
    "action"
   ]
  },
  {
   "cell_type": "code",
   "execution_count": 111,
   "metadata": {},
   "outputs": [
    {
     "data": {
      "text/plain": [
       "array([1., 1., 1., 1.])"
      ]
     },
     "execution_count": 111,
     "metadata": {},
     "output_type": "execute_result"
    }
   ],
   "source": [
    "np.diag(np.eye(4))"
   ]
  },
  {
   "cell_type": "code",
   "execution_count": null,
   "metadata": {},
   "outputs": [],
   "source": []
  },
  {
   "cell_type": "code",
   "execution_count": 10,
   "metadata": {},
   "outputs": [
    {
     "data": {
      "text/plain": [
       "array([[5.1, 3.5, 1.4, 0.2],\n",
       "       [4.9, 3. , 1.4, 0.2],\n",
       "       [4.7, 3.2, 1.3, 0.2],\n",
       "       [4.6, 3.1, 1.5, 0.2],\n",
       "       [5. , 3.6, 1.4, 0.2],\n",
       "       [5.4, 3.9, 1.7, 0.4],\n",
       "       [4.6, 3.4, 1.4, 0.3],\n",
       "       [5. , 3.4, 1.5, 0.2],\n",
       "       [4.4, 2.9, 1.4, 0.2],\n",
       "       [4.9, 3.1, 1.5, 0.1],\n",
       "       [5.4, 3.7, 1.5, 0.2],\n",
       "       [4.8, 3.4, 1.6, 0.2],\n",
       "       [4.8, 3. , 1.4, 0.1],\n",
       "       [4.3, 3. , 1.1, 0.1],\n",
       "       [5.8, 4. , 1.2, 0.2],\n",
       "       [5.7, 4.4, 1.5, 0.4],\n",
       "       [5.4, 3.9, 1.3, 0.4],\n",
       "       [5.1, 3.5, 1.4, 0.3],\n",
       "       [5.7, 3.8, 1.7, 0.3],\n",
       "       [5.1, 3.8, 1.5, 0.3],\n",
       "       [5.4, 3.4, 1.7, 0.2],\n",
       "       [5.1, 3.7, 1.5, 0.4],\n",
       "       [4.6, 3.6, 1. , 0.2],\n",
       "       [5.1, 3.3, 1.7, 0.5],\n",
       "       [4.8, 3.4, 1.9, 0.2],\n",
       "       [5. , 3. , 1.6, 0.2],\n",
       "       [5. , 3.4, 1.6, 0.4],\n",
       "       [5.2, 3.5, 1.5, 0.2],\n",
       "       [5.2, 3.4, 1.4, 0.2],\n",
       "       [4.7, 3.2, 1.6, 0.2],\n",
       "       [4.8, 3.1, 1.6, 0.2],\n",
       "       [5.4, 3.4, 1.5, 0.4],\n",
       "       [5.2, 4.1, 1.5, 0.1],\n",
       "       [5.5, 4.2, 1.4, 0.2],\n",
       "       [4.9, 3.1, 1.5, 0.2],\n",
       "       [5. , 3.2, 1.2, 0.2],\n",
       "       [5.5, 3.5, 1.3, 0.2],\n",
       "       [4.9, 3.6, 1.4, 0.1],\n",
       "       [4.4, 3. , 1.3, 0.2],\n",
       "       [5.1, 3.4, 1.5, 0.2],\n",
       "       [5. , 3.5, 1.3, 0.3],\n",
       "       [4.5, 2.3, 1.3, 0.3],\n",
       "       [4.4, 3.2, 1.3, 0.2],\n",
       "       [5. , 3.5, 1.6, 0.6],\n",
       "       [5.1, 3.8, 1.9, 0.4],\n",
       "       [4.8, 3. , 1.4, 0.3],\n",
       "       [5.1, 3.8, 1.6, 0.2],\n",
       "       [4.6, 3.2, 1.4, 0.2],\n",
       "       [5.3, 3.7, 1.5, 0.2],\n",
       "       [5. , 3.3, 1.4, 0.2],\n",
       "       [7. , 3.2, 4.7, 1.4],\n",
       "       [6.4, 3.2, 4.5, 1.5],\n",
       "       [6.9, 3.1, 4.9, 1.5],\n",
       "       [5.5, 2.3, 4. , 1.3],\n",
       "       [6.5, 2.8, 4.6, 1.5],\n",
       "       [5.7, 2.8, 4.5, 1.3],\n",
       "       [6.3, 3.3, 4.7, 1.6],\n",
       "       [4.9, 2.4, 3.3, 1. ],\n",
       "       [6.6, 2.9, 4.6, 1.3],\n",
       "       [5.2, 2.7, 3.9, 1.4],\n",
       "       [5. , 2. , 3.5, 1. ],\n",
       "       [5.9, 3. , 4.2, 1.5],\n",
       "       [6. , 2.2, 4. , 1. ],\n",
       "       [6.1, 2.9, 4.7, 1.4],\n",
       "       [5.6, 2.9, 3.6, 1.3],\n",
       "       [6.7, 3.1, 4.4, 1.4],\n",
       "       [5.6, 3. , 4.5, 1.5],\n",
       "       [5.8, 2.7, 4.1, 1. ],\n",
       "       [6.2, 2.2, 4.5, 1.5],\n",
       "       [5.6, 2.5, 3.9, 1.1],\n",
       "       [5.9, 3.2, 4.8, 1.8],\n",
       "       [6.1, 2.8, 4. , 1.3],\n",
       "       [6.3, 2.5, 4.9, 1.5],\n",
       "       [6.1, 2.8, 4.7, 1.2],\n",
       "       [6.4, 2.9, 4.3, 1.3],\n",
       "       [6.6, 3. , 4.4, 1.4],\n",
       "       [6.8, 2.8, 4.8, 1.4],\n",
       "       [6.7, 3. , 5. , 1.7],\n",
       "       [6. , 2.9, 4.5, 1.5],\n",
       "       [5.7, 2.6, 3.5, 1. ],\n",
       "       [5.5, 2.4, 3.8, 1.1],\n",
       "       [5.5, 2.4, 3.7, 1. ],\n",
       "       [5.8, 2.7, 3.9, 1.2],\n",
       "       [6. , 2.7, 5.1, 1.6],\n",
       "       [5.4, 3. , 4.5, 1.5],\n",
       "       [6. , 3.4, 4.5, 1.6],\n",
       "       [6.7, 3.1, 4.7, 1.5],\n",
       "       [6.3, 2.3, 4.4, 1.3],\n",
       "       [5.6, 3. , 4.1, 1.3],\n",
       "       [5.5, 2.5, 4. , 1.3],\n",
       "       [5.5, 2.6, 4.4, 1.2],\n",
       "       [6.1, 3. , 4.6, 1.4],\n",
       "       [5.8, 2.6, 4. , 1.2],\n",
       "       [5. , 2.3, 3.3, 1. ],\n",
       "       [5.6, 2.7, 4.2, 1.3],\n",
       "       [5.7, 3. , 4.2, 1.2],\n",
       "       [5.7, 2.9, 4.2, 1.3],\n",
       "       [6.2, 2.9, 4.3, 1.3],\n",
       "       [5.1, 2.5, 3. , 1.1],\n",
       "       [5.7, 2.8, 4.1, 1.3],\n",
       "       [6.3, 3.3, 6. , 2.5],\n",
       "       [5.8, 2.7, 5.1, 1.9],\n",
       "       [7.1, 3. , 5.9, 2.1],\n",
       "       [6.3, 2.9, 5.6, 1.8],\n",
       "       [6.5, 3. , 5.8, 2.2],\n",
       "       [7.6, 3. , 6.6, 2.1],\n",
       "       [4.9, 2.5, 4.5, 1.7],\n",
       "       [7.3, 2.9, 6.3, 1.8],\n",
       "       [6.7, 2.5, 5.8, 1.8],\n",
       "       [7.2, 3.6, 6.1, 2.5],\n",
       "       [6.5, 3.2, 5.1, 2. ],\n",
       "       [6.4, 2.7, 5.3, 1.9],\n",
       "       [6.8, 3. , 5.5, 2.1],\n",
       "       [5.7, 2.5, 5. , 2. ],\n",
       "       [5.8, 2.8, 5.1, 2.4],\n",
       "       [6.4, 3.2, 5.3, 2.3],\n",
       "       [6.5, 3. , 5.5, 1.8],\n",
       "       [7.7, 3.8, 6.7, 2.2],\n",
       "       [7.7, 2.6, 6.9, 2.3],\n",
       "       [6. , 2.2, 5. , 1.5],\n",
       "       [6.9, 3.2, 5.7, 2.3],\n",
       "       [5.6, 2.8, 4.9, 2. ],\n",
       "       [7.7, 2.8, 6.7, 2. ],\n",
       "       [6.3, 2.7, 4.9, 1.8],\n",
       "       [6.7, 3.3, 5.7, 2.1],\n",
       "       [7.2, 3.2, 6. , 1.8],\n",
       "       [6.2, 2.8, 4.8, 1.8],\n",
       "       [6.1, 3. , 4.9, 1.8],\n",
       "       [6.4, 2.8, 5.6, 2.1],\n",
       "       [7.2, 3. , 5.8, 1.6],\n",
       "       [7.4, 2.8, 6.1, 1.9],\n",
       "       [7.9, 3.8, 6.4, 2. ],\n",
       "       [6.4, 2.8, 5.6, 2.2],\n",
       "       [6.3, 2.8, 5.1, 1.5],\n",
       "       [6.1, 2.6, 5.6, 1.4],\n",
       "       [7.7, 3. , 6.1, 2.3],\n",
       "       [6.3, 3.4, 5.6, 2.4],\n",
       "       [6.4, 3.1, 5.5, 1.8],\n",
       "       [6. , 3. , 4.8, 1.8],\n",
       "       [6.9, 3.1, 5.4, 2.1],\n",
       "       [6.7, 3.1, 5.6, 2.4],\n",
       "       [6.9, 3.1, 5.1, 2.3],\n",
       "       [5.8, 2.7, 5.1, 1.9],\n",
       "       [6.8, 3.2, 5.9, 2.3],\n",
       "       [6.7, 3.3, 5.7, 2.5],\n",
       "       [6.7, 3. , 5.2, 2.3],\n",
       "       [6.3, 2.5, 5. , 1.9],\n",
       "       [6.5, 3. , 5.2, 2. ],\n",
       "       [6.2, 3.4, 5.4, 2.3],\n",
       "       [5.9, 3. , 5.1, 1.8]])"
      ]
     },
     "execution_count": 10,
     "metadata": {},
     "output_type": "execute_result"
    }
   ],
   "source": [
    "X"
   ]
  },
  {
   "cell_type": "code",
   "execution_count": 68,
   "metadata": {},
   "outputs": [
    {
     "data": {
      "text/plain": [
       "[1]"
      ]
     },
     "execution_count": 68,
     "metadata": {},
     "output_type": "execute_result"
    }
   ],
   "source": [
    "\n",
    "random.sample(y[y==1].tolist(), k=1)"
   ]
  },
  {
   "cell_type": "code",
   "execution_count": 65,
   "metadata": {},
   "outputs": [
    {
     "data": {
      "text/plain": [
       "array([1, 1, 1, 1, 1, 1, 1, 1, 1, 1, 1, 1, 1, 1, 1, 1, 1, 1, 1, 1, 1, 1,\n",
       "       1, 1, 1, 1, 1, 1, 1, 1, 1, 1, 1, 1, 1, 1, 1, 1, 1, 1, 1, 1, 1, 1,\n",
       "       1, 1, 1, 1, 1, 1])"
      ]
     },
     "execution_count": 65,
     "metadata": {},
     "output_type": "execute_result"
    }
   ],
   "source": []
  },
  {
   "cell_type": "code",
   "execution_count": null,
   "metadata": {},
   "outputs": [],
   "source": [
    "n_sim"
   ]
  },
  {
   "cell_type": "code",
   "execution_count": 1,
   "metadata": {},
   "outputs": [],
   "source": [
    "# Import personalization data-set\n",
    " \n",
    "# Info: https://d1ie9wlkzugsxr.cloudfront.net/data_irecsys_CARSKit/Movie_DePaulMovie/README.txt\n",
    " \n",
    "data_url = \"http://d1ie9wlkzugsxr.cloudfront.net/data_irecsys_CARSKit/Movie_DePaulMovie/ratings.csv\" "
   ]
  },
  {
   "cell_type": "code",
   "execution_count": 3,
   "metadata": {},
   "outputs": [],
   "source": [
    "import pandas as pd, numpy as np\n",
    "import matplotlib.pyplot as plt\n",
    "%matplotlib inline"
   ]
  },
  {
   "cell_type": "code",
   "execution_count": 5,
   "metadata": {},
   "outputs": [],
   "source": [
    "df = pd.read_csv(\"ratings.csv\")"
   ]
  },
  {
   "cell_type": "code",
   "execution_count": 6,
   "metadata": {},
   "outputs": [
    {
     "data": {
      "text/html": [
       "<div>\n",
       "<style scoped>\n",
       "    .dataframe tbody tr th:only-of-type {\n",
       "        vertical-align: middle;\n",
       "    }\n",
       "\n",
       "    .dataframe tbody tr th {\n",
       "        vertical-align: top;\n",
       "    }\n",
       "\n",
       "    .dataframe thead th {\n",
       "        text-align: right;\n",
       "    }\n",
       "</style>\n",
       "<table border=\"1\" class=\"dataframe\">\n",
       "  <thead>\n",
       "    <tr style=\"text-align: right;\">\n",
       "      <th></th>\n",
       "      <th>userid</th>\n",
       "      <th>itemid</th>\n",
       "      <th>rating</th>\n",
       "      <th>Time</th>\n",
       "      <th>Location</th>\n",
       "      <th>Companion</th>\n",
       "    </tr>\n",
       "  </thead>\n",
       "  <tbody>\n",
       "    <tr>\n",
       "      <th>0</th>\n",
       "      <td>1123</td>\n",
       "      <td>tt1499658</td>\n",
       "      <td>2</td>\n",
       "      <td>NaN</td>\n",
       "      <td>NaN</td>\n",
       "      <td>NaN</td>\n",
       "    </tr>\n",
       "    <tr>\n",
       "      <th>1</th>\n",
       "      <td>1123</td>\n",
       "      <td>tt0405422</td>\n",
       "      <td>4</td>\n",
       "      <td>NaN</td>\n",
       "      <td>NaN</td>\n",
       "      <td>NaN</td>\n",
       "    </tr>\n",
       "    <tr>\n",
       "      <th>2</th>\n",
       "      <td>1123</td>\n",
       "      <td>tt0109830</td>\n",
       "      <td>5</td>\n",
       "      <td>NaN</td>\n",
       "      <td>NaN</td>\n",
       "      <td>NaN</td>\n",
       "    </tr>\n",
       "    <tr>\n",
       "      <th>3</th>\n",
       "      <td>1123</td>\n",
       "      <td>tt0088763</td>\n",
       "      <td>3</td>\n",
       "      <td>NaN</td>\n",
       "      <td>NaN</td>\n",
       "      <td>NaN</td>\n",
       "    </tr>\n",
       "    <tr>\n",
       "      <th>4</th>\n",
       "      <td>1123</td>\n",
       "      <td>tt0133093</td>\n",
       "      <td>3</td>\n",
       "      <td>NaN</td>\n",
       "      <td>NaN</td>\n",
       "      <td>NaN</td>\n",
       "    </tr>\n",
       "  </tbody>\n",
       "</table>\n",
       "</div>"
      ],
      "text/plain": [
       "   userid     itemid  rating Time Location Companion\n",
       "0    1123  tt1499658       2  NaN      NaN       NaN\n",
       "1    1123  tt0405422       4  NaN      NaN       NaN\n",
       "2    1123  tt0109830       5  NaN      NaN       NaN\n",
       "3    1123  tt0088763       3  NaN      NaN       NaN\n",
       "4    1123  tt0133093       3  NaN      NaN       NaN"
      ]
     },
     "execution_count": 6,
     "metadata": {},
     "output_type": "execute_result"
    }
   ],
   "source": [
    "df.head()"
   ]
  },
  {
   "cell_type": "code",
   "execution_count": 16,
   "metadata": {},
   "outputs": [
    {
     "name": "stdout",
     "output_type": "stream",
     "text": [
      "userid          0\n",
      "itemid          0\n",
      "rating          0\n",
      "Time         1448\n",
      "Location     1448\n",
      "Companion    1448\n",
      "dtype: int64\n"
     ]
    },
    {
     "data": {
      "text/plain": [
       "<matplotlib.axes._subplots.AxesSubplot at 0x112e67150>"
      ]
     },
     "execution_count": 16,
     "metadata": {},
     "output_type": "execute_result"
    },
    {
     "data": {
      "image/png": "[encoded data removed]",
      "text/plain": [
       "<Figure size 432x288 with 1 Axes>"
      ]
     },
     "metadata": {
      "needs_background": "light"
     },
     "output_type": "display_data"
    }
   ],
   "source": [
    "print(df.isna().sum(axis=0));df.userid.value_counts().plot(kind=\"box\")"
   ]
  },
  {
   "cell_type": "code",
   "execution_count": 22,
   "metadata": {},
   "outputs": [
    {
     "name": "stdout",
     "output_type": "stream",
     "text": [
      "Weekend    1845\n",
      "Weekday    1750\n",
      "Name: Time, dtype: int64\n",
      "Cinema    1963\n",
      "Home      1632\n",
      "Name: Location, dtype: int64\n",
      "Family     1343\n",
      "Alone      1173\n",
      "Partner    1079\n",
      "Name: Companion, dtype: int64\n"
     ]
    }
   ],
   "source": [
    "for col in [\"Time\", \"Location\", \"Companion\"]:\n",
    "    print(df[col].value_counts())"
   ]
  },
  {
   "cell_type": "markdown",
   "metadata": {},
   "source": [
    "# Linear Bandit Algorithm\n",
    "\n",
    "- 他のマシンに関する情報を一切持たないケースを考えていたが、例えば、マシンごとの特徴量（*）から類似するマシンの報酬を推定する事ができるケースが現実問題で多々ある。\n",
    "\n",
    "(*):筆者はやった事ないが、パチンコの台の傾きや、釘と釘の長さによって、当たりやすいかいなかが変わってくるらしい。"
   ]
  },
  {
   "cell_type": "code",
   "execution_count": 35,
   "metadata": {},
   "outputs": [],
   "source": [
    "# https://github.com/icoxfog417/baby-steps-of-rl-ja/blob/master/EL/epsilon_greedy.py\n",
    "class CoinToss():\n",
    "\n",
    "    def __init__(self, head_probs, max_episode_steps=30):\n",
    "        self.head_probs = head_probs\n",
    "        self.max_episode_steps = max_episode_steps\n",
    "        self.toss_count = 0\n",
    "\n",
    "    def __len__(self):\n",
    "        return len(self.head_probs)\n",
    "\n",
    "    def reset(self):\n",
    "        self.toss_count = 0\n",
    "\n",
    "    def step(self, action):\n",
    "        final = self.max_episode_steps - 1\n",
    "        if self.toss_count > final:\n",
    "            raise Exception(\"The step count exceeded maximum. \\\n",
    "                            Please reset env.\")\n",
    "        else:\n",
    "            done = True if self.toss_count == final else False\n",
    "\n",
    "        if action >= len(self.head_probs):\n",
    "            raise Exception(\"The No.{} coin doesn't exist.\".format(action))\n",
    "        else:\n",
    "            head_prob = self.head_probs[action]\n",
    "            if random.random() < head_prob:\n",
    "                reward = 1.0\n",
    "            else:\n",
    "                reward = 0.0\n",
    "            self.toss_count += 1\n",
    "            return reward, done\n",
    "        \n",
    "class EpsilonGreedyAgent():\n",
    "\n",
    "    def __init__(self, epsilon):\n",
    "        self.epsilon = epsilon\n",
    "        self.V = []\n",
    "\n",
    "    def policy(self):\n",
    "        coins = range(len(self.V))\n",
    "        if random.random() < self.epsilon:\n",
    "            return random.choice(coins)\n",
    "        else:\n",
    "            return np.argmax(self.V)\n",
    "\n",
    "    def play(self, env):\n",
    "        # Initialize estimation.\n",
    "        N = [0] * len(env)\n",
    "        self.V = [0] * len(env)\n",
    "\n",
    "        env.reset()\n",
    "        done = False\n",
    "        rewards = []\n",
    "        while not done:\n",
    "            selected_coin = self.policy()\n",
    "            reward, done = env.step(selected_coin)\n",
    "            rewards.append(reward)\n",
    "\n",
    "            n = N[selected_coin]\n",
    "            coin_average = self.V[selected_coin]\n",
    "            new_average = (coin_average * n + reward) / (n + 1)\n",
    "            N[selected_coin] += 1\n",
    "            self.V[selected_coin] = new_average\n",
    "\n",
    "        return rewards\n",
    "\n"
   ]
  },
  {
   "cell_type": "code",
   "execution_count": 36,
   "metadata": {},
   "outputs": [
    {
     "data": {
      "image/png": "[encoded data removed]",
      "text/plain": [
       "<Figure size 720x360 with 1 Axes>"
      ]
     },
     "metadata": {
      "needs_background": "light"
     },
     "output_type": "display_data"
    }
   ],
   "source": [
    "import random\n",
    "import pandas as pd\n",
    "import matplotlib.pyplot as plt\n",
    "\n",
    "def main():\n",
    "    env = CoinToss([0.1, 0.5, 0.1, 0.9, 0.1])\n",
    "    epsilons = [0.0, 0.1, 0.2, 0.5, 0.8]\n",
    "    game_steps = list(range(10, 310, 10))\n",
    "    result = {}\n",
    "    for e in epsilons:\n",
    "        agent = EpsilonGreedyAgent(epsilon=e)\n",
    "        means = []\n",
    "        for s in game_steps:\n",
    "            env.max_episode_steps = s\n",
    "            rewards = agent.play(env)\n",
    "            means.append(np.mean(rewards))\n",
    "        result[\"epsilon={}\".format(e)] = means\n",
    "    result[\"coin toss count\"] = game_steps\n",
    "    result = pd.DataFrame(result)\n",
    "    result.set_index(\"coin toss count\", drop=True, inplace=True)\n",
    "    result.plot.line(figsize=(10, 5))\n",
    "    plt.show()\n",
    "\n",
    "main()"
   ]
  },
  {
   "cell_type": "markdown",
   "metadata": {},
   "source": [
    "# Construct Agents"
   ]
  },
  {
   "cell_type": "code",
   "execution_count": null,
   "metadata": {},
   "outputs": [],
   "source": []
  },
  {
   "cell_type": "code",
   "execution_count": null,
   "metadata": {},
   "outputs": [],
   "source": []
  },
  {
   "cell_type": "code",
   "execution_count": null,
   "metadata": {},
   "outputs": [],
   "source": []
  },
  {
   "cell_type": "markdown",
   "metadata": {},
   "source": [
    "# LinUBC"
   ]
  },
  {
   "cell_type": "code",
   "execution_count": 7,
   "metadata": {},
   "outputs": [],
   "source": [
    "from sklearn.preprocessing import PolynomialFeatures"
   ]
  },
  {
   "cell_type": "code",
   "execution_count": null,
   "metadata": {},
   "outputs": [],
   "source": []
  },
  {
   "cell_type": "code",
   "execution_count": 2,
   "metadata": {},
   "outputs": [],
   "source": [
    "# get_dummies, non idempotent processing\n",
    "# df = pd.concat([df, pd.get_dummies(df[[\"Time\", \"Location\", \"Companion\"]])], axis=1)"
   ]
  },
  {
   "cell_type": "code",
   "execution_count": 3,
   "metadata": {},
   "outputs": [],
   "source": [
    "# dummies = pd.get_dummies(df[[\"Time\", \"Location\", \"Companion\"]])"
   ]
  },
  {
   "cell_type": "markdown",
   "metadata": {},
   "source": [
    "# Get Interactions"
   ]
  },
  {
   "cell_type": "code",
   "execution_count": 95,
   "metadata": {},
   "outputs": [],
   "source": [
    "pe = PolynomialFeatures(2, interaction_only=True)\n",
    "\n",
    "interactions = pe.fit_transform(dummies, )\n",
    "\n",
    "generated_columns = pe.get_feature_names()\n",
    "\n",
    "assert  all(dummies.iloc[:, 1] == interactions[:, 2])\n",
    "\n",
    "corresp_cols ={f\"x{i}\": col for i , col in enumerate(dummies.columns)}\n",
    "\n",
    "# generated_columns \n",
    "for k,v in corresp_cols.items():\n",
    "    generated_columns = [col.replace(k, v) for col in generated_columns]\n",
    "generated_columns"
   ]
  },
  {
   "cell_type": "code",
   "execution_count": null,
   "metadata": {},
   "outputs": [],
   "source": []
  },
  {
   "cell_type": "code",
   "execution_count": null,
   "metadata": {},
   "outputs": [],
   "source": []
  },
  {
   "cell_type": "code",
   "execution_count": 12,
   "metadata": {},
   "outputs": [
    {
     "data": {
      "text/html": [
       "<div>\n",
       "<style scoped>\n",
       "    .dataframe tbody tr th:only-of-type {\n",
       "        vertical-align: middle;\n",
       "    }\n",
       "\n",
       "    .dataframe tbody tr th {\n",
       "        vertical-align: top;\n",
       "    }\n",
       "\n",
       "    .dataframe thead th {\n",
       "        text-align: right;\n",
       "    }\n",
       "</style>\n",
       "<table border=\"1\" class=\"dataframe\">\n",
       "  <thead>\n",
       "    <tr style=\"text-align: right;\">\n",
       "      <th></th>\n",
       "      <th>Time_Weekday</th>\n",
       "      <th>Time_Weekend</th>\n",
       "      <th>Location_Cinema</th>\n",
       "      <th>Location_Home</th>\n",
       "      <th>Companion_Alone</th>\n",
       "      <th>Companion_Family</th>\n",
       "      <th>Companion_Partner</th>\n",
       "    </tr>\n",
       "  </thead>\n",
       "  <tbody>\n",
       "    <tr>\n",
       "      <th>0</th>\n",
       "      <td>0</td>\n",
       "      <td>0</td>\n",
       "      <td>0</td>\n",
       "      <td>0</td>\n",
       "      <td>0</td>\n",
       "      <td>0</td>\n",
       "      <td>0</td>\n",
       "    </tr>\n",
       "    <tr>\n",
       "      <th>1</th>\n",
       "      <td>0</td>\n",
       "      <td>0</td>\n",
       "      <td>0</td>\n",
       "      <td>0</td>\n",
       "      <td>0</td>\n",
       "      <td>0</td>\n",
       "      <td>0</td>\n",
       "    </tr>\n",
       "    <tr>\n",
       "      <th>2</th>\n",
       "      <td>0</td>\n",
       "      <td>0</td>\n",
       "      <td>0</td>\n",
       "      <td>0</td>\n",
       "      <td>0</td>\n",
       "      <td>0</td>\n",
       "      <td>0</td>\n",
       "    </tr>\n",
       "    <tr>\n",
       "      <th>3</th>\n",
       "      <td>0</td>\n",
       "      <td>0</td>\n",
       "      <td>0</td>\n",
       "      <td>0</td>\n",
       "      <td>0</td>\n",
       "      <td>0</td>\n",
       "      <td>0</td>\n",
       "    </tr>\n",
       "    <tr>\n",
       "      <th>4</th>\n",
       "      <td>0</td>\n",
       "      <td>0</td>\n",
       "      <td>0</td>\n",
       "      <td>0</td>\n",
       "      <td>0</td>\n",
       "      <td>0</td>\n",
       "      <td>0</td>\n",
       "    </tr>\n",
       "    <tr>\n",
       "      <th>...</th>\n",
       "      <td>...</td>\n",
       "      <td>...</td>\n",
       "      <td>...</td>\n",
       "      <td>...</td>\n",
       "      <td>...</td>\n",
       "      <td>...</td>\n",
       "      <td>...</td>\n",
       "    </tr>\n",
       "    <tr>\n",
       "      <th>5038</th>\n",
       "      <td>0</td>\n",
       "      <td>1</td>\n",
       "      <td>0</td>\n",
       "      <td>1</td>\n",
       "      <td>0</td>\n",
       "      <td>0</td>\n",
       "      <td>1</td>\n",
       "    </tr>\n",
       "    <tr>\n",
       "      <th>5039</th>\n",
       "      <td>0</td>\n",
       "      <td>1</td>\n",
       "      <td>0</td>\n",
       "      <td>1</td>\n",
       "      <td>0</td>\n",
       "      <td>0</td>\n",
       "      <td>1</td>\n",
       "    </tr>\n",
       "    <tr>\n",
       "      <th>5040</th>\n",
       "      <td>0</td>\n",
       "      <td>1</td>\n",
       "      <td>0</td>\n",
       "      <td>1</td>\n",
       "      <td>0</td>\n",
       "      <td>0</td>\n",
       "      <td>1</td>\n",
       "    </tr>\n",
       "    <tr>\n",
       "      <th>5041</th>\n",
       "      <td>0</td>\n",
       "      <td>1</td>\n",
       "      <td>0</td>\n",
       "      <td>1</td>\n",
       "      <td>0</td>\n",
       "      <td>0</td>\n",
       "      <td>1</td>\n",
       "    </tr>\n",
       "    <tr>\n",
       "      <th>5042</th>\n",
       "      <td>0</td>\n",
       "      <td>1</td>\n",
       "      <td>0</td>\n",
       "      <td>1</td>\n",
       "      <td>0</td>\n",
       "      <td>0</td>\n",
       "      <td>1</td>\n",
       "    </tr>\n",
       "  </tbody>\n",
       "</table>\n",
       "<p>5043 rows × 7 columns</p>\n",
       "</div>"
      ],
      "text/plain": [
       "      Time_Weekday  Time_Weekend  Location_Cinema  Location_Home  \\\n",
       "0                0             0                0              0   \n",
       "1                0             0                0              0   \n",
       "2                0             0                0              0   \n",
       "3                0             0                0              0   \n",
       "4                0             0                0              0   \n",
       "...            ...           ...              ...            ...   \n",
       "5038             0             1                0              1   \n",
       "5039             0             1                0              1   \n",
       "5040             0             1                0              1   \n",
       "5041             0             1                0              1   \n",
       "5042             0             1                0              1   \n",
       "\n",
       "      Companion_Alone  Companion_Family  Companion_Partner  \n",
       "0                   0                 0                  0  \n",
       "1                   0                 0                  0  \n",
       "2                   0                 0                  0  \n",
       "3                   0                 0                  0  \n",
       "4                   0                 0                  0  \n",
       "...               ...               ...                ...  \n",
       "5038                0                 0                  1  \n",
       "5039                0                 0                  1  \n",
       "5040                0                 0                  1  \n",
       "5041                0                 0                  1  \n",
       "5042                0                 0                  1  \n",
       "\n",
       "[5043 rows x 7 columns]"
      ]
     },
     "execution_count": 12,
     "metadata": {},
     "output_type": "execute_result"
    }
   ],
   "source": [
    "dummies"
   ]
  },
  {
   "cell_type": "code",
   "execution_count": 40,
   "metadata": {},
   "outputs": [
    {
     "data": {
      "text/plain": [
       "['Companion',\n",
       " 'Companion_Alone',\n",
       " 'Companion_Family',\n",
       " 'Companion_Partner',\n",
       " 'Location',\n",
       " 'Location_Cinema',\n",
       " 'Location_Home',\n",
       " 'Time',\n",
       " 'Time_Weekday',\n",
       " 'Time_Weekend']"
      ]
     },
     "execution_count": 40,
     "metadata": {},
     "output_type": "execute_result"
    }
   ],
   "source": [
    "# features of all arms\n",
    "non_features_cols = [\"userid\", \"itemid\", \"rating\"]\n",
    "df.columns.difference(non_features_cols).to_list()"
   ]
  },
  {
   "cell_type": "code",
   "execution_count": 17,
   "metadata": {},
   "outputs": [],
   "source": [
    "# rewards vector\n",
    "rewards = df.rating.values.astype(np.float)\n",
    "features = dummies.values\n",
    "f_names = dummies.columns.to_list()"
   ]
  },
  {
   "cell_type": "code",
   "execution_count": 18,
   "metadata": {},
   "outputs": [
    {
     "data": {
      "text/plain": [
       "array([2., 4., 5., ..., 1., 1., 1.])"
      ]
     },
     "execution_count": 18,
     "metadata": {},
     "output_type": "execute_result"
    }
   ],
   "source": [
    "rewards"
   ]
  },
  {
   "cell_type": "code",
   "execution_count": 21,
   "metadata": {},
   "outputs": [],
   "source": [
    "# t:time (各ユーザごとにpartitionきる？)\n",
    "d = features.shape[1]"
   ]
  },
  {
   "cell_type": "code",
   "execution_count": 25,
   "metadata": {},
   "outputs": [],
   "source": [
    "A_a = np.eye(d)\n",
    "b_a = np.zeros((d, 1))"
   ]
  },
  {
   "cell_type": "code",
   "execution_count": 42,
   "metadata": {},
   "outputs": [],
   "source": [
    "alpha = 0.3"
   ]
  },
  {
   "cell_type": "code",
   "execution_count": 31,
   "metadata": {},
   "outputs": [],
   "source": [
    "theta_a = np.linalg.inv(A_a)@b_a\n",
    "p_ta = features@theta_a + alpha*np.sqrt(np.diag(features@np.linalg.inv(A_a)@features.T).reshape((-1, 1)))"
   ]
  },
  {
   "cell_type": "code",
   "execution_count": 34,
   "metadata": {},
   "outputs": [
    {
     "data": {
      "text/plain": [
       "(5043, 1)"
      ]
     },
     "execution_count": 34,
     "metadata": {},
     "output_type": "execute_result"
    }
   ],
   "source": [
    "(features@theta_a).shape"
   ]
  },
  {
   "cell_type": "code",
   "execution_count": 45,
   "metadata": {},
   "outputs": [
    {
     "data": {
      "text/plain": [
       "(5043, 1)"
      ]
     },
     "execution_count": 45,
     "metadata": {},
     "output_type": "execute_result"
    }
   ],
   "source": [
    "p_ta.shape"
   ]
  },
  {
   "cell_type": "markdown",
   "metadata": {},
   "source": [
    "# サンプルデータが見つからない...!\n",
    "\n",
    "- どうしようーってなっていたやさき、そういえばバンディットって「自分が選択したあーむ以外の報酬が見れないだけで問題設定はマルチラベリング問題のオンライン学習と同義」、と本多さんの本に書いてあったことを思い出した。\n",
    "    https://github.com/david-cortes/contextualbandits/blob/master/example/online_contextual_bandits.ipynb\n",
    "- irisを活用する！"
   ]
  },
  {
   "cell_type": "code",
   "execution_count": 4,
   "metadata": {},
   "outputs": [],
   "source": [
    "from sklearn.datasets import load_iris "
   ]
  },
  {
   "cell_type": "code",
   "execution_count": 5,
   "metadata": {},
   "outputs": [],
   "source": [
    "# X, y = load_iris(True)"
   ]
  },
  {
   "cell_type": "code",
   "execution_count": 11,
   "metadata": {},
   "outputs": [],
   "source": [
    "X, y = load_iris(return_X_y=True)"
   ]
  },
  {
   "cell_type": "code",
   "execution_count": 13,
   "metadata": {},
   "outputs": [
    {
     "data": {
      "text/plain": [
       "array([0, 0, 0, 0, 0, 0, 0, 0, 0, 0, 0, 0, 0, 0, 0, 0, 0, 0, 0, 0, 0, 0,\n",
       "       0, 0, 0, 0, 0, 0, 0, 0, 0, 0, 0, 0, 0, 0, 0, 0, 0, 0, 0, 0, 0, 0,\n",
       "       0, 0, 0, 0, 0, 0, 1, 1, 1, 1, 1, 1, 1, 1, 1, 1, 1, 1, 1, 1, 1, 1,\n",
       "       1, 1, 1, 1, 1, 1, 1, 1, 1, 1, 1, 1, 1, 1, 1, 1, 1, 1, 1, 1, 1, 1,\n",
       "       1, 1, 1, 1, 1, 1, 1, 1, 1, 1, 1, 1, 2, 2, 2, 2, 2, 2, 2, 2, 2, 2,\n",
       "       2, 2, 2, 2, 2, 2, 2, 2, 2, 2, 2, 2, 2, 2, 2, 2, 2, 2, 2, 2, 2, 2,\n",
       "       2, 2, 2, 2, 2, 2, 2, 2, 2, 2, 2, 2, 2, 2, 2, 2, 2, 2])"
      ]
     },
     "execution_count": 13,
     "metadata": {},
     "output_type": "execute_result"
    }
   ],
   "source": [
    "y"
   ]
  },
  {
   "cell_type": "code",
   "execution_count": 20,
   "metadata": {},
   "outputs": [],
   "source": [
    "# irisデータからbaditの文脈に合うようにsamplingできるクラスを作成する。\n",
    "df_cps1 = pd.read_stata('https://users.nber.org/~rdehejia/data/cps_controls.dta')\n",
    "df_cps3 = pd.read_stata('https://users.nber.org/~rdehejia/data/cps_controls3.dta')\n",
    "df_nsw = pd.read_stata('https://users.nber.org/~rdehejia/data/nsw_dw.dta')"
   ]
  },
  {
   "cell_type": "code",
   "execution_count": 22,
   "metadata": {},
   "outputs": [
    {
     "data": {
      "text/html": [
       "<div>\n",
       "<style scoped>\n",
       "    .dataframe tbody tr th:only-of-type {\n",
       "        vertical-align: middle;\n",
       "    }\n",
       "\n",
       "    .dataframe tbody tr th {\n",
       "        vertical-align: top;\n",
       "    }\n",
       "\n",
       "    .dataframe thead th {\n",
       "        text-align: right;\n",
       "    }\n",
       "</style>\n",
       "<table border=\"1\" class=\"dataframe\">\n",
       "  <thead>\n",
       "    <tr style=\"text-align: right;\">\n",
       "      <th></th>\n",
       "      <th>treat</th>\n",
       "      <th>age</th>\n",
       "      <th>education</th>\n",
       "      <th>black</th>\n",
       "      <th>hispanic</th>\n",
       "      <th>married</th>\n",
       "      <th>nodegree</th>\n",
       "      <th>re74</th>\n",
       "      <th>re75</th>\n",
       "      <th>re78</th>\n",
       "    </tr>\n",
       "  </thead>\n",
       "  <tbody>\n",
       "    <tr>\n",
       "      <th>count</th>\n",
       "      <td>15992.0</td>\n",
       "      <td>15992.000000</td>\n",
       "      <td>15992.000000</td>\n",
       "      <td>15992.000000</td>\n",
       "      <td>15992.000000</td>\n",
       "      <td>15992.000000</td>\n",
       "      <td>15992.000000</td>\n",
       "      <td>15992.000000</td>\n",
       "      <td>15992.000000</td>\n",
       "      <td>15992.000000</td>\n",
       "    </tr>\n",
       "    <tr>\n",
       "      <th>mean</th>\n",
       "      <td>0.0</td>\n",
       "      <td>33.225239</td>\n",
       "      <td>12.027514</td>\n",
       "      <td>0.073537</td>\n",
       "      <td>0.072036</td>\n",
       "      <td>0.711731</td>\n",
       "      <td>0.295835</td>\n",
       "      <td>14016.800781</td>\n",
       "      <td>13650.803711</td>\n",
       "      <td>14846.660156</td>\n",
       "    </tr>\n",
       "    <tr>\n",
       "      <th>std</th>\n",
       "      <td>0.0</td>\n",
       "      <td>11.045216</td>\n",
       "      <td>2.870846</td>\n",
       "      <td>0.261024</td>\n",
       "      <td>0.258556</td>\n",
       "      <td>0.452971</td>\n",
       "      <td>0.456432</td>\n",
       "      <td>9569.795898</td>\n",
       "      <td>9270.403320</td>\n",
       "      <td>9647.391602</td>\n",
       "    </tr>\n",
       "    <tr>\n",
       "      <th>min</th>\n",
       "      <td>0.0</td>\n",
       "      <td>16.000000</td>\n",
       "      <td>0.000000</td>\n",
       "      <td>0.000000</td>\n",
       "      <td>0.000000</td>\n",
       "      <td>0.000000</td>\n",
       "      <td>0.000000</td>\n",
       "      <td>0.000000</td>\n",
       "      <td>0.000000</td>\n",
       "      <td>0.000000</td>\n",
       "    </tr>\n",
       "    <tr>\n",
       "      <th>25%</th>\n",
       "      <td>0.0</td>\n",
       "      <td>24.000000</td>\n",
       "      <td>11.000000</td>\n",
       "      <td>0.000000</td>\n",
       "      <td>0.000000</td>\n",
       "      <td>0.000000</td>\n",
       "      <td>0.000000</td>\n",
       "      <td>4403.452393</td>\n",
       "      <td>4398.823242</td>\n",
       "      <td>5669.298096</td>\n",
       "    </tr>\n",
       "    <tr>\n",
       "      <th>50%</th>\n",
       "      <td>0.0</td>\n",
       "      <td>31.000000</td>\n",
       "      <td>12.000000</td>\n",
       "      <td>0.000000</td>\n",
       "      <td>0.000000</td>\n",
       "      <td>1.000000</td>\n",
       "      <td>0.000000</td>\n",
       "      <td>15123.580078</td>\n",
       "      <td>14557.110352</td>\n",
       "      <td>16421.974609</td>\n",
       "    </tr>\n",
       "    <tr>\n",
       "      <th>75%</th>\n",
       "      <td>0.0</td>\n",
       "      <td>42.000000</td>\n",
       "      <td>13.000000</td>\n",
       "      <td>0.000000</td>\n",
       "      <td>0.000000</td>\n",
       "      <td>1.000000</td>\n",
       "      <td>1.000000</td>\n",
       "      <td>23584.179688</td>\n",
       "      <td>22923.736816</td>\n",
       "      <td>25564.669922</td>\n",
       "    </tr>\n",
       "    <tr>\n",
       "      <th>max</th>\n",
       "      <td>0.0</td>\n",
       "      <td>55.000000</td>\n",
       "      <td>18.000000</td>\n",
       "      <td>1.000000</td>\n",
       "      <td>1.000000</td>\n",
       "      <td>1.000000</td>\n",
       "      <td>1.000000</td>\n",
       "      <td>25862.320312</td>\n",
       "      <td>25243.550781</td>\n",
       "      <td>25564.669922</td>\n",
       "    </tr>\n",
       "  </tbody>\n",
       "</table>\n",
       "</div>"
      ],
      "text/plain": [
       "         treat           age     education         black      hispanic  \\\n",
       "count  15992.0  15992.000000  15992.000000  15992.000000  15992.000000   \n",
       "mean       0.0     33.225239     12.027514      0.073537      0.072036   \n",
       "std        0.0     11.045216      2.870846      0.261024      0.258556   \n",
       "min        0.0     16.000000      0.000000      0.000000      0.000000   \n",
       "25%        0.0     24.000000     11.000000      0.000000      0.000000   \n",
       "50%        0.0     31.000000     12.000000      0.000000      0.000000   \n",
       "75%        0.0     42.000000     13.000000      0.000000      0.000000   \n",
       "max        0.0     55.000000     18.000000      1.000000      1.000000   \n",
       "\n",
       "            married      nodegree          re74          re75          re78  \n",
       "count  15992.000000  15992.000000  15992.000000  15992.000000  15992.000000  \n",
       "mean       0.711731      0.295835  14016.800781  13650.803711  14846.660156  \n",
       "std        0.452971      0.456432   9569.795898   9270.403320   9647.391602  \n",
       "min        0.000000      0.000000      0.000000      0.000000      0.000000  \n",
       "25%        0.000000      0.000000   4403.452393   4398.823242   5669.298096  \n",
       "50%        1.000000      0.000000  15123.580078  14557.110352  16421.974609  \n",
       "75%        1.000000      1.000000  23584.179688  22923.736816  25564.669922  \n",
       "max        1.000000      1.000000  25862.320312  25243.550781  25564.669922  "
      ]
     },
     "execution_count": 22,
     "metadata": {},
     "output_type": "execute_result"
    }
   ],
   "source": [
    "df_cps1.describe()"
   ]
  },
  {
   "cell_type": "code",
   "execution_count": 32,
   "metadata": {},
   "outputs": [],
   "source": [
    "# df_cps3.describe()\n",
    "df_nsw.columns\n",
    "regressors_columns =  ['treat', 'age', 'education', 'black', 'hispanic', 'married', 'nodegree',]\n",
    "target_column = 're78'\n",
    "X = df_nsw[regressors_columns].values\n",
    "y = df_nsw[target_column].values"
   ]
  }
 ],
 "metadata": {
  "kernelspec": {
   "display_name": "Python 3",
   "language": "python",
   "name": "python3"
  },
  "language_info": {
   "codemirror_mode": {
    "name": "ipython",
    "version": 3
   },
   "file_extension": ".py",
   "mimetype": "text/x-python",
   "name": "python",
   "nbconvert_exporter": "python",
   "pygments_lexer": "ipython3",
   "version": "3.7.4"
  }
 },
 "nbformat": 4,
 "nbformat_minor": 2
}
