{
 "cells": [
  {
   "cell_type": "code",
   "execution_count": 1,
   "metadata": {},
   "outputs": [],
   "source": [
    "import pandas as pd\n",
    "import numpy as np"
   ]
  },
  {
   "cell_type": "code",
   "execution_count": 2,
   "metadata": {},
   "outputs": [],
   "source": [
    "with open(\"./data/causal_inference.txt\", 'r') as f:\n",
    "    text = f.readlines()"
   ]
  },
  {
   "cell_type": "code",
   "execution_count": 3,
   "metadata": {},
   "outputs": [],
   "source": [
    "res = []\n",
    "for t in text:\n",
    "    res.append(list(map(int, t.strip('\\n').split(\" \")[:-1]))) # 最後空文字が入っている。\n",
    "#     print(t.strip('\\n').split(\" \")[:-1])"
   ]
  },
  {
   "cell_type": "markdown",
   "metadata": {},
   "source": [
    "# コロンビア大学で用いられているサンプルデータセット\n",
    "http://www.cs.columbia.edu/~jebara/6998/hw2.pdf\n",
    "\n",
    "- the 1st column is the chosen arm\n",
    "- the 2nd column is binary reward \n",
    "- the remaining columns are the context features."
   ]
  },
  {
   "cell_type": "code",
   "execution_count": 4,
   "metadata": {},
   "outputs": [],
   "source": [
    "ds = pd.DataFrame(res)\n",
    "ds.columns = [\"arm\", \"reward\"] + [f\"feat_{i}\" for i in range(100)]"
   ]
  },
  {
   "cell_type": "code",
   "execution_count": 94,
   "metadata": {},
   "outputs": [],
   "source": [
    "X = ds.loc[:, \"feat_0\":].values\n",
    "y = ds.loc[:, \"reward\"].values\n",
    "arms = ds.loc[:,\"arm\"].values"
   ]
  },
  {
   "cell_type": "markdown",
   "metadata": {},
   "source": [
    "### Reward の分布はこんな感じ"
   ]
  },
  {
   "cell_type": "code",
   "execution_count": 95,
   "metadata": {},
   "outputs": [
    {
     "name": "stdout",
     "output_type": "stream",
     "text": [
      "2.0588235294117645\n"
     ]
    },
    {
     "data": {
      "image/png": "[encoded data removed]",
      "text/plain": [
       "<Figure size 432x288 with 1 Axes>"
      ]
     },
     "metadata": {
      "needs_background": "light"
     },
     "output_type": "display_data"
    }
   ],
   "source": [
    "ds.groupby(\"arm\").mean()[\"reward\"].plot(kind=\"bar\")\n",
    "print((ds.groupby(\"arm\").mean()[\"reward\"]*100).iloc[0])"
   ]
  },
  {
   "cell_type": "code",
   "execution_count": 136,
   "metadata": {},
   "outputs": [],
   "source": [
    "#action = 3\n",
    "# reward = 1 if y==2 else 0\n",
    "class ContextualArms(object):\n",
    "    def __init__(self,\n",
    "                 n_action,\n",
    "                 max_n_sim, \n",
    "                 X, y=None,\n",
    "                 arms=None,\n",
    "                 n_features=4,\n",
    "                ):\n",
    "        self.X = X.copy()\n",
    "        self.y = y.copy()\n",
    "        self.arms = arms\n",
    "        self.n_action = n_action\n",
    "        self.max_n_sim = max_n_sim\n",
    "        self.t_count = 0\n",
    "        self.current_samples_idxs = None\n",
    "        self.history_idx = []\n",
    "    def __len__(self):\n",
    "        return self.n_action\n",
    "    def __getitem__(self, index):\n",
    "        return self.X[index, :], self.y[index]\n",
    "        pass\n",
    "    def reset(self):\n",
    "        self.t_count = 0\n",
    "\n",
    "    def draw(self):\n",
    "        assert self.X is not None  and self.y is not None\n",
    "        res = {}\n",
    "        retrieve_indices = []\n",
    "        for a in range(1, self.n_action+1):\n",
    "            arm_a_idx_list = list(np.where(self.arms == a)[0])\n",
    "            idx_a = random.sample(arm_a_idx_list, 1)\n",
    "            retrieve_indices.append(idx_a)\n",
    "        self.candidates_idx = retrieve_indices\n",
    "        res = self.X[retrieve_indices, :]\n",
    "        \n",
    "        self.current_samples_idxs = list(itertools.chain.from_iterable(retrieve_indices))\n",
    "        return res\n",
    "    \n",
    "    def best_arms(self):\n",
    "        if self.is_logit:\n",
    "            return np.where(self.y[self.current_samples_idxs] == 1)[0]\n",
    "        else: # for normal contextual bandit.\n",
    "            return ds.groupby(\"arm\").mean()[\"reward\"].idxmax()\n",
    "    def get_reward(self, index):\n",
    "        \"\"\"\n",
    "        rewardが0,1の値をとる確率変数でわかりずらかったため、試しにdetermined valued rewardを与える。\n",
    "        \"\"\"\n",
    "        self.history_idx.append(self.candidates_idx[index])\n",
    "        return (ds.groupby(\"arm\").mean()[\"reward\"]*100).iloc[index]\n",
    "\n",
    "#         return self.y[self.current_samples_idxs[index]]"
   ]
  },
  {
   "cell_type": "code",
   "execution_count": 134,
   "metadata": {},
   "outputs": [
    {
     "data": {
      "text/plain": [
       "2"
      ]
     },
     "execution_count": 134,
     "metadata": {},
     "output_type": "execute_result"
    }
   ],
   "source": [
    "import itertools, os\n",
    "ds.groupby(\"arm\").mean()[\"reward\"].idxmax()"
   ]
  },
  {
   "cell_type": "code",
   "execution_count": 116,
   "metadata": {},
   "outputs": [],
   "source": [
    "Arms = ContextualArms(n_action=10, max_n_sim=100, X=X, y=y,arms=arms, n_features=X.shape[1])"
   ]
  },
  {
   "cell_type": "code",
   "execution_count": 117,
   "metadata": {},
   "outputs": [
    {
     "data": {
      "text/plain": [
       "(10, 1, 100)"
      ]
     },
     "execution_count": 117,
     "metadata": {},
     "output_type": "execute_result"
    }
   ],
   "source": [
    "import random\n",
    "\n",
    "Arms.draw().shape\n"
   ]
  },
  {
   "cell_type": "code",
   "execution_count": 118,
   "metadata": {},
   "outputs": [
    {
     "data": {
      "text/plain": [
       "26.782077393075355"
      ]
     },
     "execution_count": 118,
     "metadata": {},
     "output_type": "execute_result"
    }
   ],
   "source": [
    "Arms.get_reward(1)"
   ]
  },
  {
   "cell_type": "code",
   "execution_count": 119,
   "metadata": {},
   "outputs": [
    {
     "data": {
      "text/plain": [
       "[135, 8135, 8230, 4688, 4204, 4778, 747, 8868, 7080, 9743]"
      ]
     },
     "execution_count": 119,
     "metadata": {},
     "output_type": "execute_result"
    }
   ],
   "source": [
    "list(Arms.current_samples_idxs)"
   ]
  },
  {
   "cell_type": "code",
   "execution_count": 120,
   "metadata": {},
   "outputs": [],
   "source": [
    "A = ds.loc[:, \"feat_0\":].values"
   ]
  },
  {
   "cell_type": "code",
   "execution_count": 121,
   "metadata": {},
   "outputs": [],
   "source": [
    "class LinUCB(object):\n",
    "    \n",
    "    def __init__(self, sigma=1, sigma_0=1):\n",
    "        \n",
    "        pass"
   ]
  },
  {
   "cell_type": "markdown",
   "metadata": {},
   "source": [
    "## LinUCB方策(アルゴリズム 7.1)"
   ]
  },
  {
   "cell_type": "markdown",
   "metadata": {},
   "source": [
    "うーんよくわからんかった。\n",
    "A_aはそれぞれの選択肢aにおける特徴量の分散行列で、p_atはpredicted valueのXX%信頼区間の上限値？かな？()\n",
    "$\\sqrt{x_{t,a}^TA_a^{-1}x_{t, a}}$、$theta$の分散が$V[\\hat{\\theta_a}] = \\sigma^2 A^{-1}_a$となる事から求められる。\n",
    "選んだ選択肢に関してだけ勾配降下法同じく更新してあげる。\n",
    "次の期へ進む。\n",
    "\n",
    "<img src=\"./data/LinUBC.png\" size=0.1>"
   ]
  },
  {
   "cell_type": "code",
   "execution_count": 122,
   "metadata": {},
   "outputs": [],
   "source": [
    "d = 100\n",
    "sigma=1; sigma_0=1\n",
    "A_inv =sigma_0/sigma * np.eye(d); A_inv\n",
    "b_t = np.zeros((d, 1))\n",
    "alpha = 0.05\n",
    "n_arms = 10\n",
    "n_sim = 10\n",
    "history = []\n"
   ]
  },
  {
   "cell_type": "code",
   "execution_count": 137,
   "metadata": {},
   "outputs": [],
   "source": [
    "mu_hat = np.zeros((n_arms, 1))\n",
    "\n",
    "# LinUCBアルゴリズム\n",
    "for t in range(1, n_sim):\n",
    "    \n",
    "    # 3.\n",
    "    theta = A_inv@b_t \n",
    "    # calc alpha_t\n",
    "    alpha_t = alpha*np.sqrt(np.log(t))\n",
    "    # 4. A[t]はa_itの転置ver\n",
    "    \n",
    "    # 各行動で以下のUCB scoreを計算する。\n",
    "    # 各アームの特徴量を引く\n",
    "    # shape : (10, 1, 100) 10 arms, (1, 100)の特徴量ベクトル\n",
    "    # 1次元目にアーム１から10までの特徴量を順番に格納している。\n",
    "    A_ = Arms.draw()\n",
    "    for i in range(n_arms):\n",
    "        mu_hat[i] = np.dot(A_[i], theta) + alpha_t*sigma*np.sqrt(A_[i]@A_inv@A_[i].T)\n",
    "    i_star = mu_hat.argmax(0)[0]\n",
    "    history.append(i_star)\n",
    "    #5. スコア最大の行動 i*　を選択して報酬を観測する。\n",
    "    reward = Arms.get_reward(index=i_star)\n",
    "    #6.  A-inverse/ bの更新をする。\n",
    "    second_term = (A_inv@A_[i_star].T@A_[i_star]@A_inv) / (1+A_[i_star]@A_inv@A_[i_star].T)\n",
    "    A_inv = A_inv - second_term\n",
    "    b_t += A_[i_star].T*reward    "
   ]
  },
  {
   "cell_type": "code",
   "execution_count": 124,
   "metadata": {},
   "outputs": [
    {
     "data": {
      "text/plain": [
       "<matplotlib.axes._subplots.AxesSubplot at 0x124c35590>"
      ]
     },
     "execution_count": 124,
     "metadata": {},
     "output_type": "execute_result"
    },
    {
     "data": {
      "image/png": "[encoded data removed]",
      "text/plain": [
       "<Figure size 432x288 with 1 Axes>"
      ]
     },
     "metadata": {
      "needs_background": "light"
     },
     "output_type": "display_data"
    }
   ],
   "source": [
    "import seaborn as sns\n",
    "sns.countplot(x=\"chosen_arm\", data=pd.DataFrame(history, columns=[\"chosen_arm\"]))"
   ]
  },
  {
   "cell_type": "code",
   "execution_count": 125,
   "metadata": {},
   "outputs": [
    {
     "data": {
      "text/plain": [
       "<matplotlib.axes._subplots.AxesSubplot at 0x123c94a50>"
      ]
     },
     "execution_count": 125,
     "metadata": {},
     "output_type": "execute_result"
    },
    {
     "data": {
      "image/png": "[encoded data removed]",
      "text/plain": [
       "<Figure size 432x288 with 1 Axes>"
      ]
     },
     "metadata": {
      "needs_background": "light"
     },
     "output_type": "display_data"
    }
   ],
   "source": [
    "ds.groupby(\"arm\").mean()[\"reward\"].plot(kind=\"bar\")"
   ]
  },
  {
   "cell_type": "code",
   "execution_count": 126,
   "metadata": {},
   "outputs": [
    {
     "data": {
      "text/plain": [
       "<matplotlib.axes._subplots.AxesSubplot at 0x1250fc750>"
      ]
     },
     "execution_count": 126,
     "metadata": {},
     "output_type": "execute_result"
    },
    {
     "data": {
      "image/png": "[encoded data removed]",
      "text/plain": [
       "<Figure size 432x288 with 1 Axes>"
      ]
     },
     "metadata": {
      "needs_background": "light"
     },
     "output_type": "display_data"
    }
   ],
   "source": [
    "pd.DataFrame(theta, ).plot(kind='bar')"
   ]
  },
  {
   "cell_type": "code",
   "execution_count": 127,
   "metadata": {},
   "outputs": [
    {
     "data": {
      "text/plain": [
       "array([2])"
      ]
     },
     "execution_count": 127,
     "metadata": {},
     "output_type": "execute_result"
    }
   ],
   "source": [
    "# theta\n",
    "# pd.DataFrame(theta, ).T.sort_values(0, ascending=False).head()\n",
    "\n",
    "# regret\n",
    "\n",
    "# Arms.best_arms()\n",
    "np.where(Arms.y[Arms.current_samples_idxs] == 1, )[0]\n",
    "\n",
    "# Arms.current_samples_idxs"
   ]
  },
  {
   "cell_type": "markdown",
   "metadata": {},
   "source": [
    "reward高いアームを選べるように学習できている！"
   ]
  },
  {
   "cell_type": "markdown",
   "metadata": {},
   "source": [
    "### Thompson Sampling\n",
    "\n",
    "$X_i(t) = \\theta^Ta_{i,t} + \\epsilon(t)$\n",
    "\n",
    "$\\epsilon(t) \\sim N(., \\sigma^2)$\n",
    "\n",
    "今、$\\theta$の事前分布を$\\pi(\\theta) = N(0, I_d)$ とすると、**各時刻に行動して報酬列を得た際の$\\theta$の事後分布は...**\n",
    "\n",
    "$\\displaystyle \\pi(\\theta| \\{i(s), X(s)\\}^t_{s=1} )\\propto \\exp( - \\frac{1}{2\\sigma^2} (\\theta - A_t^{-1}b_t)^TA_t(\\theta - A_t^{-1}b_t))$\n",
    "\n",
    "これは、$\\theta$の事後分布が、$N(A^{-1}b, \\sigma^2A^{-1})$であることをしている。\n",
    "\n",
    "#### psuedo code\n",
    "\n",
    "- input: $\\sigma^2$\n",
    "- param: $\\sigma_0^2 > 0$\n",
    "\n",
    "1. $A^{-1} \\leftarrow \\frac{\\sigma_0^2}{\\sigma^2} I_d, b \\leftarrow 0_d$\n",
    "2. **for t=1,2, ... ,T**\n",
    "3. $\\tilde{\\theta}$を多変量正規分布$N(A^{-1}b, \\sigma^2A^{-1})$から生成\n",
    "4. $ i \\leftarrow argmax_i \\tilde{\\theta}^T a_{i,t}$を選択して報酬X(t)を観測\n",
    "5. LinUCBと同じA_inv, b_tの更新\n",
    "6. **end for**  \n",
    "\\----END CODE\\---\n",
    "\n",
    "\n",
    "- inputの$\\sigma^2$をサンプリングのフェーズごとに調整してあげると、適切なリグレットを達成できることが示されている。\n",
    "    - $\\sigma^2 = O(R^2 d logT)$を設定すると、高確率で$O(d^2 \\sqrt{T} \\log{(dT)})$のリグレットが達成できる。Agrawal and Goyal(2013)"
   ]
  },
  {
   "cell_type": "code",
   "execution_count": null,
   "metadata": {},
   "outputs": [],
   "source": []
  },
  {
   "cell_type": "code",
   "execution_count": 21,
   "metadata": {},
   "outputs": [],
   "source": [
    "# (sigma**2*A_inv).shape\n"
   ]
  },
  {
   "cell_type": "code",
   "execution_count": 22,
   "metadata": {},
   "outputs": [],
   "source": [
    "# np.exp(-np.diag((x - mu)@inv@(x - mu).T)/2.0) / (np.sqrt((2 * np.pi) ** n * det))\n",
    "from scipy.stats import multivariate_normal\n"
   ]
  },
  {
   "cell_type": "code",
   "execution_count": 23,
   "metadata": {},
   "outputs": [],
   "source": [
    "d = 100\n",
    "sigma=1; sigma_0=1\n",
    "A_inv =sigma_0/sigma * np.eye(d); A_inv\n",
    "b_t = np.zeros((d, 1))\n",
    "alpha = 0.05\n",
    "n_arms = 10\n",
    "n_sim = 10\n",
    "history = []"
   ]
  },
  {
   "cell_type": "code",
   "execution_count": 24,
   "metadata": {
    "scrolled": true
   },
   "outputs": [],
   "source": [
    "mu_hat = np.zeros((n_arms, 1))\n",
    "\n",
    "#  Thompson sampling アルゴリズム\n",
    "for t in range(1, n_sim):\n",
    "    # 3. draw_theta\n",
    "    theta = np.random.multivariate_normal(A_inv@b_t.flatten(), sigma**2*A_inv, size=1)\n",
    "    # 4. A[t]はa_itの転置ver\n",
    "    # 各アームの特徴量を引く\n",
    "    # shape : (10, 1, 100) 10 arms, (1, 100)の特徴量ベクトル\n",
    "    # 1次元目にアーム１から10までの特徴量を順番に格納している。\n",
    "    A_ = Arms.draw()\n",
    "    for i in range(n_arms):\n",
    "        mu_hat[i] = np.dot(A_[i].ravel(), theta.ravel())\n",
    "    i_star = mu_hat.argmax(0)[0]\n",
    "    history.append(i_star)\n",
    "\n",
    "    #5. スコア最大の行動 i*　を選択して報酬を観測する。\n",
    "    reward = Arms.get_reward(index=i_star)\n",
    "    #6.  A-inverse/ bの更新をする。\n",
    "    second_term = (A_inv@A_[i_star].T@A_[i_star]@A_inv) / (1+A_[i_star]@A_inv@A_[i_star].T)\n",
    "    A_inv = A_inv - second_term\n",
    "    b_t += A_[i_star].T*reward    "
   ]
  },
  {
   "cell_type": "code",
   "execution_count": 25,
   "metadata": {},
   "outputs": [
    {
     "data": {
      "text/plain": [
       "<matplotlib.axes._subplots.AxesSubplot at 0x11f51fa10>"
      ]
     },
     "execution_count": 25,
     "metadata": {},
     "output_type": "execute_result"
    },
    {
     "data": {
      "image/png": "[encoded data removed]",
      "text/plain": [
       "<Figure size 432x288 with 1 Axes>"
      ]
     },
     "metadata": {
      "needs_background": "light"
     },
     "output_type": "display_data"
    }
   ],
   "source": [
    "sns.countplot(x=\"chosen_arm\", data=pd.DataFrame(history, columns=[\"chosen_arm\"]))"
   ]
  },
  {
   "cell_type": "code",
   "execution_count": 26,
   "metadata": {},
   "outputs": [
    {
     "data": {
      "text/plain": [
       "<matplotlib.axes._subplots.AxesSubplot at 0x11f566ad0>"
      ]
     },
     "execution_count": 26,
     "metadata": {},
     "output_type": "execute_result"
    },
    {
     "data": {
      "image/png": "[encoded data removed]",
      "text/plain": [
       "<Figure size 432x288 with 1 Axes>"
      ]
     },
     "metadata": {
      "needs_background": "light"
     },
     "output_type": "display_data"
    }
   ],
   "source": [
    "pd.DataFrame(theta, ).T.plot(kind='bar')"
   ]
  },
  {
   "cell_type": "code",
   "execution_count": 27,
   "metadata": {},
   "outputs": [
    {
     "data": {
      "text/html": [
       "<div>\n",
       "<style scoped>\n",
       "    .dataframe tbody tr th:only-of-type {\n",
       "        vertical-align: middle;\n",
       "    }\n",
       "\n",
       "    .dataframe tbody tr th {\n",
       "        vertical-align: top;\n",
       "    }\n",
       "\n",
       "    .dataframe thead th {\n",
       "        text-align: right;\n",
       "    }\n",
       "</style>\n",
       "<table border=\"1\" class=\"dataframe\">\n",
       "  <thead>\n",
       "    <tr style=\"text-align: right;\">\n",
       "      <th></th>\n",
       "      <th>0</th>\n",
       "    </tr>\n",
       "  </thead>\n",
       "  <tbody>\n",
       "    <tr>\n",
       "      <th>60</th>\n",
       "      <td>2.218947</td>\n",
       "    </tr>\n",
       "    <tr>\n",
       "      <th>47</th>\n",
       "      <td>2.196268</td>\n",
       "    </tr>\n",
       "    <tr>\n",
       "      <th>69</th>\n",
       "      <td>2.027035</td>\n",
       "    </tr>\n",
       "    <tr>\n",
       "      <th>55</th>\n",
       "      <td>1.908476</td>\n",
       "    </tr>\n",
       "    <tr>\n",
       "      <th>46</th>\n",
       "      <td>1.606920</td>\n",
       "    </tr>\n",
       "  </tbody>\n",
       "</table>\n",
       "</div>"
      ],
      "text/plain": [
       "           0\n",
       "60  2.218947\n",
       "47  2.196268\n",
       "69  2.027035\n",
       "55  1.908476\n",
       "46  1.606920"
      ]
     },
     "execution_count": 27,
     "metadata": {},
     "output_type": "execute_result"
    }
   ],
   "source": [
    "pd.DataFrame(theta, ).T.sort_values(0, ascending=False).head()"
   ]
  },
  {
   "cell_type": "code",
   "execution_count": 28,
   "metadata": {},
   "outputs": [
    {
     "data": {
      "text/html": [
       "<div>\n",
       "<style scoped>\n",
       "    .dataframe tbody tr th:only-of-type {\n",
       "        vertical-align: middle;\n",
       "    }\n",
       "\n",
       "    .dataframe tbody tr th {\n",
       "        vertical-align: top;\n",
       "    }\n",
       "\n",
       "    .dataframe thead th {\n",
       "        text-align: right;\n",
       "    }\n",
       "</style>\n",
       "<table border=\"1\" class=\"dataframe\">\n",
       "  <thead>\n",
       "    <tr style=\"text-align: right;\">\n",
       "      <th></th>\n",
       "      <th>0</th>\n",
       "    </tr>\n",
       "  </thead>\n",
       "  <tbody>\n",
       "    <tr>\n",
       "      <th>49</th>\n",
       "      <td>-1.650478</td>\n",
       "    </tr>\n",
       "    <tr>\n",
       "      <th>51</th>\n",
       "      <td>-1.655617</td>\n",
       "    </tr>\n",
       "    <tr>\n",
       "      <th>30</th>\n",
       "      <td>-1.728940</td>\n",
       "    </tr>\n",
       "    <tr>\n",
       "      <th>52</th>\n",
       "      <td>-1.920648</td>\n",
       "    </tr>\n",
       "    <tr>\n",
       "      <th>63</th>\n",
       "      <td>-2.243914</td>\n",
       "    </tr>\n",
       "  </tbody>\n",
       "</table>\n",
       "</div>"
      ],
      "text/plain": [
       "           0\n",
       "49 -1.650478\n",
       "51 -1.655617\n",
       "30 -1.728940\n",
       "52 -1.920648\n",
       "63 -2.243914"
      ]
     },
     "execution_count": 28,
     "metadata": {},
     "output_type": "execute_result"
    }
   ],
   "source": [
    "pd.DataFrame(theta, ).T.sort_values(0, ascending=False).tail()"
   ]
  },
  {
   "cell_type": "markdown",
   "metadata": {},
   "source": [
    "- LinUCB方策では、$\\alpha_t$をtに応じて変化させることで、誤識別率を調整し、リグレット最小化を図るのに対し、Thompson samplingは$\\sigma$を動かしている。\n",
    "- 理論解析においては、やはり頻度論ベースのLinUCB方策に関する研究が進んでいる印象はある。"
   ]
  },
  {
   "cell_type": "markdown",
   "metadata": {},
   "source": [
    "## Thompson Sampling with Binary Outcome, using Logistic regression"
   ]
  },
  {
   "cell_type": "code",
   "execution_count": 29,
   "metadata": {},
   "outputs": [],
   "source": [
    "def Hessian(theta, history=None):\n",
    "    assert previous_cum_matrix is not None\n",
    "    assert (len(history[\"actions\"]) > 0) & (len(history[\"arm_features\"]) > 0)\n",
    "    \n",
    "    prior_part = np.eye(d)/sigma_0\n",
    "    # self.cum_matrix\n",
    "    # initial: self.cum_matrix = np.zeros((d, d))\n",
    "    \n",
    "    cum_matrix = np.exp(np.dot(theta.ravel(), A_[i_star].ravel()))*A_[i_star].T@A_[i_star]/(1+np.exp(np.dot(theta.ravel(), A_[i_star].ravel())))**2\n",
    "    \n",
    "    \n",
    "    pass\n",
    "# np.eye(d)/sigma_0 + \n"
   ]
  },
  {
   "cell_type": "code",
   "execution_count": 30,
   "metadata": {},
   "outputs": [],
   "source": [
    "# theta\n",
    "# arm_feature = A_[1]\n",
    "# arm_feature.T@arm_feature"
   ]
  },
  {
   "cell_type": "code",
   "execution_count": 31,
   "metadata": {},
   "outputs": [],
   "source": [
    "@np.vectorize\n",
    "def component_logit_hessian(theta, arm_feature):\n",
    "    print(arm_feature, f\"{theta}\")\n",
    "    return np.exp(np.dot(theta.ravel(), arm_feature.ravel()))* arm_feature.T@arm_feature /(1+np.exp(np.dot(theta.ravel(), arm_feature.ravel())))**2"
   ]
  },
  {
   "cell_type": "code",
   "execution_count": 32,
   "metadata": {},
   "outputs": [
    {
     "name": "stdout",
     "output_type": "stream",
     "text": [
      "8.0 -0.9223503969950761\n"
     ]
    },
    {
     "ename": "TypeError",
     "evalue": "unsupported operand type(s) for @: 'numpy.float64' and 'numpy.float64'",
     "output_type": "error",
     "traceback": [
      "\u001b[0;31m---------------------------------------------------------------------------\u001b[0m",
      "\u001b[0;31mTypeError\u001b[0m                                 Traceback (most recent call last)",
      "\u001b[0;32m<ipython-input-32-051755ce79b2>\u001b[0m in \u001b[0;36m<module>\u001b[0;34m\u001b[0m\n\u001b[1;32m      1\u001b[0m \u001b[0;31m# vectorizeで高速化できないか？\u001b[0m\u001b[0;34m\u001b[0m\u001b[0;34m\u001b[0m\u001b[0;34m\u001b[0m\u001b[0m\n\u001b[1;32m      2\u001b[0m \u001b[0;31m# ```np.vectorize()```すると、flattenした状態で並列処理しようとするようである。\u001b[0m\u001b[0;34m\u001b[0m\u001b[0;34m\u001b[0m\u001b[0;34m\u001b[0m\u001b[0m\n\u001b[0;32m----> 3\u001b[0;31m \u001b[0mcomponent_logit_hessian\u001b[0m\u001b[0;34m(\u001b[0m\u001b[0mtheta\u001b[0m\u001b[0;34m,\u001b[0m \u001b[0mA_\u001b[0m\u001b[0;34m[\u001b[0m\u001b[0;34m:\u001b[0m\u001b[0;36m2\u001b[0m\u001b[0;34m]\u001b[0m\u001b[0;34m.\u001b[0m\u001b[0mastype\u001b[0m\u001b[0;34m(\u001b[0m\u001b[0mnp\u001b[0m\u001b[0;34m.\u001b[0m\u001b[0mfloat64\u001b[0m\u001b[0;34m)\u001b[0m\u001b[0;34m)\u001b[0m\u001b[0;34m\u001b[0m\u001b[0;34m\u001b[0m\u001b[0m\n\u001b[0m",
      "\u001b[0;32m~/.venv/lib/python3.7/site-packages/numpy/lib/function_base.py\u001b[0m in \u001b[0;36m__call__\u001b[0;34m(self, *args, **kwargs)\u001b[0m\n\u001b[1;32m   2089\u001b[0m             \u001b[0mvargs\u001b[0m\u001b[0;34m.\u001b[0m\u001b[0mextend\u001b[0m\u001b[0;34m(\u001b[0m\u001b[0;34m[\u001b[0m\u001b[0mkwargs\u001b[0m\u001b[0;34m[\u001b[0m\u001b[0m_n\u001b[0m\u001b[0;34m]\u001b[0m \u001b[0;32mfor\u001b[0m \u001b[0m_n\u001b[0m \u001b[0;32min\u001b[0m \u001b[0mnames\u001b[0m\u001b[0;34m]\u001b[0m\u001b[0;34m)\u001b[0m\u001b[0;34m\u001b[0m\u001b[0;34m\u001b[0m\u001b[0m\n\u001b[1;32m   2090\u001b[0m \u001b[0;34m\u001b[0m\u001b[0m\n\u001b[0;32m-> 2091\u001b[0;31m         \u001b[0;32mreturn\u001b[0m \u001b[0mself\u001b[0m\u001b[0;34m.\u001b[0m\u001b[0m_vectorize_call\u001b[0m\u001b[0;34m(\u001b[0m\u001b[0mfunc\u001b[0m\u001b[0;34m=\u001b[0m\u001b[0mfunc\u001b[0m\u001b[0;34m,\u001b[0m \u001b[0margs\u001b[0m\u001b[0;34m=\u001b[0m\u001b[0mvargs\u001b[0m\u001b[0;34m)\u001b[0m\u001b[0;34m\u001b[0m\u001b[0;34m\u001b[0m\u001b[0m\n\u001b[0m\u001b[1;32m   2092\u001b[0m \u001b[0;34m\u001b[0m\u001b[0m\n\u001b[1;32m   2093\u001b[0m     \u001b[0;32mdef\u001b[0m \u001b[0m_get_ufunc_and_otypes\u001b[0m\u001b[0;34m(\u001b[0m\u001b[0mself\u001b[0m\u001b[0;34m,\u001b[0m \u001b[0mfunc\u001b[0m\u001b[0;34m,\u001b[0m \u001b[0margs\u001b[0m\u001b[0;34m)\u001b[0m\u001b[0;34m:\u001b[0m\u001b[0;34m\u001b[0m\u001b[0;34m\u001b[0m\u001b[0m\n",
      "\u001b[0;32m~/.venv/lib/python3.7/site-packages/numpy/lib/function_base.py\u001b[0m in \u001b[0;36m_vectorize_call\u001b[0;34m(self, func, args)\u001b[0m\n\u001b[1;32m   2159\u001b[0m             \u001b[0mres\u001b[0m \u001b[0;34m=\u001b[0m \u001b[0mfunc\u001b[0m\u001b[0;34m(\u001b[0m\u001b[0;34m)\u001b[0m\u001b[0;34m\u001b[0m\u001b[0;34m\u001b[0m\u001b[0m\n\u001b[1;32m   2160\u001b[0m         \u001b[0;32melse\u001b[0m\u001b[0;34m:\u001b[0m\u001b[0;34m\u001b[0m\u001b[0;34m\u001b[0m\u001b[0m\n\u001b[0;32m-> 2161\u001b[0;31m             \u001b[0mufunc\u001b[0m\u001b[0;34m,\u001b[0m \u001b[0motypes\u001b[0m \u001b[0;34m=\u001b[0m \u001b[0mself\u001b[0m\u001b[0;34m.\u001b[0m\u001b[0m_get_ufunc_and_otypes\u001b[0m\u001b[0;34m(\u001b[0m\u001b[0mfunc\u001b[0m\u001b[0;34m=\u001b[0m\u001b[0mfunc\u001b[0m\u001b[0;34m,\u001b[0m \u001b[0margs\u001b[0m\u001b[0;34m=\u001b[0m\u001b[0margs\u001b[0m\u001b[0;34m)\u001b[0m\u001b[0;34m\u001b[0m\u001b[0;34m\u001b[0m\u001b[0m\n\u001b[0m\u001b[1;32m   2162\u001b[0m \u001b[0;34m\u001b[0m\u001b[0m\n\u001b[1;32m   2163\u001b[0m             \u001b[0;31m# Convert args to object arrays first\u001b[0m\u001b[0;34m\u001b[0m\u001b[0;34m\u001b[0m\u001b[0;34m\u001b[0m\u001b[0m\n",
      "\u001b[0;32m~/.venv/lib/python3.7/site-packages/numpy/lib/function_base.py\u001b[0m in \u001b[0;36m_get_ufunc_and_otypes\u001b[0;34m(self, func, args)\u001b[0m\n\u001b[1;32m   2119\u001b[0m \u001b[0;34m\u001b[0m\u001b[0m\n\u001b[1;32m   2120\u001b[0m             \u001b[0minputs\u001b[0m \u001b[0;34m=\u001b[0m \u001b[0;34m[\u001b[0m\u001b[0marg\u001b[0m\u001b[0;34m.\u001b[0m\u001b[0mflat\u001b[0m\u001b[0;34m[\u001b[0m\u001b[0;36m0\u001b[0m\u001b[0;34m]\u001b[0m \u001b[0;32mfor\u001b[0m \u001b[0marg\u001b[0m \u001b[0;32min\u001b[0m \u001b[0margs\u001b[0m\u001b[0;34m]\u001b[0m\u001b[0;34m\u001b[0m\u001b[0;34m\u001b[0m\u001b[0m\n\u001b[0;32m-> 2121\u001b[0;31m             \u001b[0moutputs\u001b[0m \u001b[0;34m=\u001b[0m \u001b[0mfunc\u001b[0m\u001b[0;34m(\u001b[0m\u001b[0;34m*\u001b[0m\u001b[0minputs\u001b[0m\u001b[0;34m)\u001b[0m\u001b[0;34m\u001b[0m\u001b[0;34m\u001b[0m\u001b[0m\n\u001b[0m\u001b[1;32m   2122\u001b[0m \u001b[0;34m\u001b[0m\u001b[0m\n\u001b[1;32m   2123\u001b[0m             \u001b[0;31m# Performance note: profiling indicates that -- for simple\u001b[0m\u001b[0;34m\u001b[0m\u001b[0;34m\u001b[0m\u001b[0;34m\u001b[0m\u001b[0m\n",
      "\u001b[0;32m<ipython-input-31-90fe4a807838>\u001b[0m in \u001b[0;36mcomponent_logit_hessian\u001b[0;34m(theta, arm_feature)\u001b[0m\n\u001b[1;32m      2\u001b[0m \u001b[0;32mdef\u001b[0m \u001b[0mcomponent_logit_hessian\u001b[0m\u001b[0;34m(\u001b[0m\u001b[0mtheta\u001b[0m\u001b[0;34m,\u001b[0m \u001b[0marm_feature\u001b[0m\u001b[0;34m)\u001b[0m\u001b[0;34m:\u001b[0m\u001b[0;34m\u001b[0m\u001b[0;34m\u001b[0m\u001b[0m\n\u001b[1;32m      3\u001b[0m     \u001b[0mprint\u001b[0m\u001b[0;34m(\u001b[0m\u001b[0marm_feature\u001b[0m\u001b[0;34m,\u001b[0m \u001b[0;34mf\"{theta}\"\u001b[0m\u001b[0;34m)\u001b[0m\u001b[0;34m\u001b[0m\u001b[0;34m\u001b[0m\u001b[0m\n\u001b[0;32m----> 4\u001b[0;31m     \u001b[0;32mreturn\u001b[0m \u001b[0mnp\u001b[0m\u001b[0;34m.\u001b[0m\u001b[0mexp\u001b[0m\u001b[0;34m(\u001b[0m\u001b[0mnp\u001b[0m\u001b[0;34m.\u001b[0m\u001b[0mdot\u001b[0m\u001b[0;34m(\u001b[0m\u001b[0mtheta\u001b[0m\u001b[0;34m.\u001b[0m\u001b[0mravel\u001b[0m\u001b[0;34m(\u001b[0m\u001b[0;34m)\u001b[0m\u001b[0;34m,\u001b[0m \u001b[0marm_feature\u001b[0m\u001b[0;34m.\u001b[0m\u001b[0mravel\u001b[0m\u001b[0;34m(\u001b[0m\u001b[0;34m)\u001b[0m\u001b[0;34m)\u001b[0m\u001b[0;34m)\u001b[0m\u001b[0;34m*\u001b[0m \u001b[0marm_feature\u001b[0m\u001b[0;34m.\u001b[0m\u001b[0mT\u001b[0m\u001b[0;34m@\u001b[0m\u001b[0marm_feature\u001b[0m \u001b[0;34m/\u001b[0m\u001b[0;34m(\u001b[0m\u001b[0;36m1\u001b[0m\u001b[0;34m+\u001b[0m\u001b[0mnp\u001b[0m\u001b[0;34m.\u001b[0m\u001b[0mexp\u001b[0m\u001b[0;34m(\u001b[0m\u001b[0mnp\u001b[0m\u001b[0;34m.\u001b[0m\u001b[0mdot\u001b[0m\u001b[0;34m(\u001b[0m\u001b[0mtheta\u001b[0m\u001b[0;34m.\u001b[0m\u001b[0mravel\u001b[0m\u001b[0;34m(\u001b[0m\u001b[0;34m)\u001b[0m\u001b[0;34m,\u001b[0m \u001b[0marm_feature\u001b[0m\u001b[0;34m.\u001b[0m\u001b[0mravel\u001b[0m\u001b[0;34m(\u001b[0m\u001b[0;34m)\u001b[0m\u001b[0;34m)\u001b[0m\u001b[0;34m)\u001b[0m\u001b[0;34m)\u001b[0m\u001b[0;34m**\u001b[0m\u001b[0;36m2\u001b[0m\u001b[0;34m\u001b[0m\u001b[0;34m\u001b[0m\u001b[0m\n\u001b[0m",
      "\u001b[0;31mTypeError\u001b[0m: unsupported operand type(s) for @: 'numpy.float64' and 'numpy.float64'"
     ]
    }
   ],
   "source": [
    "# vectorizeで高速化できないか？\n",
    "# ```np.vectorize()```すると、flattenした状態で並列処理しようとするようである。\n",
    "component_logit_hessian(theta, A_[:2].astype(np.float64))"
   ]
  },
  {
   "cell_type": "code",
   "execution_count": 33,
   "metadata": {},
   "outputs": [],
   "source": [
    "# @np.vectorizeはやめるー\n",
    "def component_logit_hessian(theta, arm_feature):\n",
    "#     print((arm_feature.T@arm_feature)[0,0])\n",
    "#     print(np.exp(np.dot(theta.ravel(), arm_feature.ravel())))\n",
    "#     print((1+np.exp(np.dot(theta.ravel(), arm_feature.ravel())))**2)\n",
    "    return np.exp(np.dot(theta.ravel(), arm_feature.ravel()))* arm_feature.T@arm_feature /(1+np.exp(np.dot(theta.ravel(), arm_feature.ravel())))**2"
   ]
  },
  {
   "cell_type": "code",
   "execution_count": 34,
   "metadata": {},
   "outputs": [
    {
     "data": {
      "text/plain": [
       "0.0"
      ]
     },
     "execution_count": 34,
     "metadata": {},
     "output_type": "execute_result"
    }
   ],
   "source": [
    "component_logit_hessian(theta, A_[1].astype(np.float64))[0, 0 ]"
   ]
  },
  {
   "cell_type": "code",
   "execution_count": null,
   "metadata": {},
   "outputs": [],
   "source": []
  },
  {
   "cell_type": "code",
   "execution_count": 35,
   "metadata": {},
   "outputs": [],
   "source": []
  },
  {
   "cell_type": "code",
   "execution_count": 36,
   "metadata": {},
   "outputs": [],
   "source": []
  },
  {
   "cell_type": "code",
   "execution_count": 53,
   "metadata": {},
   "outputs": [],
   "source": [
    "def Hessian_inv(theta, Arms=None):\n",
    "    assert Arms is not None    \n",
    "    hessian = np.eye(d)/sigma_0\n",
    "    # self.cum_matrix\n",
    "    # initial: self.cum_matrix = np.zeros((d, d))\n",
    "    for i in np.array(Arms.history_idx).flatten():\n",
    "        x, y = Arms[i]\n",
    "        hessian = hessian + component_logit_hessian(theta, x.reshape((1, -1)))\n",
    "    return np.linalg.inv(hessian)"
   ]
  },
  {
   "cell_type": "code",
   "execution_count": null,
   "metadata": {},
   "outputs": [],
   "source": []
  },
  {
   "cell_type": "markdown",
   "metadata": {},
   "source": [
    "# 以下、scraps"
   ]
  },
  {
   "cell_type": "code",
   "execution_count": null,
   "metadata": {},
   "outputs": [],
   "source": [
    "```"
   ]
  },
  {
   "cell_type": "code",
   "execution_count": null,
   "metadata": {},
   "outputs": [],
   "source": [
    "np.linalg.inv(A_inv)"
   ]
  },
  {
   "cell_type": "code",
   "execution_count": null,
   "metadata": {},
   "outputs": [],
   "source": []
  },
  {
   "cell_type": "code",
   "execution_count": null,
   "metadata": {},
   "outputs": [],
   "source": []
  },
  {
   "cell_type": "code",
   "execution_count": null,
   "metadata": {},
   "outputs": [],
   "source": [
    "contextual.draw()"
   ]
  },
  {
   "cell_type": "code",
   "execution_count": null,
   "metadata": {},
   "outputs": [],
   "source": [
    "class EpsilonGreedyAgent():\n",
    "\n",
    "    def __init__(self, epsilon):\n",
    "        self.epsilon = epsilon\n",
    "        self.V = []\n",
    "\n",
    "    def policy(self):\n",
    "        coins = range(len(self.V))\n",
    "        if random.random() < self.epsilon:\n",
    "            return random.choice(coins)\n",
    "        else:\n",
    "            return np.argmax(self.V)\n",
    "\n",
    "    def play(self, env):\n",
    "        # Initialize estimation.\n",
    "        N = [0] * len(env)\n",
    "        self.V = [0] * len(env)\n",
    "\n",
    "        env.reset()\n",
    "        done = False\n",
    "        rewards = []\n",
    "        while not done:\n",
    "            selected_coin = self.policy()\n",
    "            reward, done = env.step(selected_coin)\n",
    "            rewards.append(reward)\n",
    "\n",
    "            n = N[selected_coin]\n",
    "            coin_average = self.V[selected_coin]\n",
    "            new_average = (coin_average * n + reward) / (n + 1)\n",
    "            N[selected_coin] += 1\n",
    "            self.V[selected_coin] = new_average\n",
    "\n",
    "        return rewards\n"
   ]
  },
  {
   "cell_type": "code",
   "execution_count": null,
   "metadata": {},
   "outputs": [],
   "source": [
    "def main():\n",
    "    env = ContextualBandit(n_action=3, max_n_sim=10000, simulation_dataset=(X, y))#CoinToss([0.1, 0.5, 0.1, 0.9, 0.1])\n",
    "    epsilons = [0.0, 0.01, 0.2, 0.5, 0.8]\n",
    "    game_steps = list(range(10, 310, 10))\n",
    "    result = {}\n",
    "    for e in epsilons:\n",
    "        agent = EpsilonGreedyAgent(epsilon=e)\n",
    "        means = []\n",
    "        for s in game_steps:\n",
    "            env.max_episode_steps = s\n",
    "            rewards = agent.play(env)\n",
    "            means.append(np.mean(rewards))\n",
    "        result[\"epsilon={}\".format(e)] = means\n",
    "    result[\"coin toss count\"] = game_steps\n",
    "    result = pd.DataFrame(result)\n",
    "    result.set_index(\"coin toss count\", drop=True, inplace=True)\n",
    "    result.plot.line(figsize=(10, 5))\n",
    "    plt.show()\n",
    "\n",
    "main()"
   ]
  },
  {
   "cell_type": "markdown",
   "metadata": {},
   "source": [
    "## 結果\n",
    "- 全てのarmの探索ができたagentは必ず1を返すarm(virginica)を選択できている。(epsilon=0.0を除く)\n",
    "- 探索する割合が固定なので、期待値はそれぞれのagentで 1- epsilonの大きさを反映したものなっている。（？）"
   ]
  },
  {
   "cell_type": "code",
   "execution_count": null,
   "metadata": {},
   "outputs": [],
   "source": [
    "import numpy as np"
   ]
  },
  {
   "cell_type": "markdown",
   "metadata": {},
   "source": [
    "### contextual Banditのagentを作成する。"
   ]
  },
  {
   "cell_type": "code",
   "execution_count": null,
   "metadata": {},
   "outputs": [],
   "source": [
    "pd.DataFrame(contextual.draw())"
   ]
  },
  {
   "cell_type": "code",
   "execution_count": null,
   "metadata": {},
   "outputs": [],
   "source": [
    "# とりあえず作ってみた。\n",
    "class LinUCB(object):\n",
    "    def __init__(self, ContextualEnv):\n",
    "        self.alpha =0.1\n",
    "        self.sigma = 0.5\n",
    "        pass\n",
    "    \n",
    "    def initialize(self, env):\n",
    "        self.d = env.n_features\n",
    "        self.inv_A = np.eye(self.d)\n",
    "        self.b = np.zeros((self.d,1))\n",
    "\n",
    "    def policy(self, env):\n",
    "        # get action\n",
    "        theta = self.inv_A@self.b\n",
    "        # calculate UCBscore\n",
    "        alpha = self.alpha * np.sqrt(np.log1p(env.t_count))\n",
    "        a_t = pd.DataFrame(env.draw()).values.T # n_features * n_actions\n",
    "        UCBscore = a_t@theta + np.diag(self.alpha*self.sigma*np.sqrt(a_t@self.inv_A@a_t.T)).reshape((-1, 1))\n",
    "        print(UCBscore)\n",
    "        action = np.argmax(UCBscore)\n",
    "        print(action)   \n",
    "        chosen_features = a_t.loc[:, action].values\n",
    "        return action , chosen_features\n",
    "    def update(self, features, reward):\n",
    "        # woodbury's identity\n",
    "        self.inv_A += (inv_A@features@features.T@inv_A)/(1 + features.T@inv_A@features)\n",
    "        self.b = self.b + features*reward\n",
    "        \n",
    "    def play(self, env):\n",
    "        # Initialize estimation.\n",
    "        rewards = []\n",
    "        # while not done:\n",
    "        self.initialize()\n",
    "        env.reset()\n",
    "        action, features = self.policy(env)\n",
    "        reward, done = env.step(action) \n",
    "        self.update(features, reward)\n",
    "        rewards.append(reward)\n",
    "        return rewards\n",
    "    "
   ]
  },
  {
   "cell_type": "code",
   "execution_count": null,
   "metadata": {},
   "outputs": [],
   "source": [
    "agent = LinUCB()\n",
    "agent.initialize(contextual)"
   ]
  },
  {
   "cell_type": "code",
   "execution_count": null,
   "metadata": {},
   "outputs": [],
   "source": [
    "agent.__dict__\n",
    "self = agent"
   ]
  },
  {
   "cell_type": "code",
   "execution_count": null,
   "metadata": {},
   "outputs": [],
   "source": []
  },
  {
   "cell_type": "code",
   "execution_count": null,
   "metadata": {},
   "outputs": [],
   "source": []
  },
  {
   "cell_type": "code",
   "execution_count": null,
   "metadata": {},
   "outputs": [],
   "source": [
    "# a_it ベクトルを生成するコード\n",
    "a_t = pd.DataFrame(contextual.draw()).values.T # n_features * n_actions\n",
    "# a_t (#actions * #features)"
   ]
  },
  {
   "cell_type": "code",
   "execution_count": null,
   "metadata": {},
   "outputs": [],
   "source": [
    "# stab\n",
    "theta = np.ones((4, 1))\n",
    "UCBscore = a_t@theta;print(UCBscore)\n",
    "action = np.argmax(UCBscore)\n",
    "action"
   ]
  },
  {
   "cell_type": "code",
   "execution_count": null,
   "metadata": {},
   "outputs": [],
   "source": [
    "np.diag(np.eye(4))"
   ]
  },
  {
   "cell_type": "code",
   "execution_count": null,
   "metadata": {},
   "outputs": [],
   "source": []
  },
  {
   "cell_type": "code",
   "execution_count": null,
   "metadata": {},
   "outputs": [],
   "source": [
    "X"
   ]
  },
  {
   "cell_type": "code",
   "execution_count": null,
   "metadata": {},
   "outputs": [],
   "source": [
    "\n",
    "random.sample(y[y==1].tolist(), k=1)"
   ]
  },
  {
   "cell_type": "code",
   "execution_count": null,
   "metadata": {},
   "outputs": [],
   "source": []
  },
  {
   "cell_type": "code",
   "execution_count": null,
   "metadata": {},
   "outputs": [],
   "source": [
    "n_sim"
   ]
  },
  {
   "cell_type": "code",
   "execution_count": null,
   "metadata": {},
   "outputs": [],
   "source": [
    "# Import personalization data-set\n",
    " \n",
    "# Info: https://d1ie9wlkzugsxr.cloudfront.net/data_irecsys_CARSKit/Movie_DePaulMovie/README.txt\n",
    " \n",
    "data_url = \"http://d1ie9wlkzugsxr.cloudfront.net/data_irecsys_CARSKit/Movie_DePaulMovie/ratings.csv\" "
   ]
  },
  {
   "cell_type": "code",
   "execution_count": null,
   "metadata": {},
   "outputs": [],
   "source": [
    "import pandas as pd, numpy as np\n",
    "import matplotlib.pyplot as plt\n",
    "%matplotlib inline"
   ]
  },
  {
   "cell_type": "code",
   "execution_count": null,
   "metadata": {},
   "outputs": [],
   "source": [
    "df = pd.read_csv(\"ratings.csv\")"
   ]
  },
  {
   "cell_type": "code",
   "execution_count": null,
   "metadata": {},
   "outputs": [],
   "source": [
    "df.head()"
   ]
  },
  {
   "cell_type": "code",
   "execution_count": null,
   "metadata": {},
   "outputs": [],
   "source": [
    "print(df.isna().sum(axis=0));df.userid.value_counts().plot(kind=\"box\")"
   ]
  },
  {
   "cell_type": "code",
   "execution_count": null,
   "metadata": {},
   "outputs": [],
   "source": [
    "for col in [\"Time\", \"Location\", \"Companion\"]:\n",
    "    print(df[col].value_counts())"
   ]
  },
  {
   "cell_type": "markdown",
   "metadata": {},
   "source": [
    "# Linear Bandit Algorithm\n",
    "\n",
    "- 他のマシンに関する情報を一切持たないケースを考えていたが、例えば、マシンごとの特徴量（*）から類似するマシンの報酬を推定する事ができるケースが現実問題で多々ある。\n",
    "\n",
    "(*):筆者はやった事ないが、パチンコの台の傾きや、釘と釘の長さによって、当たりやすいかいなかが変わってくるらしい。"
   ]
  },
  {
   "cell_type": "code",
   "execution_count": null,
   "metadata": {},
   "outputs": [],
   "source": [
    "# https://github.com/icoxfog417/baby-steps-of-rl-ja/blob/master/EL/epsilon_greedy.py\n",
    "class CoinToss():\n",
    "\n",
    "    def __init__(self, head_probs, max_episode_steps=30):\n",
    "        self.head_probs = head_probs\n",
    "        self.max_episode_steps = max_episode_steps\n",
    "        self.toss_count = 0\n",
    "\n",
    "    def __len__(self):\n",
    "        return len(self.head_probs)\n",
    "\n",
    "    def reset(self):\n",
    "        self.toss_count = 0\n",
    "\n",
    "    def step(self, action):\n",
    "        final = self.max_episode_steps - 1\n",
    "        if self.toss_count > final:\n",
    "            raise Exception(\"The step count exceeded maximum. \\\n",
    "                            Please reset env.\")\n",
    "        else:\n",
    "            done = True if self.toss_count == final else False\n",
    "\n",
    "        if action >= len(self.head_probs):\n",
    "            raise Exception(\"The No.{} coin doesn't exist.\".format(action))\n",
    "        else:\n",
    "            head_prob = self.head_probs[action]\n",
    "            if random.random() < head_prob:\n",
    "                reward = 1.0\n",
    "            else:\n",
    "                reward = 0.0\n",
    "            self.toss_count += 1\n",
    "            return reward, done\n",
    "        \n",
    "class EpsilonGreedyAgent():\n",
    "\n",
    "    def __init__(self, epsilon):\n",
    "        self.epsilon = epsilon\n",
    "        self.V = []\n",
    "\n",
    "    def policy(self):\n",
    "        coins = range(len(self.V))\n",
    "        if random.random() < self.epsilon:\n",
    "            return random.choice(coins)\n",
    "        else:\n",
    "            return np.argmax(self.V)\n",
    "\n",
    "    def play(self, env):\n",
    "        # Initialize estimation.\n",
    "        N = [0] * len(env)\n",
    "        self.V = [0] * len(env)\n",
    "\n",
    "        env.reset()\n",
    "        done = False\n",
    "        rewards = []\n",
    "        while not done:\n",
    "            selected_coin = self.policy()\n",
    "            reward, done = env.step(selected_coin)\n",
    "            rewards.append(reward)\n",
    "\n",
    "            n = N[selected_coin]\n",
    "            coin_average = self.V[selected_coin]\n",
    "            new_average = (coin_average * n + reward) / (n + 1)\n",
    "            N[selected_coin] += 1\n",
    "            self.V[selected_coin] = new_average\n",
    "\n",
    "        return rewards\n",
    "\n"
   ]
  },
  {
   "cell_type": "code",
   "execution_count": null,
   "metadata": {},
   "outputs": [],
   "source": [
    "import random\n",
    "import pandas as pd\n",
    "import matplotlib.pyplot as plt\n",
    "\n",
    "def main():\n",
    "    env = CoinToss([0.1, 0.5, 0.1, 0.9, 0.1])\n",
    "    epsilons = [0.0, 0.1, 0.2, 0.5, 0.8]\n",
    "    game_steps = list(range(10, 310, 10))\n",
    "    result = {}\n",
    "    for e in epsilons:\n",
    "        agent = EpsilonGreedyAgent(epsilon=e)\n",
    "        means = []\n",
    "        for s in game_steps:\n",
    "            env.max_episode_steps = s\n",
    "            rewards = agent.play(env)\n",
    "            means.append(np.mean(rewards))\n",
    "        result[\"epsilon={}\".format(e)] = means\n",
    "    result[\"coin toss count\"] = game_steps\n",
    "    result = pd.DataFrame(result)\n",
    "    result.set_index(\"coin toss count\", drop=True, inplace=True)\n",
    "    result.plot.line(figsize=(10, 5))\n",
    "    plt.show()\n",
    "\n",
    "main()"
   ]
  },
  {
   "cell_type": "markdown",
   "metadata": {},
   "source": [
    "# Construct Agents"
   ]
  },
  {
   "cell_type": "code",
   "execution_count": null,
   "metadata": {},
   "outputs": [],
   "source": []
  },
  {
   "cell_type": "code",
   "execution_count": null,
   "metadata": {},
   "outputs": [],
   "source": []
  },
  {
   "cell_type": "code",
   "execution_count": null,
   "metadata": {},
   "outputs": [],
   "source": []
  },
  {
   "cell_type": "markdown",
   "metadata": {},
   "source": [
    "# LinUBC"
   ]
  },
  {
   "cell_type": "code",
   "execution_count": null,
   "metadata": {},
   "outputs": [],
   "source": [
    "from sklearn.preprocessing import PolynomialFeatures"
   ]
  },
  {
   "cell_type": "code",
   "execution_count": null,
   "metadata": {},
   "outputs": [],
   "source": []
  },
  {
   "cell_type": "code",
   "execution_count": null,
   "metadata": {},
   "outputs": [],
   "source": [
    "# get_dummies, non idempotent processing\n",
    "# df = pd.concat([df, pd.get_dummies(df[[\"Time\", \"Location\", \"Companion\"]])], axis=1)"
   ]
  },
  {
   "cell_type": "code",
   "execution_count": null,
   "metadata": {},
   "outputs": [],
   "source": [
    "# dummies = pd.get_dummies(df[[\"Time\", \"Location\", \"Companion\"]])"
   ]
  },
  {
   "cell_type": "markdown",
   "metadata": {},
   "source": [
    "# Get Interactions"
   ]
  },
  {
   "cell_type": "code",
   "execution_count": null,
   "metadata": {},
   "outputs": [],
   "source": [
    "pe = PolynomialFeatures(2, interaction_only=True)\n",
    "\n",
    "interactions = pe.fit_transform(dummies, )\n",
    "\n",
    "generated_columns = pe.get_feature_names()\n",
    "\n",
    "assert  all(dummies.iloc[:, 1] == interactions[:, 2])\n",
    "\n",
    "corresp_cols ={f\"x{i}\": col for i , col in enumerate(dummies.columns)}\n",
    "\n",
    "# generated_columns \n",
    "for k,v in corresp_cols.items():\n",
    "    generated_columns = [col.replace(k, v) for col in generated_columns]\n",
    "generated_columns"
   ]
  },
  {
   "cell_type": "code",
   "execution_count": null,
   "metadata": {},
   "outputs": [],
   "source": []
  },
  {
   "cell_type": "code",
   "execution_count": null,
   "metadata": {},
   "outputs": [],
   "source": []
  },
  {
   "cell_type": "code",
   "execution_count": null,
   "metadata": {},
   "outputs": [],
   "source": [
    "dummies"
   ]
  },
  {
   "cell_type": "code",
   "execution_count": null,
   "metadata": {},
   "outputs": [],
   "source": [
    "# features of all arms\n",
    "non_features_cols = [\"userid\", \"itemid\", \"rating\"]\n",
    "df.columns.difference(non_features_cols).to_list()"
   ]
  },
  {
   "cell_type": "code",
   "execution_count": null,
   "metadata": {},
   "outputs": [],
   "source": [
    "# rewards vector\n",
    "rewards = df.rating.values.astype(np.float)\n",
    "features = dummies.values\n",
    "f_names = dummies.columns.to_list()"
   ]
  },
  {
   "cell_type": "code",
   "execution_count": null,
   "metadata": {},
   "outputs": [],
   "source": [
    "rewards"
   ]
  },
  {
   "cell_type": "code",
   "execution_count": null,
   "metadata": {},
   "outputs": [],
   "source": [
    "# t:time (各ユーザごとにpartitionきる？)\n",
    "d = features.shape[1]"
   ]
  },
  {
   "cell_type": "code",
   "execution_count": null,
   "metadata": {},
   "outputs": [],
   "source": [
    "A_a = np.eye(d)\n",
    "b_a = np.zeros((d, 1))"
   ]
  },
  {
   "cell_type": "code",
   "execution_count": null,
   "metadata": {},
   "outputs": [],
   "source": [
    "alpha = 0.3"
   ]
  },
  {
   "cell_type": "code",
   "execution_count": null,
   "metadata": {},
   "outputs": [],
   "source": [
    "theta_a = np.linalg.inv(A_a)@b_a\n",
    "p_ta = features@theta_a + alpha*np.sqrt(np.diag(features@np.linalg.inv(A_a)@features.T).reshape((-1, 1)))"
   ]
  },
  {
   "cell_type": "code",
   "execution_count": null,
   "metadata": {},
   "outputs": [],
   "source": [
    "(features@theta_a).shape"
   ]
  },
  {
   "cell_type": "code",
   "execution_count": null,
   "metadata": {},
   "outputs": [],
   "source": [
    "p_ta.shape"
   ]
  },
  {
   "cell_type": "markdown",
   "metadata": {},
   "source": [
    "# サンプルデータが見つからない...!\n",
    "\n",
    "- どうしようーってなっていたやさき、そういえばバンディットって「自分が選択したあーむ以外の報酬が見れないだけで問題設定はマルチラベリング問題のオンライン学習と同義」、と本多さんの本に書いてあったことを思い出した。\n",
    "    https://github.com/david-cortes/contextualbandits/blob/master/example/online_contextual_bandits.ipynb\n",
    "- irisを活用する！"
   ]
  },
  {
   "cell_type": "code",
   "execution_count": null,
   "metadata": {},
   "outputs": [],
   "source": [
    "from sklearn.datasets import load_iris "
   ]
  },
  {
   "cell_type": "code",
   "execution_count": null,
   "metadata": {},
   "outputs": [],
   "source": [
    "# X, y = load_iris(True)"
   ]
  },
  {
   "cell_type": "code",
   "execution_count": null,
   "metadata": {},
   "outputs": [],
   "source": [
    "X, y = load_iris(return_X_y=True)"
   ]
  },
  {
   "cell_type": "code",
   "execution_count": null,
   "metadata": {},
   "outputs": [],
   "source": [
    "y"
   ]
  },
  {
   "cell_type": "code",
   "execution_count": null,
   "metadata": {},
   "outputs": [],
   "source": [
    "# irisデータからbaditの文脈に合うようにsamplingできるクラスを作成する。\n",
    "df_cps1 = pd.read_stata('https://users.nber.org/~rdehejia/data/cps_controls.dta')\n",
    "df_cps3 = pd.read_stata('https://users.nber.org/~rdehejia/data/cps_controls3.dta')\n",
    "df_nsw = pd.read_stata('https://users.nber.org/~rdehejia/data/nsw_dw.dta')"
   ]
  },
  {
   "cell_type": "code",
   "execution_count": null,
   "metadata": {},
   "outputs": [],
   "source": [
    "df_cps1.describe()"
   ]
  },
  {
   "cell_type": "code",
   "execution_count": null,
   "metadata": {},
   "outputs": [],
   "source": [
    "# df_cps3.describe()\n",
    "df_nsw.columns\n",
    "regressors_columns =  ['treat', 'age', 'education', 'black', 'hispanic', 'married', 'nodegree',]\n",
    "target_column = 're78'\n",
    "X = df_nsw[regressors_columns].values\n",
    "y = df_nsw[target_column].values"
   ]
  }
 ],
 "metadata": {
  "kernelspec": {
   "display_name": "Python 3",
   "language": "python",
   "name": "python3"
  },
  "language_info": {
   "codemirror_mode": {
    "name": "ipython",
    "version": 3
   },
   "file_extension": ".py",
   "mimetype": "text/x-python",
   "name": "python",
   "nbconvert_exporter": "python",
   "pygments_lexer": "ipython3",
   "version": "3.7.4"
  }
 },
 "nbformat": 4,
 "nbformat_minor": 2
}
