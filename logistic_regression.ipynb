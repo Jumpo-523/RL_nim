{
 "cells": [
  {
   "cell_type": "code",
   "execution_count": 1,
   "metadata": {},
   "outputs": [],
   "source": [
    "import pandas as pd\n",
    "import numpy as np\n",
    "import random"
   ]
  },
  {
   "cell_type": "code",
   "execution_count": 2,
   "metadata": {},
   "outputs": [],
   "source": [
    "with open(\"./data/causal_inference.txt\", 'r') as f:\n",
    "    text = f.readlines()"
   ]
  },
  {
   "cell_type": "code",
   "execution_count": 3,
   "metadata": {},
   "outputs": [],
   "source": [
    "res = []\n",
    "for t in text:\n",
    "    res.append(list(map(int, t.strip('\\n').split(\" \")[:-1]))) # 最後空文字が入っている。\n",
    "#     print(t.strip('\\n').split(\" \")[:-1])"
   ]
  },
  {
   "cell_type": "markdown",
   "metadata": {},
   "source": [
    "# コロンビア大学で用いられているサンプルデータセット\n",
    "http://www.cs.columbia.edu/~jebara/6998/hw2.pdf\n",
    "\n",
    "- the 1st column is the chosen arm\n",
    "- the 2nd column is binary reward \n",
    "- the remaining columns are the context features."
   ]
  },
  {
   "cell_type": "code",
   "execution_count": 4,
   "metadata": {},
   "outputs": [],
   "source": [
    "ds = pd.DataFrame(res)\n",
    "ds.columns = [\"arm\", \"reward\"] + [f\"feat_{i}\" for i in range(100)]"
   ]
  },
  {
   "cell_type": "code",
   "execution_count": 5,
   "metadata": {},
   "outputs": [],
   "source": [
    "X = ds.loc[:, \"feat_0\":].values\n",
    "y = ds.loc[:, \"reward\"].values\n",
    "arms = ds.loc[:,\"arm\"].values"
   ]
  },
  {
   "cell_type": "code",
   "execution_count": 6,
   "metadata": {},
   "outputs": [],
   "source": [
    "import os, sys\n",
    "\n",
    "sys.path.append(\".\")"
   ]
  },
  {
   "cell_type": "code",
   "execution_count": 7,
   "metadata": {},
   "outputs": [],
   "source": [
    "from src.Arms import ContextualArms"
   ]
  },
  {
   "cell_type": "code",
   "execution_count": 8,
   "metadata": {},
   "outputs": [
    {
     "data": {
      "text/plain": [
       "2"
      ]
     },
     "execution_count": 8,
     "metadata": {},
     "output_type": "execute_result"
    }
   ],
   "source": [
    "import itertools, os\n",
    "ds.groupby(\"arm\").mean()[\"reward\"].idxmax()"
   ]
  },
  {
   "cell_type": "code",
   "execution_count": 13,
   "metadata": {},
   "outputs": [],
   "source": [
    "Arms = ContextualArms(n_action=10, max_n_sim=100, X=X, y=y,ds=ds,arms=arms, n_features=X.shape[1])"
   ]
  },
  {
   "cell_type": "code",
   "execution_count": 14,
   "metadata": {},
   "outputs": [
    {
     "data": {
      "text/plain": [
       "<src.Arms.ContextualArms at 0x113b4de90>"
      ]
     },
     "execution_count": 14,
     "metadata": {},
     "output_type": "execute_result"
    }
   ],
   "source": [
    "Arms"
   ]
  },
  {
   "cell_type": "code",
   "execution_count": 15,
   "metadata": {},
   "outputs": [],
   "source": [
    "d = 100\n",
    "sigma=1; sigma_0=1\n",
    "A_inv =sigma_0/sigma * np.eye(d); A_inv\n",
    "b_t = np.zeros((d, 1))\n",
    "alpha = 0.05\n",
    "n_arms = 10\n",
    "n_sim = 1000\n",
    "history = dict(chosen_arms=[],rewards=[])\n",
    "mu_hat = np.zeros((n_arms, 1))"
   ]
  },
  {
   "cell_type": "code",
   "execution_count": 16,
   "metadata": {},
   "outputs": [],
   "source": [
    "#  Thompson sampling アルゴリズム\n",
    "for t in range(1, n_sim):\n",
    "    # 3. draw_theta\n",
    "    theta = np.random.multivariate_normal(A_inv@b_t.flatten(), sigma**2*A_inv, size=1)\n",
    "    # 4. A[t]はa_itの転置ver\n",
    "    # 各アームの特徴量を引く\n",
    "    # shape : (10, 100) 10 arms, (1, 100)の特徴量ベクトル\n",
    "    # 1次元目にアーム１から10までの特徴量を順番に格納している。\n",
    "    A_ = Arms.draw()\n",
    "    for i in range(n_arms):\n",
    "        mu_hat[i] = np.dot(A_[i].ravel(), theta.ravel())\n",
    "    i_star = mu_hat.argmax(0)[0]\n",
    "    history[\"chosen_arms\"].append(i_star)\n",
    "\n",
    "    #5. スコア最大の行動 i*　を選択して報酬を観測する。\n",
    "    reward = Arms.get_reward(index=i_star)\n",
    "    history[\"rewards\"].append(reward)\n",
    "    #6.  A-inverse/ bの更新をする。\n",
    "    a_is = A_[i_star, np.newaxis]\n",
    "    second_term = (A_inv@a_is.T@a_is@A_inv) / (1+a_is@A_inv@a_is.T)\n",
    "    A_inv = A_inv - second_term\n",
    "    b_t += a_is.T*reward    "
   ]
  },
  {
   "cell_type": "code",
   "execution_count": 18,
   "metadata": {},
   "outputs": [],
   "source": [
    "# A_[1, np.newaxis]"
   ]
  },
  {
   "cell_type": "markdown",
   "metadata": {},
   "source": [
    "# Logit Regression\n",
    "\n",
    "- logit モデルは対数事後確率の勾配ベクトルから陽に（解析的に）$\\theta$を求めることが難しい。\n",
    "\n",
    "$- \\log\\pi (\\theta| \\{i(s), X(s)\\}^t_{s=1})$\n",
    "$\\displaystyle = \\frac{\\theta^T \\theta}{2\\sigma^2_0} + \\sum^T_{s=1}log(1+\\exp(\\theta^Ta_{i(s), s})) - \\sum^T_{s:X(s)=1}\\theta^Ta_{i(s), s} + Constants. $\n",
    "\n",
    "\n",
    "$G_t(\\theta) = - \\nabla\\log\\pi (\\theta| \\{i(s), X(s)\\}^t_{s=1})$\n",
    "$\\displaystyle = \\frac{\\theta}{2\\sigma^2_0} + \\sum^t_{s=1}\\frac{e^{\\theta^Ta_{i(s), s}}a_{i(s), s}}{(1+\\exp(\\theta^Ta_{i(s), s}))} - \\sum^T_{s:X(s)=1}a_{i(s), s}$\n",
    "\n",
    "- $G_t(\\theta) = 0が\\theta$について解けない\n",
    "\n",
    "\n",
    "- そこで、数値計算をする。ニュートン法を用いて、負の対数事後確率を$\\hat{\\theta}_{MAP}$の周りで２次近似すると、($G_t(\\hat{\\theta_{MAP}}) = 0$より)\n",
    "\n",
    "- 負の対数事後確率が多変量正規分布の負の対数ゆうどに近似される。これをLaplas近似というらしい。\n",
    "    - $\\theta_{MAP} \\sim N(\\hat{\\theta_{MAP}}, H_t(\\hat{\\theta_{MAP}})^{-1})$"
   ]
  },
  {
   "cell_type": "code",
   "execution_count": 27,
   "metadata": {},
   "outputs": [],
   "source": [
    "# def component_logit_hessian(theta, arm_feature):\n",
    "#     return np.exp(np.dot(theta.ravel(), arm_feature.ravel()))* arm_feature.T@arm_feature /(1+np.exp(np.dot(theta.ravel(), arm_feature.ravel())))**2\n",
    "def Hessian_inv(theta, Arms=None):\n",
    "    assert Arms is not None\n",
    "    try:\n",
    "    #     print(theta.shape)\n",
    "        n_his = len(Arms.history_idx)\n",
    "        first_term = np.eye(d)/sigma_0\n",
    "        # self.cum_matrix\n",
    "        # initial: self.cum_matrix = np.zeros((d, d))\n",
    "        exp_theta_arm_feats = np.exp(X[Arms.history_idx]@theta.T)\n",
    "    #     print(exp_theta_arm_feats.shape)\n",
    "        sum_past_second_term = exp_theta_arm_feats.reshape((n_his, 1,1)) * (X[Arms.history_idx, :, np.newaxis]@X[Arms.history_idx, np.newaxis, :])\n",
    "        second_term = np.sum(sum_past_second_term, axis=0)# (100, 100)\n",
    "        hessian = first_term + second_term\n",
    "    except RuntimeWarning as e:\n",
    "        # 一旦first termだけ返す。 よろしいのかどうかはわからない。\n",
    "        print(e)\n",
    "        return first_term\n",
    "    return np.linalg.inv(hessian)\n",
    "\n",
    "def Gradient(theta, sigma_0,  Arms):\n",
    "    '''gradients vector for logit based posterior probability.'''\n",
    "    first_term = theta/sigma_0\n",
    "    exp_theta_arm_feats = np.exp(X[Arms.history_idx]@theta.T)\n",
    "    second_term = np.sum(exp_theta_arm_feats*X[Arms.history_idx]/(1+exp_theta_arm_feats), axis=0, keepdims=True) #1.\n",
    "    third_term = np.sum(X[Arms.history_idx][y[Arms.history_idx]==1], axis=0, keepdims=True).astype(np.float64)\n",
    "    # output shape (100, 1)\n",
    "    return (first_term + second_term - third_term).T\n",
    "\n",
    "\n",
    "def newton_iteration(theta, Arms, ith_sim, n_iteration=1000, thr=1e-10):\n",
    "    is_converged = False\n",
    "    for _ in range(n_iteration):\n",
    "        H_inv = Hessian_inv(theta, Arms)\n",
    "#         print(f\"iter_{_}:\", theta.shape)\n",
    "        theta_next = theta - (H_inv@Gradient(theta, sigma_0,  Arms)).ravel()\n",
    "        if np.sum((theta_next - theta)**2) < thr:\n",
    "            is_converged = True\n",
    "            break\n",
    "        theta = theta_next\n",
    "    if not is_converged:\n",
    "        print(f\"In {ith_sim} th simulation, theta was not converged.\")\n",
    "#         print(f\"iter_{_}:\", theta.shape)\n",
    "    return theta_next, H_inv\n",
    "\n"
   ]
  },
  {
   "cell_type": "code",
   "execution_count": 28,
   "metadata": {},
   "outputs": [],
   "source": [
    "d = 100\n",
    "sigma=1; sigma_0=1\n",
    "A_inv =sigma_0/sigma * np.eye(d); A_inv\n",
    "b_t = np.zeros((d, 1))\n",
    "alpha = 0.05\n",
    "n_arms = 10\n",
    "n_sim = 10000\n",
    "history = dict(chosen_arms=[],rewards=[], regrets=[])\n",
    "mu_hat = np.zeros((n_arms, 1))"
   ]
  },
  {
   "cell_type": "code",
   "execution_count": 29,
   "metadata": {},
   "outputs": [],
   "source": [
    "# thetaは今、(1, 100)\n",
    "theta = np.zeros((1, d))"
   ]
  },
  {
   "cell_type": "code",
   "execution_count": 30,
   "metadata": {},
   "outputs": [],
   "source": [
    "from tqdm import tqdm "
   ]
  },
  {
   "cell_type": "code",
   "execution_count": null,
   "metadata": {
    "scrolled": true
   },
   "outputs": [
    {
     "name": "stderr",
     "output_type": "stream",
     "text": [
      "\n",
      "\n",
      "  0%|          | 0/10000 [00:00<?, ?it/s]\u001b[A\u001b[A\n",
      "\n",
      "  0%|          | 1/10000 [00:08<23:24:53,  8.43s/it]\u001b[A\u001b[A\n",
      "\n",
      "  0%|          | 6/10000 [00:08<16:24:07,  5.91s/it]\u001b[A\u001b[A\n",
      "\n",
      "  0%|          | 10/10000 [00:08<11:29:56,  4.14s/it]\u001b[A\u001b[A\n",
      "\n",
      "  0%|          | 14/10000 [00:08<8:04:01,  2.91s/it] \u001b[A\u001b[A\n",
      "\n",
      "  0%|          | 18/10000 [00:08<5:40:04,  2.04s/it]\u001b[A\u001b[A\n",
      "\n",
      "  0%|          | 22/10000 [00:08<3:59:16,  1.44s/it]\u001b[A\u001b[A\n",
      "\n",
      "  0%|          | 26/10000 [00:09<2:48:55,  1.02s/it]\u001b[A\u001b[A\n",
      "\n",
      "  0%|          | 30/10000 [00:09<1:59:28,  1.39it/s]\u001b[A\u001b[A\n",
      "\n",
      "  0%|          | 34/10000 [00:09<1:24:53,  1.96it/s]\u001b[A\u001b[A\n",
      "\n",
      "  0%|          | 38/10000 [00:09<1:00:39,  2.74it/s]\u001b[A\u001b[A\n",
      "\n",
      "  0%|          | 42/10000 [00:09<43:44,  3.79it/s]  \u001b[A\u001b[A\n",
      "\n",
      "  0%|          | 47/10000 [00:09<31:45,  5.22it/s]\u001b[A\u001b[A\n",
      "\n",
      "  0%|          | 47/10000 [00:23<31:45,  5.22it/s]\u001b[A\u001b[A\n",
      "\n",
      "  1%|          | 51/10000 [00:30<4:42:57,  1.71s/it]\u001b[A\u001b[A\n",
      "\n",
      "  1%|          | 56/10000 [00:30<3:19:05,  1.20s/it]\u001b[A\u001b[A\n",
      "\n",
      "  1%|          | 61/10000 [00:30<2:20:27,  1.18it/s]\u001b[A\u001b[A\n",
      "\n",
      "  1%|          | 66/10000 [00:30<1:39:24,  1.67it/s]\u001b[A\u001b[A\n",
      "\n",
      "  1%|          | 71/10000 [00:31<1:10:42,  2.34it/s]\u001b[A\u001b[A\n",
      "\n",
      "  1%|          | 76/10000 [00:31<50:36,  3.27it/s]  \u001b[A\u001b[A\n",
      "\n",
      "  1%|          | 81/10000 [00:31<36:34,  4.52it/s]\u001b[A\u001b[A\n",
      "\n",
      "  1%|          | 85/10000 [00:31<26:56,  6.13it/s]\u001b[A\u001b[A\n",
      "\n",
      "  1%|          | 90/10000 [00:31<20:01,  8.25it/s]\u001b[A\u001b[A\n",
      "\n",
      "  1%|          | 94/10000 [00:31<15:17, 10.79it/s]\u001b[A\u001b[A\n",
      "\n",
      "  1%|          | 98/10000 [00:31<12:25, 13.28it/s]\u001b[A\u001b[A\n",
      "\n",
      "  1%|          | 98/10000 [00:43<12:25, 13.28it/s]\u001b[A\u001b[A\n",
      "\n",
      "  1%|          | 101/10000 [01:01<8:19:00,  3.02s/it]\u001b[A\u001b[A\n",
      "\n",
      "  1%|          | 106/10000 [01:01<5:50:18,  2.12s/it]\u001b[A\u001b[A\n",
      "\n",
      "  1%|          | 111/10000 [01:01<4:06:16,  1.49s/it]\u001b[A\u001b[A\n",
      "\n",
      "  1%|          | 116/10000 [01:01<2:53:27,  1.05s/it]\u001b[A\u001b[A\n",
      "\n",
      "  1%|          | 121/10000 [01:01<2:02:30,  1.34it/s]\u001b[A\u001b[A\n",
      "\n",
      "  1%|▏         | 126/10000 [01:02<1:26:50,  1.89it/s]\u001b[A\u001b[A\n",
      "\n",
      "  1%|▏         | 131/10000 [01:02<1:01:55,  2.66it/s]\u001b[A\u001b[A\n",
      "\n",
      "  1%|▏         | 136/10000 [01:02<44:26,  3.70it/s]  \u001b[A\u001b[A\n",
      "\n",
      "  1%|▏         | 141/10000 [01:02<32:16,  5.09it/s]\u001b[A\u001b[A\n",
      "\n",
      "  1%|▏         | 146/10000 [01:02<23:50,  6.89it/s]\u001b[A\u001b[A\n",
      "\n",
      "  1%|▏         | 146/10000 [01:13<23:50,  6.89it/s]\u001b[A\u001b[A\n",
      "\n",
      "  2%|▏         | 151/10000 [01:28<4:29:21,  1.64s/it]\u001b[A\u001b[A\n",
      "\n",
      "  2%|▏         | 155/10000 [01:28<3:09:58,  1.16s/it]\u001b[A\u001b[A\n",
      "\n",
      "  2%|▏         | 159/10000 [01:28<2:14:10,  1.22it/s]\u001b[A\u001b[A\n",
      "\n",
      "  2%|▏         | 161/10000 [01:28<1:37:10,  1.69it/s]\u001b[A\u001b[A\n",
      "\n",
      "  2%|▏         | 164/10000 [01:28<1:10:07,  2.34it/s]\u001b[A\u001b[A\n",
      "\n",
      "  2%|▏         | 167/10000 [01:28<51:09,  3.20it/s]  \u001b[A\u001b[A\n",
      "\n",
      "  2%|▏         | 170/10000 [01:28<37:39,  4.35it/s]\u001b[A\u001b[A\n",
      "\n",
      "  2%|▏         | 174/10000 [01:29<27:46,  5.90it/s]\u001b[A\u001b[A\n",
      "\n",
      "  2%|▏         | 178/10000 [01:29<21:03,  7.77it/s]\u001b[A\u001b[A\n",
      "\n",
      "  2%|▏         | 182/10000 [01:29<16:14, 10.08it/s]\u001b[A\u001b[A\n",
      "\n",
      "  2%|▏         | 185/10000 [01:29<13:00, 12.57it/s]\u001b[A\u001b[A\n",
      "\n",
      "  2%|▏         | 188/10000 [01:29<10:58, 14.91it/s]\u001b[A\u001b[A\n",
      "\n",
      "  2%|▏         | 192/10000 [01:29<08:59, 18.17it/s]\u001b[A\u001b[A\n",
      "\n",
      "  2%|▏         | 197/10000 [01:29<07:29, 21.82it/s]\u001b[A\u001b[A\n",
      "\n",
      "  2%|▏         | 197/10000 [01:43<07:29, 21.82it/s]\u001b[A\u001b[A\n",
      "\n",
      "  2%|▏         | 201/10000 [01:50<4:25:41,  1.63s/it]\u001b[A\u001b[A\n",
      "\n",
      "  2%|▏         | 206/10000 [01:51<3:06:57,  1.15s/it]\u001b[A\u001b[A\n",
      "\n",
      "  2%|▏         | 211/10000 [01:51<2:11:51,  1.24it/s]\u001b[A\u001b[A\n",
      "\n",
      "  2%|▏         | 216/10000 [01:51<1:33:21,  1.75it/s]\u001b[A\u001b[A\n",
      "\n",
      "  2%|▏         | 220/10000 [01:51<1:06:37,  2.45it/s]\u001b[A\u001b[A\n",
      "\n",
      "  2%|▏         | 225/10000 [01:51<47:42,  3.41it/s]  \u001b[A\u001b[A\n",
      "\n",
      "  2%|▏         | 230/10000 [01:51<34:26,  4.73it/s]\u001b[A\u001b[A\n",
      "\n",
      "  2%|▏         | 235/10000 [01:51<25:10,  6.46it/s]\u001b[A\u001b[A\n",
      "\n",
      "  2%|▏         | 240/10000 [01:51<18:42,  8.70it/s]\u001b[A\u001b[A\n",
      "\n",
      "  2%|▏         | 245/10000 [01:51<14:08, 11.50it/s]\u001b[A\u001b[A\n",
      "\n",
      "  2%|▎         | 250/10000 [01:52<10:57, 14.84it/s]\u001b[A\u001b[A\n",
      "\n",
      "  2%|▎         | 250/10000 [02:03<10:57, 14.84it/s]\u001b[A\u001b[A\n",
      "\n",
      "  3%|▎         | 251/10000 [02:08<13:15:01,  4.89s/it]\u001b[A\u001b[A\n",
      "\n",
      "  3%|▎         | 256/10000 [02:08<9:17:19,  3.43s/it] \u001b[A\u001b[A\n",
      "\n",
      "  3%|▎         | 260/10000 [02:08<6:31:24,  2.41s/it]\u001b[A\u001b[A\n",
      "\n",
      "  3%|▎         | 263/10000 [02:08<4:35:45,  1.70s/it]\u001b[A\u001b[A\n",
      "\n",
      "  3%|▎         | 266/10000 [02:08<3:14:40,  1.20s/it]\u001b[A\u001b[A\n",
      "\n",
      "  3%|▎         | 270/10000 [02:08<2:17:33,  1.18it/s]\u001b[A\u001b[A\n",
      "\n",
      "  3%|▎         | 275/10000 [02:08<1:37:18,  1.67it/s]\u001b[A\u001b[A\n",
      "\n",
      "  3%|▎         | 280/10000 [02:09<1:09:16,  2.34it/s]\u001b[A\u001b[A\n",
      "\n",
      "  3%|▎         | 285/10000 [02:09<49:33,  3.27it/s]  \u001b[A\u001b[A\n",
      "\n",
      "  3%|▎         | 290/10000 [02:09<35:44,  4.53it/s]\u001b[A\u001b[A\n",
      "\n",
      "  3%|▎         | 295/10000 [02:09<26:07,  6.19it/s]\u001b[A\u001b[A\n",
      "\n",
      "  3%|▎         | 300/10000 [02:09<19:19,  8.36it/s]\u001b[A\u001b[A\n",
      "\n",
      "  3%|▎         | 300/10000 [02:23<19:19,  8.36it/s]\u001b[A\u001b[A\n",
      "\n",
      "  3%|▎         | 301/10000 [02:25<13:23:17,  4.97s/it]\u001b[A\u001b[A\n",
      "\n",
      "  3%|▎         | 306/10000 [02:25<9:23:04,  3.49s/it] \u001b[A\u001b[A\n",
      "\n",
      "  3%|▎         | 311/10000 [02:25<6:35:01,  2.45s/it]\u001b[A\u001b[A\n",
      "\n",
      "  3%|▎         | 316/10000 [02:26<4:37:24,  1.72s/it]\u001b[A\u001b[A\n",
      "\n",
      "  3%|▎         | 321/10000 [02:26<3:15:08,  1.21s/it]\u001b[A\u001b[A\n",
      "\n",
      "  3%|▎         | 326/10000 [02:26<2:17:35,  1.17it/s]\u001b[A\u001b[A\n",
      "\n",
      "  3%|▎         | 331/10000 [02:26<1:37:20,  1.66it/s]\u001b[A\u001b[A\n",
      "\n",
      "  3%|▎         | 336/10000 [02:26<1:09:12,  2.33it/s]\u001b[A\u001b[A\n",
      "\n",
      "  3%|▎         | 341/10000 [02:26<49:28,  3.25it/s]  \u001b[A\u001b[A\n",
      "\n",
      "  3%|▎         | 346/10000 [02:26<35:39,  4.51it/s]\u001b[A\u001b[A\n",
      "\n",
      "  3%|▎         | 346/10000 [02:43<35:39,  4.51it/s]\u001b[A\u001b[A\n",
      "\n",
      "  4%|▎         | 351/10000 [03:07<7:02:41,  2.63s/it]\u001b[A\u001b[A\n",
      "\n",
      "  4%|▎         | 356/10000 [03:08<4:56:53,  1.85s/it]\u001b[A\u001b[A\n",
      "\n",
      "  4%|▎         | 361/10000 [03:08<3:28:48,  1.30s/it]\u001b[A\u001b[A\n",
      "\n",
      "  4%|▎         | 366/10000 [03:08<2:27:14,  1.09it/s]\u001b[A\u001b[A\n",
      "\n",
      "  4%|▎         | 371/10000 [03:08<1:44:10,  1.54it/s]\u001b[A\u001b[A\n",
      "\n",
      "  4%|▍         | 376/10000 [03:08<1:14:01,  2.17it/s]\u001b[A\u001b[A\n",
      "\n",
      "  4%|▍         | 381/10000 [03:08<52:54,  3.03it/s]  \u001b[A\u001b[A\n",
      "\n",
      "  4%|▍         | 386/10000 [03:08<38:08,  4.20it/s]\u001b[A\u001b[A\n",
      "\n",
      "  4%|▍         | 390/10000 [03:08<27:54,  5.74it/s]\u001b[A\u001b[A\n",
      "\n",
      "  4%|▍         | 394/10000 [03:09<21:21,  7.49it/s]\u001b[A\u001b[A\n",
      "\n",
      "  4%|▍         | 399/10000 [03:09<16:03,  9.96it/s]\u001b[A\u001b[A\n",
      "\n",
      "  4%|▍         | 399/10000 [03:23<16:03,  9.96it/s]\u001b[A\u001b[A\n",
      "\n",
      "  4%|▍         | 401/10000 [03:37<11:30:21,  4.32s/it]\u001b[A\u001b[A\n",
      "\n",
      "  4%|▍         | 406/10000 [03:37<8:04:01,  3.03s/it] \u001b[A\u001b[A\n",
      "\n",
      "  4%|▍         | 411/10000 [03:37<5:39:41,  2.13s/it]\u001b[A\u001b[A\n",
      "\n",
      "  4%|▍         | 416/10000 [03:37<3:58:43,  1.49s/it]\u001b[A\u001b[A\n",
      "\n",
      "  4%|▍         | 421/10000 [03:37<2:48:03,  1.05s/it]\u001b[A\u001b[A\n",
      "\n",
      "  4%|▍         | 426/10000 [03:38<1:58:37,  1.35it/s]\u001b[A\u001b[A\n",
      "\n",
      "  4%|▍         | 431/10000 [03:38<1:24:01,  1.90it/s]\u001b[A\u001b[A\n",
      "\n",
      "  4%|▍         | 436/10000 [03:38<59:50,  2.66it/s]  \u001b[A\u001b[A\n",
      "\n",
      "  4%|▍         | 441/10000 [03:38<42:56,  3.71it/s]\u001b[A\u001b[A\n",
      "\n",
      "  4%|▍         | 446/10000 [03:38<31:10,  5.11it/s]\u001b[A\u001b[A\n",
      "\n",
      "  4%|▍         | 446/10000 [03:53<31:10,  5.11it/s]\u001b[A\u001b[A\n",
      "\n",
      "  5%|▍         | 451/10000 [04:07<4:58:04,  1.87s/it]\u001b[A\u001b[A\n",
      "\n",
      "  5%|▍         | 455/10000 [04:07<3:30:04,  1.32s/it]\u001b[A\u001b[A\n",
      "\n",
      "  5%|▍         | 458/10000 [04:07<2:28:50,  1.07it/s]\u001b[A\u001b[A\n",
      "\n",
      "  5%|▍         | 462/10000 [04:07<1:45:24,  1.51it/s]\u001b[A\u001b[A\n",
      "\n",
      "  5%|▍         | 466/10000 [04:07<1:15:22,  2.11it/s]\u001b[A\u001b[A\n",
      "\n",
      "  5%|▍         | 470/10000 [04:08<54:12,  2.93it/s]  \u001b[A\u001b[A\n",
      "\n",
      "  5%|▍         | 474/10000 [04:08<39:20,  4.04it/s]\u001b[A\u001b[A\n",
      "\n",
      "  5%|▍         | 478/10000 [04:08<28:45,  5.52it/s]\u001b[A\u001b[A\n",
      "\n",
      "  5%|▍         | 482/10000 [04:08<21:43,  7.30it/s]\u001b[A\u001b[A\n",
      "\n",
      "  5%|▍         | 486/10000 [04:08<16:35,  9.55it/s]\u001b[A\u001b[A\n",
      "\n",
      "  5%|▍         | 490/10000 [04:08<12:58, 12.22it/s]\u001b[A\u001b[A\n",
      "\n",
      "  5%|▍         | 494/10000 [04:08<10:17, 15.38it/s]\u001b[A\u001b[A\n",
      "\n",
      "  5%|▍         | 499/10000 [04:08<08:19, 19.00it/s]\u001b[A\u001b[A\n",
      "\n",
      "  5%|▍         | 499/10000 [04:23<08:19, 19.00it/s]\u001b[A\u001b[A\n",
      "\n",
      "  5%|▌         | 501/10000 [04:32<9:25:36,  3.57s/it]\u001b[A\u001b[A\n",
      "\n",
      "  5%|▌         | 506/10000 [04:32<6:36:50,  2.51s/it]\u001b[A\u001b[A\n",
      "\n",
      "  5%|▌         | 511/10000 [04:32<4:38:44,  1.76s/it]\u001b[A\u001b[A\n",
      "\n",
      "  5%|▌         | 516/10000 [04:32<3:16:02,  1.24s/it]\u001b[A\u001b[A\n",
      "\n",
      "  5%|▌         | 521/10000 [04:32<2:18:11,  1.14it/s]\u001b[A\u001b[A\n",
      "\n",
      "  5%|▌         | 526/10000 [04:32<1:37:55,  1.61it/s]\u001b[A\u001b[A\n",
      "\n",
      "  5%|▌         | 531/10000 [04:33<1:09:37,  2.27it/s]\u001b[A\u001b[A\n",
      "\n",
      "  5%|▌         | 536/10000 [04:33<49:46,  3.17it/s]  \u001b[A\u001b[A\n",
      "\n",
      "  5%|▌         | 541/10000 [04:33<35:53,  4.39it/s]\u001b[A\u001b[A\n",
      "\n",
      "  5%|▌         | 546/10000 [04:33<26:34,  5.93it/s]\u001b[A\u001b[A\n",
      "\n",
      "  5%|▌         | 546/10000 [04:53<26:34,  5.93it/s]\u001b[A\u001b[A\n",
      "\n"
     ]
    },
    {
     "name": "stderr",
     "output_type": "stream",
     "text": [
      "  6%|▌         | 551/10000 [04:58<4:17:10,  1.63s/it]\u001b[A\u001b[A\n",
      "\n",
      "  6%|▌         | 556/10000 [04:58<3:01:03,  1.15s/it]\u001b[A\u001b[A\n",
      "\n",
      "  6%|▌         | 561/10000 [04:58<2:07:47,  1.23it/s]\u001b[A\u001b[A\n",
      "\n",
      "  6%|▌         | 565/10000 [04:59<1:30:35,  1.74it/s]\u001b[A\u001b[A\n",
      "\n",
      "  6%|▌         | 570/10000 [04:59<1:04:29,  2.44it/s]\u001b[A\u001b[A\n",
      "\n",
      "  6%|▌         | 575/10000 [04:59<46:12,  3.40it/s]  \u001b[A\u001b[A\n",
      "\n",
      "  6%|▌         | 580/10000 [04:59<33:29,  4.69it/s]\u001b[A\u001b[A\n",
      "\n",
      "  6%|▌         | 585/10000 [04:59<24:31,  6.40it/s]\u001b[A\u001b[A\n",
      "\n",
      "  6%|▌         | 590/10000 [04:59<18:15,  8.59it/s]\u001b[A\u001b[A\n",
      "\n",
      "  6%|▌         | 595/10000 [04:59<13:53, 11.28it/s]\u001b[A\u001b[A\n",
      "\n",
      "  6%|▌         | 600/10000 [04:59<10:49, 14.48it/s]\u001b[A\u001b[A\n",
      "\n",
      "  6%|▌         | 600/10000 [05:13<10:49, 14.48it/s]\u001b[A\u001b[A\n",
      "\n",
      "  6%|▌         | 601/10000 [05:29<23:33:43,  9.02s/it]\u001b[A\u001b[A\n",
      "\n",
      "  6%|▌         | 605/10000 [05:29<16:30:31,  6.33s/it]\u001b[A\u001b[A\n",
      "\n",
      "  6%|▌         | 609/10000 [05:30<11:34:26,  4.44s/it]\u001b[A\u001b[A\n",
      "\n",
      "  6%|▌         | 613/10000 [05:30<8:07:13,  3.11s/it] \u001b[A\u001b[A\n",
      "\n",
      "  6%|▌         | 617/10000 [05:30<5:42:24,  2.19s/it]\u001b[A\u001b[A\n",
      "\n",
      "  6%|▌         | 621/10000 [05:30<4:00:51,  1.54s/it]\u001b[A\u001b[A\n",
      "\n",
      "  6%|▋         | 626/10000 [05:30<2:49:32,  1.09s/it]\u001b[A\u001b[A\n",
      "\n",
      "  6%|▋         | 631/10000 [05:30<1:59:38,  1.31it/s]\u001b[A\u001b[A\n",
      "\n",
      "  6%|▋         | 636/10000 [05:30<1:24:45,  1.84it/s]\u001b[A\u001b[A\n",
      "\n",
      "  6%|▋         | 641/10000 [05:30<1:00:19,  2.59it/s]\u001b[A\u001b[A\n",
      "\n",
      "  6%|▋         | 646/10000 [05:30<43:26,  3.59it/s]  \u001b[A\u001b[A\n",
      "\n",
      "  7%|▋         | 651/10000 [05:41<2:12:53,  1.17it/s]\u001b[A\u001b[A\n",
      "\n",
      "  7%|▋         | 656/10000 [05:42<1:33:59,  1.66it/s]\u001b[A\u001b[A\n",
      "\n",
      "  7%|▋         | 661/10000 [05:42<1:06:47,  2.33it/s]\u001b[A\u001b[A\n",
      "\n",
      "  7%|▋         | 666/10000 [05:42<47:46,  3.26it/s]  \u001b[A\u001b[A\n",
      "\n",
      "  7%|▋         | 671/10000 [05:42<34:26,  4.51it/s]\u001b[A\u001b[A\n",
      "\n",
      "  7%|▋         | 676/10000 [05:42<25:08,  6.18it/s]\u001b[A\u001b[A\n",
      "\n",
      "  7%|▋         | 681/10000 [05:42<18:37,  8.34it/s]\u001b[A\u001b[A\n",
      "\n",
      "  7%|▋         | 686/10000 [05:42<14:02, 11.05it/s]\u001b[A\u001b[A\n",
      "\n",
      "  7%|▋         | 691/10000 [05:42<10:50, 14.32it/s]\u001b[A\u001b[A\n",
      "\n",
      "  7%|▋         | 696/10000 [05:42<08:34, 18.07it/s]\u001b[A\u001b[A\n",
      "\n",
      "  7%|▋         | 696/10000 [05:53<08:34, 18.07it/s]\u001b[A\u001b[A\n",
      "\n",
      "  7%|▋         | 701/10000 [06:07<3:55:11,  1.52s/it]\u001b[A\u001b[A\n",
      "\n",
      "  7%|▋         | 706/10000 [06:07<2:45:37,  1.07s/it]\u001b[A\u001b[A\n",
      "\n",
      "  7%|▋         | 711/10000 [06:07<1:56:56,  1.32it/s]\u001b[A\u001b[A\n",
      "\n",
      "  7%|▋         | 716/10000 [06:07<1:22:49,  1.87it/s]\u001b[A\u001b[A\n",
      "\n",
      "  7%|▋         | 721/10000 [06:08<58:59,  2.62it/s]  \u001b[A\u001b[A\n",
      "\n",
      "  7%|▋         | 726/10000 [06:08<42:20,  3.65it/s]\u001b[A\u001b[A\n",
      "\n",
      "  7%|▋         | 731/10000 [06:08<30:39,  5.04it/s]\u001b[A\u001b[A\n",
      "\n",
      "  7%|▋         | 736/10000 [06:08<22:27,  6.88it/s]\u001b[A\u001b[A\n",
      "\n",
      "  7%|▋         | 741/10000 [06:08<16:44,  9.22it/s]\u001b[A\u001b[A\n",
      "\n",
      "  7%|▋         | 746/10000 [06:08<12:47, 12.06it/s]\u001b[A\u001b[A\n",
      "\n"
     ]
    }
   ],
   "source": [
    "# ロジスティックモデル上のトンプソン抽出\n",
    "\n",
    "#  Thompson sampling アルゴリズム\n",
    "# offline評価選択できるように修正する必要がある。\n",
    "\n",
    "for t in tqdm(range(0, n_sim)):\n",
    "\n",
    "    # WRITE CODE\n",
    "    if t % 50 == 0:\n",
    "        # Newton method\n",
    "        theta, H_inv = newton_iteration(theta, Arms, ith_sim=t, n_iteration=1000, thr=1e-10)\n",
    "    # 6. draw_theta\n",
    "    theta_tilde = np.random.multivariate_normal(theta.ravel(), H_inv, size=1)\n",
    "    # 各アームの特徴量を引く\n",
    "    # shape : (10, 1, 100) 10 arms, (1, 100)の特徴量ベクトル\n",
    "    # 1次元目にアーム１から10までの特徴量を順番に格納している。\n",
    "    A_ = Arms.draw()\n",
    "    for i in range(n_arms):\n",
    "        mu_hat[i] = np.dot(A_[i].ravel(), theta_tilde.ravel())\n",
    "    i_star = mu_hat.argmax(0)[0]\n",
    "    history[\"chosen_arms\"].append(i_star)\n",
    "    #5. スコア最大の行動 i*　を選択して報酬を観測する。\n",
    "    reward = Arms.get_reward(index=i_star)\n",
    "    history[\"rewards\"].append(reward)\n",
    "    \n",
    "    # calculate regret\n",
    "    num_arm, best_reward = Arms.best_arms()\n",
    "    history[\"regrets\"].append(best_reward - reward)\n",
    "\n",
    "\n"
   ]
  },
  {
   "cell_type": "code",
   "execution_count": 75,
   "metadata": {},
   "outputs": [
    {
     "data": {
      "text/plain": [
       "<matplotlib.axes._subplots.AxesSubplot at 0x121d97990>"
      ]
     },
     "execution_count": 75,
     "metadata": {},
     "output_type": "execute_result"
    },
    {
     "data": {
      "image/png": "[encoded data removed]",
      "text/plain": [
       "<Figure size 432x288 with 1 Axes>"
      ]
     },
     "metadata": {
      "needs_background": "light"
     },
     "output_type": "display_data"
    }
   ],
   "source": [
    "# np.exp(X[Arms.history_idx]@theta.T)\n",
    "# X[Arms.history_idx]\n",
    "import seaborn as sns\n",
    "sns.countplot(x=\"chosen_arm\", data=pd.DataFrame(history[\"chosen_arms\"], columns=[\"chosen_arm\"]))\n"
   ]
  },
  {
   "cell_type": "code",
   "execution_count": 26,
   "metadata": {},
   "outputs": [
    {
     "data": {
      "text/plain": [
       "array([[nan, nan, nan, nan, nan, nan, nan, nan, nan, nan, nan, nan, nan,\n",
       "        nan, nan, nan, nan, nan, nan, nan, nan, nan, nan, nan, nan, nan,\n",
       "        nan, nan, nan, nan, nan, nan, nan, nan, nan, nan, nan, nan, nan,\n",
       "        nan, nan, nan, nan, nan, nan, nan, nan, nan, nan, nan, nan, nan,\n",
       "        nan, nan, nan, nan, nan, nan, nan, nan, nan, nan, nan, nan, nan,\n",
       "        nan, nan, nan, nan, nan, nan, nan, nan, nan, nan, nan, nan, nan,\n",
       "        nan, nan, nan, nan, nan, nan, nan, nan, nan, nan, nan, nan, nan,\n",
       "        nan, nan, nan, nan, nan, nan, nan, nan, nan]])"
      ]
     },
     "execution_count": 26,
     "metadata": {},
     "output_type": "execute_result"
    }
   ],
   "source": [
    "pd.DataFrame(history).groupby(\"chosen_arms\").agg({\"rewards\":[\"mean\", \"count\"]})\n",
    "theta"
   ]
  },
  {
   "cell_type": "code",
   "execution_count": null,
   "metadata": {
    "collapsed": true
   },
   "outputs": [],
   "source": []
  },
  {
   "cell_type": "code",
   "execution_count": null,
   "metadata": {},
   "outputs": [],
   "source": []
  },
  {
   "cell_type": "code",
   "execution_count": 81,
   "metadata": {},
   "outputs": [
    {
     "data": {
      "text/plain": [
       "<matplotlib.axes._subplots.AxesSubplot at 0x124186c90>"
      ]
     },
     "execution_count": 81,
     "metadata": {},
     "output_type": "execute_result"
    },
    {
     "data": {
      "image/png": "[encoded data removed]",
      "text/plain": [
       "<Figure size 432x288 with 1 Axes>"
      ]
     },
     "metadata": {
      "needs_background": "light"
     },
     "output_type": "display_data"
    }
   ],
   "source": [
    "pd.DataFrame(theta).T.plot(kind=\"bar\")"
   ]
  },
  {
   "cell_type": "code",
   "execution_count": 65,
   "metadata": {},
   "outputs": [
    {
     "name": "stdout",
     "output_type": "stream",
     "text": [
      "arm\n",
      "1     0.020588\n",
      "2     0.267821\n",
      "3     0.141684\n",
      "4     0.051576\n",
      "5     0.053731\n",
      "6     0.096573\n",
      "7     0.194203\n",
      "8     0.028028\n",
      "9     0.158907\n",
      "10    0.030395\n",
      "Name: reward, dtype: float64\n"
     ]
    }
   ],
   "source": [
    "print((ds.groupby(\"arm\").mean()[\"reward\"]))"
   ]
  },
  {
   "cell_type": "markdown",
   "metadata": {},
   "source": [
    "We can implemented one step learning.\n",
    "Then all i have to do is complete the implementation of it repeatedly.\n",
    "\n",
    "## If n_sim is sufficiently small, then the draws of theta_tilde wont work because H_inv is not solved."
   ]
  },
  {
   "cell_type": "code",
   "execution_count": 41,
   "metadata": {},
   "outputs": [
    {
     "ename": "LinAlgError",
     "evalue": "SVD did not converge",
     "output_type": "error",
     "traceback": [
      "\u001b[0;31m---------------------------------------------------------------------------\u001b[0m",
      "\u001b[0;31mLinAlgError\u001b[0m                               Traceback (most recent call last)",
      "\u001b[0;32m<ipython-input-41-d62034f82f14>\u001b[0m in \u001b[0;36m<module>\u001b[0;34m\u001b[0m\n\u001b[0;32m----> 1\u001b[0;31m \u001b[0mtheta_tilde\u001b[0m \u001b[0;34m=\u001b[0m \u001b[0mnp\u001b[0m\u001b[0;34m.\u001b[0m\u001b[0mrandom\u001b[0m\u001b[0;34m.\u001b[0m\u001b[0mmultivariate_normal\u001b[0m\u001b[0;34m(\u001b[0m\u001b[0mtheta\u001b[0m\u001b[0;34m.\u001b[0m\u001b[0mravel\u001b[0m\u001b[0;34m(\u001b[0m\u001b[0;34m)\u001b[0m\u001b[0;34m,\u001b[0m \u001b[0mH_inv\u001b[0m\u001b[0;34m,\u001b[0m \u001b[0msize\u001b[0m\u001b[0;34m=\u001b[0m\u001b[0;36m1\u001b[0m\u001b[0;34m)\u001b[0m\u001b[0;34m\u001b[0m\u001b[0;34m\u001b[0m\u001b[0m\n\u001b[0m",
      "\u001b[0;32mmtrand.pyx\u001b[0m in \u001b[0;36mnumpy.random.mtrand.RandomState.multivariate_normal\u001b[0;34m()\u001b[0m\n",
      "\u001b[0;32m<__array_function__ internals>\u001b[0m in \u001b[0;36msvd\u001b[0;34m(*args, **kwargs)\u001b[0m\n",
      "\u001b[0;32m~/.venv/lib/python3.7/site-packages/numpy/linalg/linalg.py\u001b[0m in \u001b[0;36msvd\u001b[0;34m(a, full_matrices, compute_uv, hermitian)\u001b[0m\n\u001b[1;32m   1634\u001b[0m \u001b[0;34m\u001b[0m\u001b[0m\n\u001b[1;32m   1635\u001b[0m         \u001b[0msignature\u001b[0m \u001b[0;34m=\u001b[0m \u001b[0;34m'D->DdD'\u001b[0m \u001b[0;32mif\u001b[0m \u001b[0misComplexType\u001b[0m\u001b[0;34m(\u001b[0m\u001b[0mt\u001b[0m\u001b[0;34m)\u001b[0m \u001b[0;32melse\u001b[0m \u001b[0;34m'd->ddd'\u001b[0m\u001b[0;34m\u001b[0m\u001b[0;34m\u001b[0m\u001b[0m\n\u001b[0;32m-> 1636\u001b[0;31m         \u001b[0mu\u001b[0m\u001b[0;34m,\u001b[0m \u001b[0ms\u001b[0m\u001b[0;34m,\u001b[0m \u001b[0mvh\u001b[0m \u001b[0;34m=\u001b[0m \u001b[0mgufunc\u001b[0m\u001b[0;34m(\u001b[0m\u001b[0ma\u001b[0m\u001b[0;34m,\u001b[0m \u001b[0msignature\u001b[0m\u001b[0;34m=\u001b[0m\u001b[0msignature\u001b[0m\u001b[0;34m,\u001b[0m \u001b[0mextobj\u001b[0m\u001b[0;34m=\u001b[0m\u001b[0mextobj\u001b[0m\u001b[0;34m)\u001b[0m\u001b[0;34m\u001b[0m\u001b[0;34m\u001b[0m\u001b[0m\n\u001b[0m\u001b[1;32m   1637\u001b[0m         \u001b[0mu\u001b[0m \u001b[0;34m=\u001b[0m \u001b[0mu\u001b[0m\u001b[0;34m.\u001b[0m\u001b[0mastype\u001b[0m\u001b[0;34m(\u001b[0m\u001b[0mresult_t\u001b[0m\u001b[0;34m,\u001b[0m \u001b[0mcopy\u001b[0m\u001b[0;34m=\u001b[0m\u001b[0;32mFalse\u001b[0m\u001b[0;34m)\u001b[0m\u001b[0;34m\u001b[0m\u001b[0;34m\u001b[0m\u001b[0m\n\u001b[1;32m   1638\u001b[0m         \u001b[0ms\u001b[0m \u001b[0;34m=\u001b[0m \u001b[0ms\u001b[0m\u001b[0;34m.\u001b[0m\u001b[0mastype\u001b[0m\u001b[0;34m(\u001b[0m\u001b[0m_realType\u001b[0m\u001b[0;34m(\u001b[0m\u001b[0mresult_t\u001b[0m\u001b[0;34m)\u001b[0m\u001b[0;34m,\u001b[0m \u001b[0mcopy\u001b[0m\u001b[0;34m=\u001b[0m\u001b[0;32mFalse\u001b[0m\u001b[0;34m)\u001b[0m\u001b[0;34m\u001b[0m\u001b[0;34m\u001b[0m\u001b[0m\n",
      "\u001b[0;32m~/.venv/lib/python3.7/site-packages/numpy/linalg/linalg.py\u001b[0m in \u001b[0;36m_raise_linalgerror_svd_nonconvergence\u001b[0;34m(err, flag)\u001b[0m\n\u001b[1;32m    104\u001b[0m \u001b[0;34m\u001b[0m\u001b[0m\n\u001b[1;32m    105\u001b[0m \u001b[0;32mdef\u001b[0m \u001b[0m_raise_linalgerror_svd_nonconvergence\u001b[0m\u001b[0;34m(\u001b[0m\u001b[0merr\u001b[0m\u001b[0;34m,\u001b[0m \u001b[0mflag\u001b[0m\u001b[0;34m)\u001b[0m\u001b[0;34m:\u001b[0m\u001b[0;34m\u001b[0m\u001b[0;34m\u001b[0m\u001b[0m\n\u001b[0;32m--> 106\u001b[0;31m     \u001b[0;32mraise\u001b[0m \u001b[0mLinAlgError\u001b[0m\u001b[0;34m(\u001b[0m\u001b[0;34m\"SVD did not converge\"\u001b[0m\u001b[0;34m)\u001b[0m\u001b[0;34m\u001b[0m\u001b[0;34m\u001b[0m\u001b[0m\n\u001b[0m\u001b[1;32m    107\u001b[0m \u001b[0;34m\u001b[0m\u001b[0m\n\u001b[1;32m    108\u001b[0m \u001b[0;32mdef\u001b[0m \u001b[0m_raise_linalgerror_lstsq\u001b[0m\u001b[0;34m(\u001b[0m\u001b[0merr\u001b[0m\u001b[0;34m,\u001b[0m \u001b[0mflag\u001b[0m\u001b[0;34m)\u001b[0m\u001b[0;34m:\u001b[0m\u001b[0;34m\u001b[0m\u001b[0;34m\u001b[0m\u001b[0m\n",
      "\u001b[0;31mLinAlgError\u001b[0m: SVD did not converge"
     ]
    }
   ],
   "source": [
    "theta_tilde = np.random.multivariate_normal(theta.ravel(), H_inv, size=1)"
   ]
  },
  {
   "cell_type": "code",
   "execution_count": 42,
   "metadata": {},
   "outputs": [
    {
     "data": {
      "text/plain": [
       "array([[nan, nan, nan, ..., nan, nan, nan],\n",
       "       [nan, nan, nan, ..., nan, nan, nan],\n",
       "       [nan, nan, nan, ..., nan, nan, nan],\n",
       "       ...,\n",
       "       [nan, nan, nan, ..., nan, nan, nan],\n",
       "       [nan, nan, nan, ..., nan, nan, nan],\n",
       "       [nan, nan, nan, ..., nan, nan, nan]])"
      ]
     },
     "execution_count": 42,
     "metadata": {},
     "output_type": "execute_result"
    }
   ],
   "source": [
    "H_inv"
   ]
  },
  {
   "cell_type": "markdown",
   "metadata": {},
   "source": [
    "---"
   ]
  },
  {
   "cell_type": "code",
   "execution_count": 62,
   "metadata": {},
   "outputs": [],
   "source": [
    "# \\exp(\\theta^T a_{i(s),s})\n",
    "exp_theta_arm_feats = np.exp(X[Arms.history_idx]@theta.T)\n",
    "second_term = np.sum(exp_theta_arm_feats*X[Arms.history_idx]/(1+exp_theta_arm_feats), axis=0)"
   ]
  },
  {
   "cell_type": "code",
   "execution_count": 83,
   "metadata": {
    "collapsed": true
   },
   "outputs": [
    {
     "data": {
      "text/plain": [
       "array([[4.22606446e-16],\n",
       "       [2.26175669e-01],\n",
       "       [6.66285331e+00],\n",
       "       [1.34520764e+00],\n",
       "       [5.72468099e-01],\n",
       "       [1.31072705e+00],\n",
       "       [2.54577232e-01],\n",
       "       [1.29484757e+00],\n",
       "       [8.84702170e-02],\n",
       "       [2.28285222e+03]])"
      ]
     },
     "execution_count": 83,
     "metadata": {},
     "output_type": "execute_result"
    }
   ],
   "source": [
    "exp_theta_arm_feats"
   ]
  },
  {
   "cell_type": "code",
   "execution_count": 88,
   "metadata": {},
   "outputs": [
    {
     "data": {
      "text/plain": [
       "array([[66,  0,  0, 14,  0,  0,  0,  0,  0, 23,  0,  7, 19,  0,  0,  0,\n",
       "         0,  0,  0,  0,  0,  0,  0,  0,  0,  0,  0,  0,  3,  0,  0,  0,\n",
       "         0,  0,  7,  0,  4,  9,  0,  0,  0,  0,  0, 11,  4,  7,  0, 10,\n",
       "         0,  0,  0,  0,  0,  0,  0, 38,  0,  1, 12,  8,  0,  0,  0,  0,\n",
       "         0,  5,  0,  0,  2,  0,  0,  0, 14,  0,  0,  0,  0,  0,  3, 10,\n",
       "         2,  0,  0,  0,  1,  0,  0,  2,  0,  0,  0,  8,  0,  0,  1,  3,\n",
       "         6,  0,  0,  0]])"
      ]
     },
     "execution_count": 88,
     "metadata": {},
     "output_type": "execute_result"
    }
   ],
   "source": [
    "X[Arms.history_idx, np.newaxis,:][0]"
   ]
  },
  {
   "cell_type": "markdown",
   "metadata": {},
   "source": [
    "### Hessianの要素を計算する"
   ]
  },
  {
   "cell_type": "code",
   "execution_count": 137,
   "metadata": {},
   "outputs": [],
   "source": [
    "# np.sum(X[Arms.history_idx, :, np.newaxis]@X[Arms.history_idx, np.newaxis, :], axis=0)\n",
    "hoge = exp_theta_arm_feats.reshape(10, 1,1) * (X[Arms.history_idx, :, np.newaxis]@X[Arms.history_idx, np.newaxis, :])\n",
    "np.sum(hoge, axis=0)"
   ]
  },
  {
   "cell_type": "code",
   "execution_count": 138,
   "metadata": {},
   "outputs": [
    {
     "data": {
      "text/plain": [
       "(10, 100, 100)"
      ]
     },
     "execution_count": 138,
     "metadata": {},
     "output_type": "execute_result"
    }
   ],
   "source": [
    "(X[Arms.history_idx, :, np.newaxis]@X[Arms.history_idx, np.newaxis, :]).shape"
   ]
  },
  {
   "cell_type": "code",
   "execution_count": 152,
   "metadata": {},
   "outputs": [
    {
     "data": {
      "text/plain": [
       "True"
      ]
     },
     "execution_count": 152,
     "metadata": {},
     "output_type": "execute_result"
    }
   ],
   "source": [
    "# 掛け算の動作確認\n",
    "# 各試行（n_sim）ごとに、(10, 1) × (1, 10)の掛け算がうまくできているか確認\n",
    "np.all(X[Arms.history_idx[0], np.newaxis].T@X[Arms.history_idx[0], np.newaxis] == (X[Arms.history_idx, :, np.newaxis]@X[Arms.history_idx, np.newaxis, :])[0])\n"
   ]
  },
  {
   "cell_type": "code",
   "execution_count": 139,
   "metadata": {},
   "outputs": [
    {
     "data": {
      "text/plain": [
       "True"
      ]
     },
     "execution_count": 139,
     "metadata": {},
     "output_type": "execute_result"
    }
   ],
   "source": [
    "# 掛け算の動作確認\n",
    "# 各試行のnp.exp(X[Arms.history_idx]@theta.T)と上の行列がそれぞれ掛け合わせられてるか確認\n",
    "np.all(hoge[0] == exp_theta_arm_feats[0, 0] * (X[Arms.history_idx, :, np.newaxis]@X[Arms.history_idx, np.newaxis, :])[0])"
   ]
  },
  {
   "cell_type": "code",
   "execution_count": 155,
   "metadata": {},
   "outputs": [
    {
     "data": {
      "text/plain": [
       "(100, 100)"
      ]
     },
     "execution_count": 155,
     "metadata": {},
     "output_type": "execute_result"
    }
   ],
   "source": [
    "np.sum(hoge, axis=0)"
   ]
  },
  {
   "cell_type": "code",
   "execution_count": 140,
   "metadata": {},
   "outputs": [
    {
     "data": {
      "text/plain": [
       "(10, 100, 100)"
      ]
     },
     "execution_count": 140,
     "metadata": {},
     "output_type": "execute_result"
    }
   ],
   "source": [
    "(X[Arms.history_idx, :, np.newaxis]@X[Arms.history_idx, np.newaxis, :]).shape"
   ]
  },
  {
   "cell_type": "code",
   "execution_count": 136,
   "metadata": {},
   "outputs": [
    {
     "data": {
      "text/plain": [
       "(10, 100, 100)"
      ]
     },
     "execution_count": 136,
     "metadata": {},
     "output_type": "execute_result"
    }
   ],
   "source": [
    "hoge.shape"
   ]
  },
  {
   "cell_type": "code",
   "execution_count": 110,
   "metadata": {},
   "outputs": [
    {
     "data": {
      "text/plain": [
       "True"
      ]
     },
     "execution_count": 110,
     "metadata": {},
     "output_type": "execute_result"
    }
   ],
   "source": [
    "np.all((X[Arms.history_idx, :, np.newaxis]@X[Arms.history_idx, np.newaxis, :])[0] == X[Arms.history_idx[0], :, np.newaxis]@X[Arms.history_idx[0], np.newaxis, :])"
   ]
  },
  {
   "cell_type": "code",
   "execution_count": 107,
   "metadata": {},
   "outputs": [
    {
     "data": {
      "text/plain": [
       "array([[4356,    0,    0, ...,    0,    0,    0],\n",
       "       [   0,    0,    0, ...,    0,    0,    0],\n",
       "       [   0,    0,    0, ...,    0,    0,    0],\n",
       "       ...,\n",
       "       [   0,    0,    0, ...,    0,    0,    0],\n",
       "       [   0,    0,    0, ...,    0,    0,    0],\n",
       "       [   0,    0,    0, ...,    0,    0,    0]])"
      ]
     },
     "execution_count": 107,
     "metadata": {},
     "output_type": "execute_result"
    }
   ],
   "source": [
    "X[Arms.history_idx[0], :, np.newaxis]@X[Arms.history_idx[0], np.newaxis, :]\n",
    "# first_term = theta/sigma_0\n",
    "# exp_theta_arm_feats = np.exp(X[Arms.history_idx]@theta.T)\n",
    "# second_term = np.sum(exp_theta_arm_feats*X[Arms.history_idx]/(1+exp_theta_arm_feats), axis=0, keepdims=True) #1.\n",
    "# third_term = np.sum(X[Arms.history_idx][y[Arms.history_idx]==1], axis=0, keepdims=True).astype(np.float64)\n",
    "# first_term + second_term - third_term"
   ]
  },
  {
   "cell_type": "code",
   "execution_count": 48,
   "metadata": {},
   "outputs": [
    {
     "data": {
      "text/plain": [
       "array([ True,  True,  True,  True,  True,  True,  True,  True,  True,\n",
       "        True,  True,  True,  True,  True,  True,  True,  True,  True,\n",
       "        True,  True,  True,  True,  True,  True,  True,  True,  True,\n",
       "        True,  True,  True,  True,  True,  True,  True,  True,  True,\n",
       "        True,  True,  True,  True,  True,  True,  True,  True,  True,\n",
       "        True,  True,  True,  True,  True,  True,  True,  True,  True,\n",
       "        True,  True,  True,  True,  True,  True,  True,  True,  True,\n",
       "        True,  True,  True,  True,  True,  True,  True,  True,  True,\n",
       "        True,  True,  True,  True,  True,  True,  True,  True,  True,\n",
       "        True,  True,  True,  True,  True,  True,  True,  True,  True,\n",
       "        True,  True,  True,  True,  True,  True,  True,  True,  True,\n",
       "        True])"
      ]
     },
     "execution_count": 48,
     "metadata": {},
     "output_type": "execute_result"
    }
   ],
   "source": [
    "(exp_theta_arm_feats*X[Arms.history_idx])[2] == exp_theta_arm_feats[2] * X[Arms.history_idx][2]"
   ]
  },
  {
   "cell_type": "code",
   "execution_count": 52,
   "metadata": {},
   "outputs": [
    {
     "data": {
      "text/plain": [
       "array([7.00050632e+03, 6.55363525e+00, 7.78987402e+04, 1.28421873e+02,\n",
       "       2.28344424e+04, 0.00000000e+00, 2.49038139e+01, 1.33257066e+01,\n",
       "       0.00000000e+00, 1.15041526e+04, 3.88149911e+04, 2.22655876e+00,\n",
       "       5.88031060e+01, 1.40247794e+02, 6.66285331e+00, 3.42495686e+04,\n",
       "       5.09154464e-01, 1.65345183e+01, 1.18737590e+02, 0.00000000e+00,\n",
       "       8.46030976e+04, 1.10153461e+01, 0.00000000e+00, 2.05610280e+01,\n",
       "       0.00000000e+00, 8.84406513e+01, 2.33146851e+03, 1.77921582e+01,\n",
       "       1.57403770e+01, 3.42470215e+04, 2.28310680e+03, 5.09154464e-01,\n",
       "       1.27288616e+00, 5.30821302e-01, 7.83649383e+00, 3.19645345e+04,\n",
       "       2.84978677e+01, 2.29830161e+03, 2.65410651e-01, 2.56022022e+03,\n",
       "       1.36999059e+04, 0.00000000e+00, 2.51997092e+01, 2.20390979e+01,\n",
       "       2.15688777e+01, 2.17146132e+02, 5.55484765e+01, 2.14604955e+01,\n",
       "       4.62589630e+03, 4.57027806e+03, 1.46277277e+01, 2.72598713e+01,\n",
       "       3.13060856e+00, 2.15160233e+01, 1.99885599e+01, 1.03793556e+02,\n",
       "       0.00000000e+00, 2.05485985e+04, 2.26399123e+01, 6.86637929e+03,\n",
       "       2.96802454e+04, 1.82672169e+04, 3.97625501e+00, 4.47289028e+00,\n",
       "       3.34453393e+02, 1.43277800e+01, 2.28379698e+04, 5.72468099e-01,\n",
       "       3.29529151e+01, 1.59873069e+04, 8.74811888e+00, 2.94879390e+01,\n",
       "       1.70873179e+01, 4.56863129e+03, 1.63389609e+02, 5.72468099e-01,\n",
       "       4.56890596e+03, 1.29484757e+00, 1.18749602e+05, 2.46897648e+01,\n",
       "       6.85115288e+03, 1.29484757e+00, 2.28307840e+03, 5.47929769e+04,\n",
       "       9.95633527e+00, 6.86269211e+01, 1.01830893e+00, 1.65541094e+01,\n",
       "       4.89832603e+00, 2.12328521e+00, 6.89668270e+00, 3.06261194e+00,\n",
       "       4.01224790e+01, 9.06393297e+00, 1.66352106e+01, 4.27992035e+01,\n",
       "       4.61889997e+03, 4.06975142e+01, 9.06393297e+00, 8.09214331e+01])"
      ]
     },
     "execution_count": 52,
     "metadata": {},
     "output_type": "execute_result"
    }
   ],
   "source": [
    "np.sum(exp_theta_arm_feats*X[Arms.history_idx], axis=0)"
   ]
  },
  {
   "cell_type": "code",
   "execution_count": 57,
   "metadata": {},
   "outputs": [
    {
     "data": {
      "text/plain": [
       "array([ True,  True,  True,  True,  True,  True,  True,  True,  True,\n",
       "        True,  True,  True,  True,  True,  True,  True,  True,  True,\n",
       "        True,  True,  True,  True,  True,  True,  True,  True,  True,\n",
       "        True,  True,  True,  True,  True,  True,  True,  True,  True,\n",
       "        True,  True,  True,  True,  True,  True,  True,  True,  True,\n",
       "        True,  True,  True,  True,  True,  True,  True,  True,  True,\n",
       "        True,  True,  True,  True,  True,  True,  True,  True,  True,\n",
       "        True,  True,  True,  True,  True,  True,  True,  True,  True,\n",
       "        True,  True,  True,  True,  True,  True,  True,  True,  True,\n",
       "        True,  True,  True,  True,  True,  True,  True,  True,  True,\n",
       "        True,  True,  True,  True,  True,  True,  True,  True,  True,\n",
       "        True])"
      ]
     },
     "execution_count": 57,
     "metadata": {},
     "output_type": "execute_result"
    }
   ],
   "source": [
    "# exp_theta_arm_feats[2]\n",
    "(exp_theta_arm_feats*X[Arms.history_idx]/(1+exp_theta_arm_feats))[0] == (exp_theta_arm_feats*X[Arms.history_idx])[0]/(1+exp_theta_arm_feats)[0]\n"
   ]
  },
  {
   "cell_type": "code",
   "execution_count": 61,
   "metadata": {},
   "outputs": [
    {
     "data": {
      "text/plain": [
       "array([80.07902537,  2.83617888, 76.1638408 , 58.03467343, 13.3484506 ,\n",
       "        0.        , 10.77747973,  1.73900062,  0.        , 48.95679219,\n",
       "       22.26810465,  1.49800864, 27.85694738, 60.69422797,  0.86950031,\n",
       "       20.52711729,  0.40583748,  8.03292197, 17.2349045 ,  0.        ,\n",
       "       62.39529603,  5.51765069,  0.        ,  2.97255797,  0.        ,\n",
       "       22.35307394, 22.44831799,  8.26565787,  9.69090105, 18.51368676,\n",
       "        1.20248088,  0.40583748,  1.0145937 ,  0.48767646,  3.58974398,\n",
       "       17.23281046, 12.99101484,  8.65064007,  0.24383823, 39.839149  ,\n",
       "        8.32961103,  0.        ,  4.87145489, 11.19684101,  5.85367997,\n",
       "       32.85367713, 17.77229189,  9.99881743, 10.00908323,  4.07761416,\n",
       "        6.10405152,  4.00603761,  1.54030903,  3.82601337,  2.60850092,\n",
       "       47.35483004,  0.        , 10.86085101, 10.73329428,  9.31451931,\n",
       "       15.57669426, 10.60062894,  2.11065301,  2.05977525, 44.04225116,\n",
       "        6.60588943, 14.69022928,  0.36405705,  8.25390759,  8.41980382,\n",
       "        4.04568072, 14.35205368,  8.60485959,  3.9948327 , 23.18715473,\n",
       "        0.36405705,  3.64316965,  0.56424121, 68.664429  , 15.82027366,\n",
       "        4.48971052,  0.56424121,  1.18401831, 27.67861486,  5.99709217,\n",
       "       29.90478411,  0.81167496,  3.24389197,  2.87859987,  1.95070584,\n",
       "        3.12037703,  1.66576968,  7.38659916,  3.94968847,  4.37694425,\n",
       "        9.01669117, 28.01810916, 18.55525949,  3.94968847, 16.89828061])"
      ]
     },
     "execution_count": 61,
     "metadata": {},
     "output_type": "execute_result"
    }
   ],
   "source": []
  },
  {
   "cell_type": "markdown",
   "metadata": {},
   "source": [
    "# Calculate Regrets."
   ]
  },
  {
   "cell_type": "code",
   "execution_count": null,
   "metadata": {},
   "outputs": [],
   "source": [
    "# 関数にするかも\n",
    "class RegretCalculator():\n",
    "    '\"EnvとAgentのヒストリーを踏まえて、期待リグレットを計算する。\"'\n",
    "    pass"
   ]
  },
  {
   "cell_type": "markdown",
   "metadata": {},
   "source": [
    "# To be continued in another kernel."
   ]
  },
  {
   "cell_type": "code",
   "execution_count": null,
   "metadata": {},
   "outputs": [],
   "source": []
  },
  {
   "cell_type": "code",
   "execution_count": null,
   "metadata": {},
   "outputs": [],
   "source": []
  }
 ],
 "metadata": {
  "kernelspec": {
   "display_name": "Python 3",
   "language": "python",
   "name": "python3"
  },
  "language_info": {
   "codemirror_mode": {
    "name": "ipython",
    "version": 3
   },
   "file_extension": ".py",
   "mimetype": "text/x-python",
   "name": "python",
   "nbconvert_exporter": "python",
   "pygments_lexer": "ipython3",
   "version": "3.7.4"
  }
 },
 "nbformat": 4,
 "nbformat_minor": 2
}
