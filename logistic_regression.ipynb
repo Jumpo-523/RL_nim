{
 "cells": [
  {
   "cell_type": "code",
   "execution_count": null,
   "metadata": {},
   "outputs": [],
   "source": [
    "import pandas as pd\n",
    "import numpy as np\n",
    "import random"
   ]
  },
  {
   "cell_type": "code",
   "execution_count": 2,
   "metadata": {},
   "outputs": [],
   "source": [
    "with open(\"./data/causal_inference.txt\", 'r') as f:\n",
    "    text = f.readlines()"
   ]
  },
  {
   "cell_type": "code",
   "execution_count": 3,
   "metadata": {},
   "outputs": [],
   "source": [
    "res = []\n",
    "for t in text:\n",
    "    res.append(list(map(int, t.strip('\\n').split(\" \")[:-1]))) # 最後空文字が入っている。\n",
    "#     print(t.strip('\\n').split(\" \")[:-1])"
   ]
  },
  {
   "cell_type": "markdown",
   "metadata": {},
   "source": [
    "# コロンビア大学で用いられているサンプルデータセット\n",
    "http://www.cs.columbia.edu/~jebara/6998/hw2.pdf\n",
    "\n",
    "- the 1st column is the chosen arm\n",
    "- the 2nd column is binary reward \n",
    "- the remaining columns are the context features."
   ]
  },
  {
   "cell_type": "code",
   "execution_count": 4,
   "metadata": {},
   "outputs": [],
   "source": [
    "ds = pd.DataFrame(res)\n",
    "ds.columns = [\"arm\", \"reward\"] + [f\"feat_{i}\" for i in range(100)]"
   ]
  },
  {
   "cell_type": "code",
   "execution_count": 5,
   "metadata": {},
   "outputs": [],
   "source": [
    "X = ds.loc[:, \"feat_0\":].values\n",
    "y = ds.loc[:, \"reward\"].values\n",
    "arms = ds.loc[:,\"arm\"].values"
   ]
  },
  {
   "cell_type": "code",
   "execution_count": 6,
   "metadata": {},
   "outputs": [],
   "source": [
    "import os, sys\n",
    "\n",
    "sys.path.append(\".\")"
   ]
  },
  {
   "cell_type": "code",
   "execution_count": 7,
   "metadata": {},
   "outputs": [],
   "source": [
    "from src.Arms import ContextualArms"
   ]
  },
  {
   "cell_type": "code",
   "execution_count": 8,
   "metadata": {},
   "outputs": [
    {
     "data": {
      "text/plain": [
       "2"
      ]
     },
     "execution_count": 8,
     "metadata": {},
     "output_type": "execute_result"
    }
   ],
   "source": [
    "import itertools, os\n",
    "ds.groupby(\"arm\").mean()[\"reward\"].idxmax()"
   ]
  },
  {
   "cell_type": "code",
   "execution_count": 9,
   "metadata": {},
   "outputs": [],
   "source": [
    "Arms = ContextualArms(n_action=10, max_n_sim=100, X=X, y=y,arms=arms, n_features=X.shape[1])"
   ]
  },
  {
   "cell_type": "code",
   "execution_count": 10,
   "metadata": {},
   "outputs": [
    {
     "data": {
      "text/plain": [
       "<src.Arms.ContextualArms at 0x1139e09d0>"
      ]
     },
     "execution_count": 10,
     "metadata": {},
     "output_type": "execute_result"
    }
   ],
   "source": [
    "Arms"
   ]
  },
  {
   "cell_type": "code",
   "execution_count": 11,
   "metadata": {},
   "outputs": [],
   "source": [
    "d = 100\n",
    "sigma=1; sigma_0=1\n",
    "A_inv =sigma_0/sigma * np.eye(d); A_inv\n",
    "b_t = np.zeros((d, 1))\n",
    "alpha = 0.05\n",
    "n_arms = 10\n",
    "n_sim = 10\n",
    "history = dict(chosen_arms=[],rewards=[])\n",
    "mu_hat = np.zeros((n_arms, 1))"
   ]
  },
  {
   "cell_type": "code",
   "execution_count": 12,
   "metadata": {},
   "outputs": [],
   "source": [
    "#  Thompson sampling アルゴリズム\n",
    "for t in range(1, n_sim):\n",
    "    # 3. draw_theta\n",
    "    theta = np.random.multivariate_normal(A_inv@b_t.flatten(), sigma**2*A_inv, size=1)\n",
    "    # 4. A[t]はa_itの転置ver\n",
    "    # 各アームの特徴量を引く\n",
    "    # shape : (10, 1, 100) 10 arms, (1, 100)の特徴量ベクトル\n",
    "    # 1次元目にアーム１から10までの特徴量を順番に格納している。\n",
    "    A_ = Arms.draw()\n",
    "    for i in range(n_arms):\n",
    "        mu_hat[i] = np.dot(A_[i].ravel(), theta.ravel())\n",
    "    i_star = mu_hat.argmax(0)[0]\n",
    "    history[\"chosen_arms\"].append(i_star)\n",
    "\n",
    "    #5. スコア最大の行動 i*　を選択して報酬を観測する。\n",
    "    reward = Arms.get_reward(index=i_star)\n",
    "    history[\"rewards\"].append(reward)\n",
    "    #6.  A-inverse/ bの更新をする。\n",
    "    second_term = (A_inv@A_[i_star].T@A_[i_star]@A_inv) / (1+A_[i_star]@A_inv@A_[i_star].T)\n",
    "    A_inv = A_inv - second_term\n",
    "    b_t += A_[i_star].T*reward    "
   ]
  },
  {
   "cell_type": "markdown",
   "metadata": {},
   "source": [
    "# Logit Regression\n",
    "\n",
    "- logit モデルは対数事後確率の勾配ベクトルから陽に（解析的に）$\\theta$を求めることが難しい。\n",
    "\n",
    "$- \\log\\pi (\\theta| \\{i(s), X(s)\\}^t_{s=1})$\n",
    "$\\displaystyle = \\frac{\\theta^T \\theta}{2\\sigma^2_0} + \\sum^T_{s=1}log(1+\\exp(\\theta^Ta_{i(s), s})) - \\sum^T_{s:X(s)=1}\\theta^Ta_{i(s), s} + Constants. $\n",
    "\n",
    "\n",
    "$G_t(\\theta) = - \\nabla\\log\\pi (\\theta| \\{i(s), X(s)\\}^t_{s=1})$\n",
    "$\\displaystyle = \\frac{\\theta}{2\\sigma^2_0} + \\sum^t_{s=1}\\frac{e^{\\theta^Ta_{i(s), s}}a_{i(s), s}}{(1+\\exp(\\theta^Ta_{i(s), s}))} - \\sum^T_{s:X(s)=1}a_{i(s), s}$\n",
    "\n",
    "- $G_t(\\theta) = 0が\\theta$について解けない\n",
    "\n",
    "\n",
    "- そこで、数値計算をする。ニュートン法を用いて、負の対数事後確率を$\\hat{\\theta}_{MAP}$の周りで２次近似すると、($G_t(\\hat{\\theta_{MAP}}) = 0$より)\n",
    "\n",
    "- 負の対数事後確率が多変量正規分布の負の対数ゆうどに近似される。これをLaplas近似というらしい。\n",
    "    - $\\theta_{MAP} \\sim N(\\hat{\\theta_{MAP}}, H_t(\\hat{\\theta_{MAP}})^{-1})$"
   ]
  },
  {
   "cell_type": "code",
   "execution_count": 13,
   "metadata": {},
   "outputs": [],
   "source": [
    "def component_logit_hessian(theta, arm_feature):\n",
    "    return np.exp(np.dot(theta.ravel(), arm_feature.ravel()))* arm_feature.T@arm_feature /(1+np.exp(np.dot(theta.ravel(), arm_feature.ravel())))**2\n",
    "def Hessian_inv(theta, Arms=None):\n",
    "    assert Arms is not None\n",
    "    hessian = np.eye(d)/sigma_0\n",
    "    # self.cum_matrix\n",
    "    # initial: self.cum_matrix = np.zeros((d, d))\n",
    "    for i in np.array(Arms.history_idx).flatten():\n",
    "        x, y = Arms[i]\n",
    "        hessian = hessian + component_logit_hessian(theta, x.reshape((1, -1)))\n",
    "    return np.linalg.inv(hessian)\n",
    "\n",
    "def Gradient(theta, sigma_0,  Arms):\n",
    "    '''gradients vector for logit based posterior probability.'''\n",
    "    first_term = theta/sigma_0\n",
    "    second_term = \n",
    "    "
   ]
  },
  {
   "cell_type": "code",
   "execution_count": 14,
   "metadata": {},
   "outputs": [],
   "source": [
    "# ロジスティックモデル上のトンプソン抽出\n",
    "# WRITE CODE\n",
    "# Newton method\n",
    "\n",
    "# 6. draw_theta\n",
    "theta = np.random.multivariate_normal(A_inv@b_t.flatten(), sigma**2*A_inv, size=1)\n",
    "# 各アームの特徴量を引く\n",
    "# shape : (10, 1, 100) 10 arms, (1, 100)の特徴量ベクトル\n",
    "# 1次元目にアーム１から10までの特徴量を順番に格納している。\n",
    "A_ = Arms.draw()\n",
    "for i in range(n_arms):\n",
    "    mu_hat[i] = np.dot(A_[i].ravel(), theta.ravel())\n",
    "i_star = mu_hat.argmax(0)[0]\n",
    "history.append(i_star)\n",
    "\n"
   ]
  },
  {
   "cell_type": "code",
   "execution_count": 16,
   "metadata": {},
   "outputs": [
    {
     "data": {
      "text/plain": [
       "[[4183], [7861], [1677], [3619], [3889], [7830], [9463], [9184], [8481]]"
      ]
     },
     "execution_count": 16,
     "metadata": {},
     "output_type": "execute_result"
    }
   ],
   "source": [
    "def newton_iteration(theta, Arms):\n",
    "    assert Arms is not None\n",
    "Arms.history_idx"
   ]
  },
  {
   "cell_type": "markdown",
   "metadata": {},
   "source": [
    "# Calculate Regrets."
   ]
  },
  {
   "cell_type": "code",
   "execution_count": null,
   "metadata": {},
   "outputs": [],
   "source": [
    "# 関数にするかも\n",
    "class RegretCalculator():\n",
    "    '\"EnvとAgentのヒストリーを踏まえて、期待リグレットを計算する。\"'\n",
    "    pass"
   ]
  },
  {
   "cell_type": "code",
   "execution_count": null,
   "metadata": {},
   "outputs": [],
   "source": []
  },
  {
   "cell_type": "code",
   "execution_count": null,
   "metadata": {},
   "outputs": [],
   "source": []
  },
  {
   "cell_type": "code",
   "execution_count": null,
   "metadata": {},
   "outputs": [],
   "source": []
  }
 ],
 "metadata": {
  "kernelspec": {
   "display_name": "Python 3",
   "language": "python",
   "name": "python3"
  },
  "language_info": {
   "codemirror_mode": {
    "name": "ipython",
    "version": 3
   },
   "file_extension": ".py",
   "mimetype": "text/x-python",
   "name": "python",
   "nbconvert_exporter": "python",
   "pygments_lexer": "ipython3",
   "version": "3.7.4"
  }
 },
 "nbformat": 4,
 "nbformat_minor": 2
}
